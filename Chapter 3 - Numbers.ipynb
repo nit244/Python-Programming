{
 "cells": [
  {
   "cell_type": "markdown",
   "metadata": {},
   "source": [
    "# Chapter 3 - Numbers"
   ]
  },
  {
   "cell_type": "markdown",
   "metadata": {},
   "source": [
    "## Ex 1"
   ]
  },
  {
   "cell_type": "code",
   "execution_count": 5,
   "metadata": {},
   "outputs": [
    {
     "name": "stdout",
     "output_type": "stream",
     "text": [
      "3 4 4 5 5 3 5 4 4 3 6 5 5 4 3 6 5 5 3 6 6 5 6 6 3 5 3 4 6 5 3 5 4 4 3 3 3 3 6 5 6 6 3 3 3 5 3 4 6 3 "
     ]
    }
   ],
   "source": [
    "from random import randint\n",
    "for i in range(50):\n",
    "    print(randint(3,6), end = ' ')"
   ]
  },
  {
   "cell_type": "markdown",
   "metadata": {},
   "source": [
    "## Ex 2"
   ]
  },
  {
   "cell_type": "code",
   "execution_count": 6,
   "metadata": {},
   "outputs": [
    {
     "name": "stdout",
     "output_type": "stream",
     "text": [
      "x = 5, y = 5, x^y = 3125\n"
     ]
    }
   ],
   "source": [
    "x = randint(1,50)\n",
    "y = randint(2,5)\n",
    "\n",
    "print(\"x = %g, y = %g, x^y = %g\"%(x,y,x**y))"
   ]
  },
  {
   "cell_type": "markdown",
   "metadata": {},
   "source": [
    "## Ex 3"
   ]
  },
  {
   "cell_type": "code",
   "execution_count": 16,
   "metadata": {},
   "outputs": [
    {
     "name": "stdout",
     "output_type": "stream",
     "text": [
      "Name Name Name Name Name \n"
     ]
    }
   ],
   "source": [
    "x = randint(1,10)\n",
    "print(\"Name \"* x)"
   ]
  },
  {
   "cell_type": "markdown",
   "metadata": {},
   "source": [
    "## Ex 4"
   ]
  },
  {
   "cell_type": "code",
   "execution_count": 41,
   "metadata": {},
   "outputs": [
    {
     "name": "stdout",
     "output_type": "stream",
     "text": [
      "9.02\n"
     ]
    }
   ],
   "source": [
    "x = randint(1,9)\n",
    "y = randint(0,99)\n",
    "if y<10:\n",
    "    print(x,'.0', y, sep='')\n",
    "else:\n",
    "    print(x,'.',y, sep = '')"
   ]
  },
  {
   "cell_type": "markdown",
   "metadata": {},
   "source": [
    "## Ex 5"
   ]
  },
  {
   "cell_type": "code",
   "execution_count": 43,
   "metadata": {},
   "outputs": [
    {
     "name": "stdout",
     "output_type": "stream",
     "text": [
      "1 3 3 3 5 1 1 5 6 11 4 9 5 9 9 11 6 2 9 6 1 15 10 24 14 25 18 15 19 1 13 24 24 21 27 25 29 1 27 30 16 22 33 19 43 47 42 41 6 12 "
     ]
    }
   ],
   "source": [
    "for i in range(50):\n",
    "    print(randint(1,i+2), end = ' ')"
   ]
  },
  {
   "cell_type": "markdown",
   "metadata": {},
   "source": [
    "## Ex 6"
   ]
  },
  {
   "cell_type": "code",
   "execution_count": 45,
   "metadata": {},
   "outputs": [
    {
     "name": "stdout",
     "output_type": "stream",
     "text": [
      "x = 1\n",
      "y = 2\n",
      "0.3333333333333333\n"
     ]
    }
   ],
   "source": [
    "x = int(input(\"x = \"))\n",
    "y = int(input(\"y = \"))\n",
    "exp = abs(x-y)/(x+y)\n",
    "print(exp)"
   ]
  },
  {
   "cell_type": "markdown",
   "metadata": {},
   "source": [
    "## Ex 7"
   ]
  },
  {
   "cell_type": "code",
   "execution_count": 56,
   "metadata": {},
   "outputs": [
    {
     "name": "stdout",
     "output_type": "stream",
     "text": [
      "enter an angle between -180 and 180 :157\n",
      "Angle is  157\n"
     ]
    }
   ],
   "source": [
    "angle = int(input(\"enter an angle between -180 and 180 :\"))\n",
    "if angle < 0:\n",
    "    angle = 360 - abs(angle)\n",
    "else:\n",
    "    angle = angle\n",
    "print(\"Angle is \",angle)"
   ]
  },
  {
   "cell_type": "markdown",
   "metadata": {},
   "source": [
    "## Ex 8"
   ]
  },
  {
   "cell_type": "code",
   "execution_count": 57,
   "metadata": {},
   "outputs": [
    {
     "name": "stdout",
     "output_type": "stream",
     "text": [
      "Enter the number of seconds :75\n",
      "1 mins, 15 seconds\n"
     ]
    }
   ],
   "source": [
    "sec = int(input(\"Enter the number of seconds :\"))\n",
    "min1 = sec // 60\n",
    "sec = sec % 60\n",
    "print(\"%g mins, %g seconds\"%(min1, sec))"
   ]
  },
  {
   "cell_type": "markdown",
   "metadata": {},
   "source": [
    "## Ex 9"
   ]
  },
  {
   "cell_type": "code",
   "execution_count": 60,
   "metadata": {},
   "outputs": [
    {
     "name": "stdout",
     "output_type": "stream",
     "text": [
      "Enter hour: 10\n",
      "How many hours ahead? 8\n",
      "New hour : 6 o'clock.\n"
     ]
    }
   ],
   "source": [
    "hrs = int(input(\"Enter hour: \"))\n",
    "hrsAhead = int(input(\"How many hours ahead? \"))\n",
    "newHrs = (hrs + hrsAhead)%12\n",
    "print(\"New hour : %g o'clock.\"%newHrs)"
   ]
  },
  {
   "cell_type": "markdown",
   "metadata": {},
   "source": [
    "## Ex 10a"
   ]
  },
  {
   "cell_type": "code",
   "execution_count": 63,
   "metadata": {},
   "outputs": [
    {
     "name": "stdout",
     "output_type": "stream",
     "text": [
      "Enter the power :9\n",
      "last digit of number 512 is 2 \n"
     ]
    }
   ],
   "source": [
    "power = int(input(\"Enter the power :\"))\n",
    "num = 2**power\n",
    "lastDig = num % 10\n",
    "print(\"last digit of number %g is %g \"%(num, lastDig))"
   ]
  },
  {
   "cell_type": "markdown",
   "metadata": {},
   "source": [
    "## Ex 10b"
   ]
  },
  {
   "cell_type": "code",
   "execution_count": 64,
   "metadata": {},
   "outputs": [
    {
     "name": "stdout",
     "output_type": "stream",
     "text": [
      "Enter the power :9\n",
      "last digit of number 512 is 12 \n"
     ]
    }
   ],
   "source": [
    "power = int(input(\"Enter the power :\"))\n",
    "num = 2**power\n",
    "last2Dig = num % 100\n",
    "print(\"last digit of number %g is %g \"%(num, last2Dig))"
   ]
  },
  {
   "cell_type": "markdown",
   "metadata": {},
   "source": [
    "## Ex 10c"
   ]
  },
  {
   "cell_type": "code",
   "execution_count": 73,
   "metadata": {},
   "outputs": [
    {
     "name": "stdout",
     "output_type": "stream",
     "text": [
      "Enter the power :10\n",
      "Enter how many last digits?3\n",
      "last digit of number 1024 is 024 \n"
     ]
    }
   ],
   "source": [
    "power = int(input(\"Enter the power :\"))\n",
    "n = int(input(\"Enter how many last digits?\"))\n",
    "num = 2**power\n",
    "lastnDig = num % 10**n\n",
    "count = 0\n",
    "l = lastnDig\n",
    "while l !=0:\n",
    "    l = l // 10\n",
    "    count +=1\n",
    "if count == n:\n",
    "    lastnDig = str(lastnDig)\n",
    "else:\n",
    "    lastnDig = '0' + str(lastnDig)\n",
    "    \n",
    "print(\"last digit of number %s is %s \"%(num, lastnDig))"
   ]
  },
  {
   "cell_type": "markdown",
   "metadata": {},
   "source": [
    "## Ex 11"
   ]
  },
  {
   "cell_type": "code",
   "execution_count": 75,
   "metadata": {},
   "outputs": [
    {
     "name": "stdout",
     "output_type": "stream",
     "text": [
      "Enter weight in kg :13.23\n",
      "Weight in pound for 13.23 kg. is 29.11\n"
     ]
    }
   ],
   "source": [
    "weightKg = float(input(\"Enter weight in kg :\"))\n",
    "weightPound = weightKg * 2.2\n",
    "print(\"Weight in pound for %g kg. is %g\"%(weightKg,round(weightPound,2)))"
   ]
  },
  {
   "cell_type": "markdown",
   "metadata": {},
   "source": [
    "## Ex 12"
   ]
  },
  {
   "cell_type": "code",
   "execution_count": 78,
   "metadata": {},
   "outputs": [
    {
     "name": "stdout",
     "output_type": "stream",
     "text": [
      "Enter a number :5\n",
      "Factorial of 5 is 120\n"
     ]
    }
   ],
   "source": [
    "num = int(input(\"Enter a number :\")) \n",
    "factorial = 1\n",
    "for i in range(num,1,-1):\n",
    "    factorial = factorial * i\n",
    "print(\"Factorial of %g is %g\"%(num, factorial))"
   ]
  },
  {
   "cell_type": "markdown",
   "metadata": {},
   "source": [
    "## Ex 13"
   ]
  },
  {
   "cell_type": "code",
   "execution_count": 101,
   "metadata": {},
   "outputs": [
    {
     "name": "stdout",
     "output_type": "stream",
     "text": [
      "Enter a number :1\n",
      "For number 1 sin= 0.841471, cosine= 0.540302, tan= 1.55741.\n"
     ]
    }
   ],
   "source": [
    "from math import *\n",
    "num = int(input(\"Enter a number :\"))\n",
    "sin = sin(num)\n",
    "cosine = cos(num)\n",
    "tan = tan(num)\n",
    "print(\"For number %g sin= %g, cosine= %g, tan= %g.\"%(num, sin, cosine,tan))"
   ]
  },
  {
   "cell_type": "markdown",
   "metadata": {},
   "source": [
    "## Ex 14"
   ]
  },
  {
   "cell_type": "code",
   "execution_count": 108,
   "metadata": {},
   "outputs": [
    {
     "name": "stdout",
     "output_type": "stream",
     "text": [
      "Enter the angle degree  :30\n",
      "sin(30) = 0.5\n"
     ]
    }
   ],
   "source": [
    "from math import *\n",
    "angle = int(input(\"Enter the angle degree  :\"))\n",
    "angle1 = angle * pi/180 \n",
    "sin1 = sin(angle1)\n",
    "print(\"sin(%g) = %g\"%(angle,sin1))"
   ]
  },
  {
   "cell_type": "markdown",
   "metadata": {},
   "source": [
    "## Ex 15"
   ]
  },
  {
   "cell_type": "code",
   "execution_count": 115,
   "metadata": {},
   "outputs": [
    {
     "name": "stdout",
     "output_type": "stream",
     "text": [
      "\tangle\tsin(angle)\tcos(angle)\n",
      "\t0\t0\t\t1\n",
      "\t15\t0.258819\t\t0.965926\n",
      "\t30\t0.5\t\t0.866025\n",
      "\t45\t0.707107\t\t0.707107\n",
      "\t60\t0.866025\t\t0.5\n",
      "\t75\t0.965926\t\t0.258819\n",
      "\t90\t1\t\t6.12323e-17\n",
      "\t105\t0.965926\t\t-0.258819\n",
      "\t120\t0.866025\t\t-0.5\n",
      "\t135\t0.707107\t\t-0.707107\n",
      "\t150\t0.5\t\t-0.866025\n",
      "\t165\t0.258819\t\t-0.965926\n",
      "\t180\t1.22465e-16\t\t-1\n",
      "\t195\t-0.258819\t\t-0.965926\n",
      "\t210\t-0.5\t\t-0.866025\n",
      "\t225\t-0.707107\t\t-0.707107\n",
      "\t240\t-0.866025\t\t-0.5\n",
      "\t255\t-0.965926\t\t-0.258819\n",
      "\t270\t-1\t\t-1.83697e-16\n",
      "\t285\t-0.965926\t\t0.258819\n",
      "\t300\t-0.866025\t\t0.5\n",
      "\t315\t-0.707107\t\t0.707107\n",
      "\t330\t-0.5\t\t0.866025\n",
      "\t345\t-0.258819\t\t0.965926\n",
      "\t360\t-2.44929e-16\t\t1\n"
     ]
    }
   ],
   "source": [
    "from math import *\n",
    "print(\"\\tangle\\tsin(angle)\\tcos(angle)\")\n",
    "for angle in range(0,366,15):\n",
    "    print(\"\\t%g\\t%g\\t\\t%g\"%(angle, sin(angle * pi/180 ), cos(angle * pi/180 )))"
   ]
  },
  {
   "cell_type": "markdown",
   "metadata": {},
   "source": [
    "## Ex 16"
   ]
  },
  {
   "cell_type": "code",
   "execution_count": 128,
   "metadata": {},
   "outputs": [
    {
     "name": "stdout",
     "output_type": "stream",
     "text": [
      "Enter the year(all four digits) :1900\n",
      "Easter is on April 15\n"
     ]
    }
   ],
   "source": [
    "from math import *\n",
    "c = 19\n",
    "y = int(input(\"Enter the year(all four digits) :\"))\n",
    "\n",
    "m = (15 + c - floor(c/4) - floor((8*c+13)/25)) % 30\n",
    "n = (4 + c - floor(c/4)) % 7\n",
    "a = y % 4\n",
    "b = y % 7\n",
    "c = y % 19\n",
    "d = (19*c + m) % 30\n",
    "e = (2*a + 4*b + 6*d + n) % 7\n",
    "if 22+d+e >31 or 22+d+e <0:\n",
    "    print(\"Easter is on April %g\"%(d+e-9))\n",
    "else:\n",
    "    print(\"Easter is on March %g \"%(22+d+e))\n"
   ]
  },
  {
   "cell_type": "markdown",
   "metadata": {},
   "source": [
    "## Ex 17"
   ]
  },
  {
   "cell_type": "code",
   "execution_count": 130,
   "metadata": {},
   "outputs": [
    {
     "name": "stdout",
     "output_type": "stream",
     "text": [
      "Enter the year :1650\n",
      "1600\n",
      "1604\n",
      "1608\n",
      "1612\n",
      "1616\n",
      "1620\n",
      "1624\n",
      "1628\n",
      "1632\n",
      "1636\n",
      "1640\n",
      "1644\n",
      "1648\n"
     ]
    }
   ],
   "source": [
    "year = int(input(\"Enter the year :\"))\n",
    "for yr in range(1600,year+1):\n",
    "    if (yr%4==0 and yr%100 !=0 ) or yr%400==0:\n",
    "        print(yr)\n",
    "   "
   ]
  },
  {
   "cell_type": "markdown",
   "metadata": {},
   "source": [
    "## Ex 18"
   ]
  },
  {
   "cell_type": "code",
   "execution_count": 131,
   "metadata": {},
   "outputs": [
    {
     "name": "stdout",
     "output_type": "stream",
     "text": [
      "Please enter an amount between 0-99:33\n",
      "1 quarters\n",
      "0 dimes\n",
      "1 nickles\n",
      "3 pennies\n"
     ]
    }
   ],
   "source": [
    "c=int(input('Please enter an amount between 0-99:'))\n",
    "print(c//25, \"quarters\")\n",
    "c = c%25\n",
    "print(c//10, \"dimes\")\n",
    "c = c%10\n",
    "print(c//5, \"nickles\")\n",
    "c = c%5\n",
    "print(c//1, \"pennies\")"
   ]
  },
  {
   "cell_type": "markdown",
   "metadata": {},
   "source": [
    "## Ex 19"
   ]
  },
  {
   "cell_type": "code",
   "execution_count": 141,
   "metadata": {},
   "outputs": [
    {
     "name": "stdout",
     "output_type": "stream",
     "text": [
      "Enter the height : 4\n",
      "Enter the width : 8\n",
      "\n",
      "\n",
      "0 1 2 3 4 5 6 7 \n",
      "\n",
      "8 9 0 1 2 3 4 5 \n",
      "\n",
      "6 7 8 9 0 1 2 3 \n",
      "\n",
      "4 5 6 7 8 9 0 1 "
     ]
    }
   ],
   "source": [
    "height = int(input(\"Enter the height : \"))\n",
    "width = int(input(\"Enter the width : \"))\n",
    "start = 0\n",
    "for i in range(height):\n",
    "    print(\"\\n\")\n",
    "    for j in range(width):\n",
    "        print(start%10, end =\" \")\n",
    "        start +=1"
   ]
  },
  {
   "cell_type": "code",
   "execution_count": null,
   "metadata": {},
   "outputs": [],
   "source": []
  }
 ],
 "metadata": {
  "kernelspec": {
   "display_name": "Python 3",
   "language": "python",
   "name": "python3"
  },
  "language_info": {
   "codemirror_mode": {
    "name": "ipython",
    "version": 3
   },
   "file_extension": ".py",
   "mimetype": "text/x-python",
   "name": "python",
   "nbconvert_exporter": "python",
   "pygments_lexer": "ipython3",
   "version": "3.7.3"
  }
 },
 "nbformat": 4,
 "nbformat_minor": 2
}
