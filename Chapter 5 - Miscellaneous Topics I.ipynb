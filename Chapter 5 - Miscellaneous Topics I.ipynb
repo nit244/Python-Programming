{
 "cells": [
  {
   "cell_type": "markdown",
   "metadata": {},
   "source": [
    "# Chapter 5 - Miscellaneous Topics I"
   ]
  },
  {
   "cell_type": "markdown",
   "metadata": {},
   "source": [
    "## Ex 1"
   ]
  },
  {
   "cell_type": "code",
   "execution_count": 3,
   "metadata": {},
   "outputs": [
    {
     "name": "stdout",
     "output_type": "stream",
     "text": [
      "10\n"
     ]
    }
   ],
   "source": [
    "count = 0\n",
    "while count**2 < 100:\n",
    "    count += 1\n",
    "    \n",
    "print(count)\n",
    "    "
   ]
  },
  {
   "cell_type": "markdown",
   "metadata": {},
   "source": [
    "## Ex 2"
   ]
  },
  {
   "cell_type": "code",
   "execution_count": 1,
   "metadata": {},
   "outputs": [
    {
     "name": "stdout",
     "output_type": "stream",
     "text": [
      "square of numbers end with 4 is 2\n",
      "square of numbers end with 9 is 2\n"
     ]
    }
   ],
   "source": [
    "four = 0\n",
    "nine = 0\n",
    "sq = 0\n",
    "while sq**2 < 100:\n",
    "    if (sq**2)%10 == 4:\n",
    "        four += 1\n",
    "    if (sq**2)%10 == 9:\n",
    "        nine += 1\n",
    "    sq += 1\n",
    "print(\"square of numbers end with 4 is %g\"%four)\n",
    "print(\"square of numbers end with 9 is %g\"%nine)    \n",
    "    "
   ]
  },
  {
   "cell_type": "markdown",
   "metadata": {},
   "source": [
    "## Ex 3"
   ]
  },
  {
   "cell_type": "code",
   "execution_count": 8,
   "metadata": {},
   "outputs": [
    {
     "name": "stdout",
     "output_type": "stream",
     "text": [
      "Enter a number :2\n",
      "0.8068528194400547\n"
     ]
    }
   ],
   "source": [
    "from math import *\n",
    "sum1 = 0\n",
    "num = int(input(\"Enter a number :\"))\n",
    "for i in range(1,num+1):\n",
    "    sum1 = (sum1 + 1/i)\n",
    "exp = sum1 - log(num)\n",
    "print(exp)"
   ]
  },
  {
   "cell_type": "markdown",
   "metadata": {},
   "source": [
    "## Ex 4"
   ]
  },
  {
   "cell_type": "code",
   "execution_count": 9,
   "metadata": {},
   "outputs": [
    {
     "name": "stdout",
     "output_type": "stream",
     "text": [
      "-1000\n"
     ]
    }
   ],
   "source": [
    "sum1 = 0\n",
    "for i in range(1,2001):\n",
    "    if i%2==0:\n",
    "        sum1 = sum1 -i\n",
    "    else:\n",
    "        sum1 = sum1 + i\n",
    "print(sum1)\n",
    "    "
   ]
  },
  {
   "cell_type": "markdown",
   "metadata": {},
   "source": [
    "## Ex 5"
   ]
  },
  {
   "cell_type": "code",
   "execution_count": 11,
   "metadata": {},
   "outputs": [
    {
     "name": "stdout",
     "output_type": "stream",
     "text": [
      "Enter a number :3\n",
      "4\n"
     ]
    }
   ],
   "source": [
    "num = int(input(\"Enter a number :\"))\n",
    "sum1 =0\n",
    "for i in range(1,num+1):\n",
    "    if num%i == 0:\n",
    "        sum1 = sum1 + i\n",
    "print(sum1)"
   ]
  },
  {
   "cell_type": "markdown",
   "metadata": {},
   "source": [
    "## Ex 6"
   ]
  },
  {
   "cell_type": "code",
   "execution_count": 14,
   "metadata": {},
   "outputs": [
    {
     "name": "stdout",
     "output_type": "stream",
     "text": [
      "Enter a number :28\n",
      "28 is a perfect number.\n"
     ]
    }
   ],
   "source": [
    "num = int(input(\"Enter a number :\"))\n",
    "sum1 =0\n",
    "for i in range(1,num):\n",
    "    if num%i == 0:\n",
    "        sum1 = sum1 + i\n",
    "if sum1 == num:\n",
    "    print(\"%g is a perfect number.\"%num)\n",
    "else:\n",
    "    print(\"%g is a not perfect number.\"%num)"
   ]
  },
  {
   "cell_type": "markdown",
   "metadata": {},
   "source": [
    "## Ex 7"
   ]
  },
  {
   "cell_type": "code",
   "execution_count": 30,
   "metadata": {},
   "outputs": [
    {
     "name": "stdout",
     "output_type": "stream",
     "text": [
      "Enter a number :42\n",
      "42 is squarefree.\n"
     ]
    }
   ],
   "source": [
    "num = int(input(\"Enter a number :\"))\n",
    "flag = 0\n",
    "for i in range(2,num+1):\n",
    "    if num%i == 0 and int(sqrt(i)) != sqrt(i):\n",
    "        flag =1\n",
    "    else:\n",
    "        flag = 0\n",
    "    break\n",
    "if flag == 1:\n",
    "    print(\"%g is squarefree.\"%num)\n",
    "else:\n",
    "    print(\"%g is not squarefree.\"%num)\n"
   ]
  },
  {
   "cell_type": "markdown",
   "metadata": {},
   "source": [
    "## Ex 8"
   ]
  },
  {
   "cell_type": "code",
   "execution_count": 36,
   "metadata": {},
   "outputs": [
    {
     "name": "stdout",
     "output_type": "stream",
     "text": [
      "Before Swap: x=1, y=2, z=3\n",
      "After Swap: x=2, y=3, z=1\n"
     ]
    }
   ],
   "source": [
    "x = 1\n",
    "y = 2\n",
    "z = 3\n",
    "print(\"Before Swap: x=%g, y=%g, z=%g\"%(x,y,z))\n",
    "x, y, z = y, z, x\n",
    "print(\"After Swap: x=%g, y=%g, z=%g\"%(x,y,z))"
   ]
  },
  {
   "cell_type": "markdown",
   "metadata": {},
   "source": [
    "## Ex 9"
   ]
  },
  {
   "cell_type": "code",
   "execution_count": 40,
   "metadata": {},
   "outputs": [
    {
     "name": "stdout",
     "output_type": "stream",
     "text": [
      "Count of numbers not perfect squares, perfect cubes, or perfect fifth powers between 1 and 1000 is 970. \n"
     ]
    }
   ],
   "source": [
    "count = 0\n",
    "for i in range(1,1001):\n",
    "    if int(i**(1/2)) != i**(1/2) or int(i**(1/3)) == i**(1/3) or int(i**(1/5)) == i**(1/5):\n",
    "        count += 1\n",
    "print(\"Count of numbers not perfect squares, perfect cubes, or perfect fifth powers between 1 and 1000 is %g. \"%count)"
   ]
  },
  {
   "cell_type": "markdown",
   "metadata": {},
   "source": [
    "## Ex 10"
   ]
  },
  {
   "cell_type": "code",
   "execution_count": 39,
   "metadata": {},
   "outputs": [
    {
     "name": "stdout",
     "output_type": "stream",
     "text": [
      "Enter a number :1\n",
      "Enter a number :2\n",
      "Enter a number :3\n",
      "Enter a number :4\n",
      "Enter a number :5\n",
      "Enter a number :6\n",
      "Enter a number :7\n",
      "Enter a number :8\n",
      "Enter a number :9\n",
      "Enter a number :101\n",
      "\n",
      "\n",
      "Largest number is 101\n",
      "Smallest number is 1\n",
      "Average score is 14.6\n",
      "Second largest number is 9\n",
      "A value over 100 has been entered.\n",
      "Average after dropping tow lowest numbers is 17.875\n"
     ]
    }
   ],
   "source": [
    "flag = 0\n",
    "largest = int(input(\"Enter a number :\"))\n",
    "sec_largest = largest\n",
    "smallest = largest\n",
    "sum1 = largest\n",
    "sec_smallest = largest\n",
    "if largest > 100:\n",
    "    flag = 1\n",
    "for i in range(9):\n",
    "    num = int(input(\"Enter a number :\"))\n",
    "    if num > 100:\n",
    "        flag = 1\n",
    "    sum1 = sum1 + num\n",
    "    if largest > num:\n",
    "        if sec_largest > num:\n",
    "            if sec_largest == largest:\n",
    "                sec_largest = num\n",
    "            else:\n",
    "                sec_largest = sec_largest\n",
    "        else:\n",
    "            sec_largest = num\n",
    "        largest = largest\n",
    "    else:\n",
    "        sec_largest = largest\n",
    "        largest = num\n",
    "    if smallest < num:\n",
    "        if sec_smallest < num:\n",
    "            if sec_smallest == smallest:\n",
    "                sec_smallest = num\n",
    "            else:\n",
    "                sec_smallest = sec_smallest\n",
    "        else:\n",
    "            sec_smallest = num\n",
    "        smallest = smallest\n",
    "    else:\n",
    "        sec_smallest = smallest\n",
    "        smallest = num\n",
    "print(\"\\n\")\n",
    "print(\"Largest number is %g\"%largest)\n",
    "print(\"Smallest number is %g\"%smallest)\n",
    "print(\"Average score is %g\"%(sum1/10))\n",
    "print(\"Second largest number is %g\"%sec_largest)\n",
    "if flag == 1:\n",
    "    print(\"A value over 100 has been entered.\")\n",
    "print(\"Average after dropping tow lowest numbers is %g\"%((sum1 -smallest-sec_smallest)/8))\n"
   ]
  },
  {
   "cell_type": "markdown",
   "metadata": {},
   "source": [
    "## Ex 11"
   ]
  },
  {
   "cell_type": "code",
   "execution_count": 42,
   "metadata": {},
   "outputs": [
    {
     "name": "stdout",
     "output_type": "stream",
     "text": [
      "Enter a number :5\n",
      "Factorial of 5 is 120\n"
     ]
    }
   ],
   "source": [
    "prd = 1\n",
    "num = int(input(\"Enter a number :\"))\n",
    "for i in range(num,0,-1):\n",
    "    prd = prd * i\n",
    "print(\"Factorial of %g is %g\"%(num, prd))"
   ]
  },
  {
   "cell_type": "markdown",
   "metadata": {},
   "source": [
    "## Ex 12"
   ]
  },
  {
   "cell_type": "code",
   "execution_count": 46,
   "metadata": {},
   "outputs": [
    {
     "name": "stdout",
     "output_type": "stream",
     "text": [
      "Enter your guess :4\n",
      "Enter your guess :4\n",
      "Enter your guess :4\n",
      "Enter your guess :4\n",
      "Enter your guess :4\n",
      "Your score is 17\n"
     ]
    }
   ],
   "source": [
    "from random import randint\n",
    "score = 0\n",
    "for i in range(5):\n",
    "    num = randint(1,10)\n",
    "    guess = int(input(\"Enter your guess :\"))\n",
    "    if num == guess:\n",
    "        score +=10\n",
    "    else:\n",
    "        score -=1\n",
    "print(\"Your score is %g\"%score)"
   ]
  },
  {
   "cell_type": "markdown",
   "metadata": {},
   "source": [
    "## Ex 13"
   ]
  },
  {
   "cell_type": "code",
   "execution_count": 48,
   "metadata": {},
   "outputs": [
    {
     "data": {
      "text/latex": [
       "$\\displaystyle 4 \\times 9 =$"
      ],
      "text/plain": [
       "<IPython.core.display.Math object>"
      ]
     },
     "metadata": {},
     "output_type": "display_data"
    },
    {
     "name": "stdout",
     "output_type": "stream",
     "text": [
      "2\n",
      "Wrong!!!\n",
      "\n"
     ]
    },
    {
     "data": {
      "text/latex": [
       "$\\displaystyle 6 \\times 9 =$"
      ],
      "text/plain": [
       "<IPython.core.display.Math object>"
      ]
     },
     "metadata": {},
     "output_type": "display_data"
    },
    {
     "name": "stdout",
     "output_type": "stream",
     "text": [
      "2\n",
      "Wrong!!!\n",
      "\n"
     ]
    },
    {
     "data": {
      "text/latex": [
       "$\\displaystyle 8 \\times 1 =$"
      ],
      "text/plain": [
       "<IPython.core.display.Math object>"
      ]
     },
     "metadata": {},
     "output_type": "display_data"
    },
    {
     "name": "stdout",
     "output_type": "stream",
     "text": [
      "2\n",
      "Wrong!!!\n",
      "\n"
     ]
    },
    {
     "data": {
      "text/latex": [
       "$\\displaystyle 2 \\times 7 =$"
      ],
      "text/plain": [
       "<IPython.core.display.Math object>"
      ]
     },
     "metadata": {},
     "output_type": "display_data"
    },
    {
     "name": "stdout",
     "output_type": "stream",
     "text": [
      "2\n",
      "Wrong!!!\n",
      "\n"
     ]
    },
    {
     "data": {
      "text/latex": [
       "$\\displaystyle 9 \\times 5 =$"
      ],
      "text/plain": [
       "<IPython.core.display.Math object>"
      ]
     },
     "metadata": {},
     "output_type": "display_data"
    },
    {
     "name": "stdout",
     "output_type": "stream",
     "text": [
      "4\n",
      "Wrong!!!\n",
      "\n",
      "You got 0 correct answers.\n"
     ]
    }
   ],
   "source": [
    "from random import randint\n",
    "from IPython.display import display, Math\n",
    "import sympy as sym\n",
    "right = 0\n",
    "for i in range(5):\n",
    "    num1 = randint(1,9)\n",
    "    num2 = randint(1,9)\n",
    "    result = num1 * num2\n",
    "    display(Math('%g \\\\times %g ='%(num1, num2)))\n",
    "    ans = int(input())\n",
    "    if ans == result:\n",
    "        print(\"Right!!!\\n\")\n",
    "        right +=1\n",
    "    else:\n",
    "        print(\"Wrong!!!\\n\")\n",
    "print(\"You got %g correct answers.\"%right)"
   ]
  },
  {
   "cell_type": "markdown",
   "metadata": {},
   "source": [
    "## Ex 14a"
   ]
  },
  {
   "cell_type": "code",
   "execution_count": 68,
   "metadata": {},
   "outputs": [
    {
     "name": "stdout",
     "output_type": "stream",
     "text": [
      "switching? yes/no : no\n",
      "percent = 34.75%\n"
     ]
    }
   ],
   "source": [
    "from random import randint\n",
    "\n",
    "door1 = 1 #goat\n",
    "door2 = 2 #prize\n",
    "door3 = 3 #goat\n",
    "\n",
    "\n",
    "change = input(\"switching? yes/no : \")\n",
    "if change == 'no':\n",
    "    points1 = 0\n",
    "    for i in range(2000):\n",
    "        choose1 = randint(1,3)\n",
    "        if choose1 == door2:\n",
    "            points1 +=1\n",
    "        else:\n",
    "            points1 = points1 \n",
    "    \n",
    "    percent = points1/2000*100\n",
    "    print('percent = %g'%round(percent,2),'%', sep ='')\n",
    "else:\n",
    "    points1 = 0\n",
    "    for i in range(2000):\n",
    "        choose1 = randint(1,3)\n",
    "        if choose1 == door2:\n",
    "            points1 = points1  \n",
    "        else:\n",
    "            points1 += 1\n",
    "    \n",
    "    percent = points1/2000*100\n",
    "    print('percent = %g'%round(percent,2), '%', sep ='')\n",
    "    "
   ]
  },
  {
   "cell_type": "markdown",
   "metadata": {},
   "source": [
    "## Ex 14b"
   ]
  },
  {
   "cell_type": "code",
   "execution_count": 66,
   "metadata": {},
   "outputs": [
    {
     "name": "stdout",
     "output_type": "stream",
     "text": [
      "switching? yes/no : yes\n",
      "percent = 75.4%\n"
     ]
    }
   ],
   "source": [
    "from random import randint\n",
    "\n",
    "door1 = 1 #goat\n",
    "door2 = 2 #prize\n",
    "door3 = 3 #goat\n",
    "door4 = 4 #goat\n",
    "\n",
    "\n",
    "change = input(\"switching? yes/no : \")\n",
    "if change == 'no':\n",
    "    points1 = 0\n",
    "    for i in range(1000):\n",
    "        choose1 = randint(1,4)\n",
    "        if choose1 == door2:\n",
    "            points1 +=1\n",
    "        else:\n",
    "            points1 = points1 \n",
    "    \n",
    "    percent = points1/1000*100\n",
    "    print('percent = %g'%round(percent,2))\n",
    "else:\n",
    "    points1 = 0\n",
    "    for i in range(1000):\n",
    "        choose1 = randint(1,4)\n",
    "        if choose1 == door2:\n",
    "            points1 = points1\n",
    "        else:\n",
    "            points1 += 1 \n",
    "    \n",
    "    percent = points1/1000*100\n",
    "    print('percent = %g'%round(percent,2), '%', sep ='')\n",
    "    "
   ]
  },
  {
   "cell_type": "code",
   "execution_count": null,
   "metadata": {},
   "outputs": [],
   "source": []
  },
  {
   "cell_type": "code",
   "execution_count": null,
   "metadata": {},
   "outputs": [],
   "source": []
  }
 ],
 "metadata": {
  "kernelspec": {
   "display_name": "Python 3",
   "language": "python",
   "name": "python3"
  },
  "language_info": {
   "codemirror_mode": {
    "name": "ipython",
    "version": 3
   },
   "file_extension": ".py",
   "mimetype": "text/x-python",
   "name": "python",
   "nbconvert_exporter": "python",
   "pygments_lexer": "ipython3",
   "version": "3.7.3"
  }
 },
 "nbformat": 4,
 "nbformat_minor": 2
}
