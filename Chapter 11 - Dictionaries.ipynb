{
 "cells": [
  {
   "cell_type": "markdown",
   "metadata": {},
   "source": [
    "# Chapter 11 - Dictionaries"
   ]
  },
  {
   "cell_type": "markdown",
   "metadata": {},
   "source": [
    "## Ex 1"
   ]
  },
  {
   "cell_type": "code",
   "execution_count": 23,
   "metadata": {},
   "outputs": [
    {
     "name": "stdout",
     "output_type": "stream",
     "text": [
      "Enter product or -1 to stop : apple\n",
      "Enter price : 100\n",
      "Enter product or -1 to stop : orange\n",
      "Enter price : 80\n",
      "Enter product or -1 to stop : mango\n",
      "Enter price : 120\n",
      "Enter product or -1 to stop : -1\n",
      "Enter a product to retrive or -1 to stop : mango\n",
      "The product is 120.0\n",
      "Enter a product to retrive or -1 to stop : apple\n",
      "The product is 100.0\n",
      "Enter a product to retrive or -1 to stop : banana\n",
      "Not in dictionary\n",
      "Enter a product to retrive or -1 to stop : orange\n",
      "The product is 80.0\n",
      "Enter a product to retrive or -1 to stop : -1\n"
     ]
    }
   ],
   "source": [
    "product = input(\"Enter product or -1 to stop : \")\n",
    "\n",
    "products = []\n",
    "while product != '-1':\n",
    "    price = float(input(\"Enter price : \"))\n",
    "    products.append((product,price))\n",
    "    product = input(\"Enter product or -1 to stop : \")\n",
    "products = dict(products)\n",
    "p = input('Enter a product to retrive or -1 to stop : ')\n",
    "while p != '-1':\n",
    "    if p in products:\n",
    "        print('The product is', products[p])\n",
    "    else:\n",
    "        print('Not in dictionary')\n",
    "    p = input('Enter a product to retrive or -1 to stop : ')"
   ]
  },
  {
   "cell_type": "markdown",
   "metadata": {},
   "source": [
    "## Ex 2"
   ]
  },
  {
   "cell_type": "code",
   "execution_count": 27,
   "metadata": {},
   "outputs": [
    {
     "name": "stdout",
     "output_type": "stream",
     "text": [
      "Enter the amount in dollar : 110\n",
      "All the products whose price is less than 110 are : \n",
      "apple\n",
      "orange\n"
     ]
    }
   ],
   "source": [
    "dollar = float(input(\"Enter the amount in dollar : \"))\n",
    "print(\"All the products whose price is less than %g are : \"%dollar)\n",
    "for prod, price in products.items():\n",
    "    if price<dollar:\n",
    "        print(prod)"
   ]
  },
  {
   "cell_type": "markdown",
   "metadata": {},
   "source": [
    "## Ex 3"
   ]
  },
  {
   "cell_type": "code",
   "execution_count": 80,
   "metadata": {},
   "outputs": [
    {
     "name": "stdout",
     "output_type": "stream",
     "text": [
      "\n",
      "a)------------------------------------------------------------------\n",
      "Enter the month name : March\n",
      "March has 31 days\n",
      "\n",
      "b)------------------------------------------------------------------\n",
      "All months in alphabetical order : \n",
      "April\n",
      "August\n",
      "December\n",
      "February\n",
      "January\n",
      "July\n",
      "June\n",
      "March\n",
      "May\n",
      "November\n",
      "October\n",
      "September\n",
      "\n",
      "c)------------------------------------------------------------------\n",
      "All months with days 31 :\n",
      "January\n",
      "March\n",
      "May\n",
      "July\n",
      "August\n",
      "October\n",
      "December\n",
      "\n",
      "d)------------------------------------------------------------------\n",
      "The (key-value) pairs sorted by the number of days in each month\n",
      "(28, 'February')\n",
      "(30, 'April')\n",
      "(30, 'June')\n",
      "(30, 'November')\n",
      "(30, 'September')\n",
      "(31, 'August')\n",
      "(31, 'December')\n",
      "(31, 'January')\n",
      "(31, 'July')\n",
      "(31, 'March')\n",
      "(31, 'May')\n",
      "(31, 'October')\n",
      "\n",
      "e)------------------------------------------------------------------\n",
      "Enter the month name : janbary\n",
      "January has 31 days.\n"
     ]
    }
   ],
   "source": [
    "days = {'January':31, 'February':28, 'March':31, 'April':30,\n",
    "        'May':31, 'June':30, 'July':31, 'August':31,\n",
    "        'September':30, 'October':31, 'November':30, 'December':31}\n",
    "print(\"\\na)------------------------------------------------------------------\")\n",
    "month = input(\"Enter the month name : \")\n",
    "print(\"%s has %g days\"%(month,days[month]))\n",
    "print(\"\\nb)------------------------------------------------------------------\")\n",
    "print(\"All months in alphabetical order : \")\n",
    "days1 = list(days.items())\n",
    "days1.sort()\n",
    "for d in days1:\n",
    "    print(d[0])\n",
    "print(\"\\nc)------------------------------------------------------------------\")\n",
    "print(\"All months with days 31 :\")\n",
    "for key,value in days.items():\n",
    "    if value == 31:\n",
    "        print(key)\n",
    "print(\"\\nd)------------------------------------------------------------------\")\n",
    "print(\"The (key-value) pairs sorted by the number of days in each month\")\n",
    "days1 = [(i[1], i[0]) for i in days1]\n",
    "days1.sort()\n",
    "for i in days1:\n",
    "    print(i)\n",
    "print(\"\\ne)------------------------------------------------------------------\")    \n",
    "month = input(\"Enter the month name : \")\n",
    "months = list(days.items())\n",
    "for i in months:\n",
    "    if month.lower()[:3] == i[0][:3].lower():\n",
    "        print(\"%s has %g days.\"%(i[0],i[1]))"
   ]
  },
  {
   "cell_type": "markdown",
   "metadata": {},
   "source": [
    "## Ex 4"
   ]
  },
  {
   "cell_type": "code",
   "execution_count": 85,
   "metadata": {},
   "outputs": [
    {
     "name": "stdout",
     "output_type": "stream",
     "text": [
      "Enter your username : water\n",
      "Enter your password : eat\n",
      "Invalid password.\n"
     ]
    }
   ],
   "source": [
    "d = {'apple':'fruit',\n",
    "     'book':'read',\n",
    "     'pen':'write',\n",
    "     'water':'drink',\n",
    "     'bag':'books',\n",
    "     'dress':'wear',\n",
    "     'music':'listen',\n",
    "     'movie':'watch',\n",
    "     'window':'air',\n",
    "     'door':'open'\n",
    "     \n",
    "    }\n",
    "username = input(\"Enter your username : \")\n",
    "if username in d:\n",
    "    password = input(\"Enter your password : \")\n",
    "    if d[username] == password:\n",
    "        print(\"You have logged into the system.\")\n",
    "    else:\n",
    "        print(\"Invalid password.\")\n",
    "else:\n",
    "    print(\"User not found.\")"
   ]
  },
  {
   "cell_type": "markdown",
   "metadata": {},
   "source": [
    "## Ex 5"
   ]
  },
  {
   "cell_type": "code",
   "execution_count": 1,
   "metadata": {},
   "outputs": [
    {
     "name": "stdout",
     "output_type": "stream",
     "text": [
      "Enter team name or -1 to stop : India\n",
      "Enter number of wins : 10\n",
      "Enter the losses : 3\n",
      "Enter team name or -1 to stop : Australia\n",
      "Enter number of wins : 7\n",
      "Enter the losses : 9\n",
      "Enter team name or -1 to stop : England\n",
      "Enter number of wins : 12\n",
      "Enter the losses : 11\n",
      "Enter team name or -1 to stop : -1\n",
      "Enter the team name, you want to know the winning percentage : India\n",
      "Winning percentage is 76.92%\n"
     ]
    }
   ],
   "source": [
    "\n",
    "d = {}\n",
    "key = input(\"Enter team name or -1 to stop : \")\n",
    "while key != '-1':\n",
    "    win = int(input(\"Enter number of wins : \"))\n",
    "    loss = int(input(\"Enter the losses : \"))\n",
    "    d[key] = [win, loss]\n",
    "    key = input(\"Enter team name or -1 to stop : \")\n",
    "team = input(\"Enter the team name, you want to know the winning percentage : \")\n",
    "if team in d:\n",
    "    total = 0\n",
    "    for i in d[team]:\n",
    "        total += i\n",
    "    win_per = d[team][0]/total*100\n",
    "print(\"Winning percentage is {:.2f}%\".format(win_per))"
   ]
  },
  {
   "cell_type": "markdown",
   "metadata": {},
   "source": [
    "## Ex 6"
   ]
  },
  {
   "cell_type": "code",
   "execution_count": 3,
   "metadata": {},
   "outputs": [
    {
     "name": "stdout",
     "output_type": "stream",
     "text": [
      "Enter team name and score or -1 to stop : team1 23\n",
      "Enter team name and score or -1 to stop : team2 12\n",
      "Enter team name and score or -1 to stop : team3 33\n",
      "Enter team name and score or -1 to stop : team4 20\n",
      "Enter team name and score or -1 to stop : -1\n",
      "{'team1': '23', 'team2': '12', 'team3': '33', 'team4': '20'}\n"
     ]
    }
   ],
   "source": [
    "d = {}\n",
    "team = input(\"Enter team name and score or -1 to stop : \")\n",
    "while team != '-1':\n",
    "    team = team.split(' ')\n",
    "    key = team[0]\n",
    "    value = team[1]\n",
    "    d[key] = value\n",
    "    team = input(\"Enter team name and score or -1 to stop : \")\n",
    "print(d)"
   ]
  },
  {
   "cell_type": "markdown",
   "metadata": {},
   "source": [
    "## Ex 7"
   ]
  },
  {
   "cell_type": "code",
   "execution_count": 13,
   "metadata": {},
   "outputs": [
    {
     "name": "stdout",
     "output_type": "stream",
     "text": [
      "[[0, 5, 6, 5, 9], [2, 3, 2, 2, 0], [9, 0, 7, 9, 0], [3, 6, 2, 0, 1], [7, 4, 8, 1, 7]]\n",
      "------------------------------\n",
      "0 : 5\n",
      "1 : 2\n",
      "2 : 4\n",
      "3 : 2\n",
      "4 : 1\n",
      "5 : 2\n",
      "6 : 2\n",
      "7 : 3\n",
      "8 : 1\n",
      "9 : 3\n"
     ]
    }
   ],
   "source": [
    "from random import randint\n",
    "lst = [[randint(0,9) for i in range(5)] for j in range(5)]\n",
    "print(lst)\n",
    "print(\"------------------------------\")\n",
    "\n",
    "key = [i for i in range(10)]\n",
    "d = {}\n",
    "for i in key:\n",
    "    count = 0\n",
    "    for j in range(5):\n",
    "        for k in range(5):\n",
    "            if i == lst[j][k]:\n",
    "                count +=1\n",
    "    d[i] = count\n",
    "for k,v in d.items():\n",
    "    print(\"%s : %g\"%(k,v))"
   ]
  },
  {
   "cell_type": "markdown",
   "metadata": {},
   "source": [
    "## Ex 8"
   ]
  },
  {
   "cell_type": "code",
   "execution_count": 35,
   "metadata": {},
   "outputs": [
    {
     "name": "stdout",
     "output_type": "stream",
     "text": [
      "Player1 wins.\n"
     ]
    }
   ],
   "source": [
    "from random import randint, shuffle,choice\n",
    "deck = [{'value' : i, 'suit' : c} \n",
    "        for c in ['spades', 'clubs', 'hearts', 'diamonds']\n",
    "        for i in range(2,15)]\n",
    "player1 = []\n",
    "player2 = []\n",
    "flag = 0\n",
    "for i in range(3):\n",
    "    player1.append(choice(deck))\n",
    "    player2.append(choice(deck))\n",
    "for i in range(3):\n",
    "    if player1[i]['value'] > player2[i]['value']:\n",
    "        print(\"Player1 wins.\")\n",
    "        flag = 1\n",
    "        break\n",
    "    elif player1[i]['value'] < player2[i]['value']:\n",
    "        print(\"Player2 wins\")\n",
    "        flag = 1\n",
    "        break\n",
    "    else:\n",
    "        print(\"Equal cards, compare second cards\")\n",
    "if flag != 1:\n",
    "    print(\"Drawn!!\")"
   ]
  },
  {
   "cell_type": "markdown",
   "metadata": {},
   "source": [
    "## Ex 9"
   ]
  },
  {
   "cell_type": "code",
   "execution_count": 79,
   "metadata": {},
   "outputs": [
    {
     "name": "stdout",
     "output_type": "stream",
     "text": [
      "a)----------------------------------------------\n",
      "Three cards are not from the same suit\n",
      "b)----------------------------------------------\n",
      "Three cards are not of the same value\n",
      "c)----------------------------------------------\n",
      "There is a pair, but not three-of-a-kind\n",
      "d)----------------------------------------------\n",
      "Three cards do not form a straight\n"
     ]
    }
   ],
   "source": [
    "from random import randint,choice\n",
    "deck = [{'value' : i, 'suit' : c} \n",
    "        for c in ['spades', 'clubs', 'hearts', 'diamonds']\n",
    "        for i in range(2,15)]\n",
    "\n",
    "print(\"a)----------------------------------------------\")\n",
    "three_cards = []\n",
    "for i in range(3):\n",
    "    three_cards.append(choice(deck))\n",
    "if three_cards[0]['suit'] == three_cards[1]['suit'] == three_cards[2]['suit']:\n",
    "    print(\"Three cards are from same suit\")\n",
    "else:\n",
    "    print(\"Three cards are not from the same suit\")\n",
    "\n",
    "print(\"b)----------------------------------------------\")\n",
    "if three_cards[0]['value'] == three_cards[1]['value'] == three_cards[2]['value']:\n",
    "    print(\"Three cards are of the same value\")\n",
    "else:\n",
    "    print(\"Three cards are not of the same value\")\n",
    "\n",
    "print(\"c)----------------------------------------------\")\n",
    "if three_cards[0]['value'] == three_cards[1]['value'] or three_cards[0]['value']== three_cards[2]['value'] \\\n",
    "or three_cards[0]['value']== three_cards[2]['value']:\n",
    "    print(\"There is a pair, but not three-of-a-kind\")\n",
    "else:\n",
    "    print(\"There is no pair\") \n",
    "\n",
    "print(\"d)----------------------------------------------\")\n",
    "if three_cards[0]['value']+1 == three_cards[1]['value'] and three_cards[0]['value']+2 == three_cards[2]['value']:\n",
    "    print(\"Three cards form a straight\")\n",
    "else:\n",
    "    print(\"Three cards do not form a straight\")"
   ]
  },
  {
   "cell_type": "code",
   "execution_count": null,
   "metadata": {},
   "outputs": [],
   "source": []
  }
 ],
 "metadata": {
  "kernelspec": {
   "display_name": "Python 3",
   "language": "python",
   "name": "python3"
  },
  "language_info": {
   "codemirror_mode": {
    "name": "ipython",
    "version": 3
   },
   "file_extension": ".py",
   "mimetype": "text/x-python",
   "name": "python",
   "nbconvert_exporter": "python",
   "pygments_lexer": "ipython3",
   "version": "3.7.3"
  }
 },
 "nbformat": 4,
 "nbformat_minor": 2
}
