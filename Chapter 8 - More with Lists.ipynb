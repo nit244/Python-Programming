{
 "cells": [
  {
   "cell_type": "markdown",
   "metadata": {},
   "source": [
    "# Chapter 8 - More with Lists"
   ]
  },
  {
   "cell_type": "markdown",
   "metadata": {},
   "source": [
    "## Ex 1"
   ]
  },
  {
   "cell_type": "code",
   "execution_count": 1,
   "metadata": {},
   "outputs": [
    {
     "name": "stdout",
     "output_type": "stream",
     "text": [
      "Enter the text : A boy is running on the road.\n"
     ]
    },
    {
     "data": {
      "text/plain": [
       "2"
      ]
     },
     "execution_count": 1,
     "metadata": {},
     "output_type": "execute_result"
    }
   ],
   "source": [
    "articles = ['a','an','the']\n",
    "text = input(\"Enter the text : \")\n",
    "sum([1 for i in text if i.lower() in articles])"
   ]
  },
  {
   "cell_type": "markdown",
   "metadata": {},
   "source": [
    "## Ex 2"
   ]
  },
  {
   "cell_type": "code",
   "execution_count": 6,
   "metadata": {},
   "outputs": [
    {
     "name": "stdout",
     "output_type": "stream",
     "text": [
      "Enter a number : 3\n",
      "Enter a number : 4\n",
      "Enter a number : 54\n",
      "Enter a number : 11\n",
      "Enter a number : 2\n",
      "3+4+54+11+2\n"
     ]
    }
   ],
   "source": [
    "n = 5\n",
    "string =''\n",
    "for i in range(n):\n",
    "    x = input(\"Enter a number : \")\n",
    "    string += x\n",
    "    if i !=n-1:\n",
    "        string += '+'\n",
    "print(string)\n",
    "    "
   ]
  },
  {
   "cell_type": "markdown",
   "metadata": {},
   "source": [
    "## Ex 3"
   ]
  },
  {
   "cell_type": "code",
   "execution_count": 14,
   "metadata": {},
   "outputs": [
    {
     "name": "stdout",
     "output_type": "stream",
     "text": [
      "enter a sentence : Ask the user to enter a sentence and print out every third word of the sentence.\n",
      "user\n",
      "user a print third the\n"
     ]
    }
   ],
   "source": [
    "sentence = input(\"enter a sentence : \")\n",
    "sentence_list = sentence.split()\n",
    "print(sentence_list[2])\n",
    "print(' '.join(sentence_list[2::3]))"
   ]
  },
  {
   "cell_type": "markdown",
   "metadata": {},
   "source": [
    "## Ex 4"
   ]
  },
  {
   "cell_type": "code",
   "execution_count": 25,
   "metadata": {},
   "outputs": [
    {
     "name": "stdout",
     "output_type": "stream",
     "text": [
      "enter a sentence : Ask the user to enter a sentence and print out every third word of the sentence.\n",
      "New Sentence :  Word the sentence. ask to of user print out every sentence a enter the and third\n"
     ]
    }
   ],
   "source": [
    "from random import shuffle\n",
    "sentence = input(\"enter a sentence : \")\n",
    "sentence_list = sentence.split()\n",
    "shuffle(sentence_list)\n",
    "new_sentence = ' '.join(sentence_list)\n",
    "new_sentence = new_sentence.lower()\n",
    "new_sentence = new_sentence[0].upper()+new_sentence[1:]\n",
    "print('New Sentence : ',new_sentence)"
   ]
  },
  {
   "cell_type": "markdown",
   "metadata": {},
   "source": [
    "## Ex 5"
   ]
  },
  {
   "cell_type": "code",
   "execution_count": 32,
   "metadata": {},
   "outputs": [
    {
     "name": "stdout",
     "output_type": "stream",
     "text": [
      "Quote of the day - \"Someday is not a day of the week\"\n"
     ]
    }
   ],
   "source": [
    "from random import choice\n",
    "lst = ['Someday is not a day of the week','Hire character. Train skill','Without hustle, talent will only carry you so far',\\\n",
    "      'Energy and persistence conquer all things','Perseverance is failing 19 times and succeeding the 20th',\\\n",
    "       'Action is the foundational key to all success','Formula for success: rise early, work hard, strike oil'\\\n",
    "      'Done is better than perfect','The act of doing something un-does the fear']\n",
    "quote_of_the_day = choice(lst)\n",
    "print('Quote of the day - \"%s\"'% quote_of_the_day)"
   ]
  },
  {
   "cell_type": "markdown",
   "metadata": {},
   "source": [
    "## Ex 6"
   ]
  },
  {
   "cell_type": "code",
   "execution_count": 34,
   "metadata": {},
   "outputs": [
    {
     "name": "stdout",
     "output_type": "stream",
     "text": [
      "Enter your number : 10\n",
      "You lost the lottery!!\n"
     ]
    },
    {
     "data": {
      "text/plain": [
       "[39, 33, 28, 38, 5, 47]"
      ]
     },
     "execution_count": 34,
     "metadata": {},
     "output_type": "execute_result"
    }
   ],
   "source": [
    "from random import randint\n",
    "lst = []\n",
    "n = 6\n",
    "for i in range(n):\n",
    "    lst.append(randint(1,48))\n",
    "guess = int(input(\"Enter your number : \"))\n",
    "if guess in lst:\n",
    "    print(\"You won the lottery!!\")\n",
    "else:\n",
    "    print(\"You lost the lottery!!\")\n",
    "lst"
   ]
  },
  {
   "cell_type": "markdown",
   "metadata": {},
   "source": [
    "## Ex 7"
   ]
  },
  {
   "cell_type": "code",
   "execution_count": 59,
   "metadata": {},
   "outputs": [
    {
     "name": "stdout",
     "output_type": "stream",
     "text": [
      "The average number of drawings needed over the 1000 times the loop runs : 0.434\n"
     ]
    }
   ],
   "source": [
    "from random import randint\n",
    "total_runs = 1000\n",
    "win_count = 0\n",
    "for r in range(total_runs):\n",
    "    lst = []\n",
    "    n = 6\n",
    "    for i in range(n):\n",
    "        lst.append(randint(1,10))\n",
    "    guess = randint(1,10)\n",
    "    if guess in lst:\n",
    "        win_count += 1\n",
    "    \n",
    "print(\"The average number of drawings needed over the %g times the loop runs : %g\"%(total_runs,win_count/total_runs))"
   ]
  },
  {
   "cell_type": "markdown",
   "metadata": {},
   "source": [
    "## Ex 8"
   ]
  },
  {
   "cell_type": "code",
   "execution_count": 672,
   "metadata": {},
   "outputs": [
    {
     "name": "stdout",
     "output_type": "stream",
     "text": [
      "Enter number of players : 2\n",
      "Number of entries per player : 1\n",
      "Enter a name :polo\n",
      "Enter a name :sneha\n",
      "polo is winner\n"
     ]
    },
    {
     "data": {
      "text/plain": [
       "'\\nprint(hat)\\nprint(names)\\nprint(index_drawn)\\nprint(number_drawn)'"
      ]
     },
     "execution_count": 672,
     "metadata": {},
     "output_type": "execute_result"
    }
   ],
   "source": [
    "from random import shuffle, randint\n",
    "no_of_names = int(input(\"Enter number of players : \"))\n",
    "entries_per_head = int(input(\"Number of entries per player : \"))\n",
    "names = [[input(\"Enter a name :\"),randint(1,10)] for i in range(no_of_names)]\n",
    "hat = []\n",
    "[[hat.append(names[i][1])] for j in range(entries_per_head) for i in range(no_of_names)]\n",
    "shuffle(hat)\n",
    "\n",
    "index_drawn = randint(0,len(hat)-1)\n",
    "number_drawn = hat[index_drawn]\n",
    "flag = 0\n",
    "for i in range(len(names)):\n",
    "    if names[i][1] == number_drawn:\n",
    "        print(\"%s is winner\"%names[i][0])\n",
    "        flag = 1\n",
    "if flag == 0:\n",
    "    print(\"There is no winner\")\n",
    "'''\n",
    "print(hat)\n",
    "print(names)\n",
    "print(index_drawn)\n",
    "print(number_drawn)'''"
   ]
  },
  {
   "cell_type": "code",
   "execution_count": 669,
   "metadata": {},
   "outputs": [
    {
     "name": "stdout",
     "output_type": "stream",
     "text": [
      "[2, 2, 8, 4, 4, 2, 2, 8, 4, 4]\n",
      "[['polo', 4], ['lopo', 8], ['olpo', 4], ['lpo', 2], ['loop', 2]]\n",
      "5\n",
      "2\n"
     ]
    }
   ],
   "source": [
    "print(hat)\n",
    "print(names)\n",
    "print(index_drawn)\n",
    "print(number_drawn)"
   ]
  },
  {
   "cell_type": "markdown",
   "metadata": {},
   "source": [
    "## Ex 9"
   ]
  },
  {
   "cell_type": "code",
   "execution_count": 94,
   "metadata": {},
   "outputs": [
    {
     "name": "stdout",
     "output_type": "stream",
     "text": [
      "Enter number of questions : 2\n",
      "2+4 : 6\n",
      "Right answer!!\n",
      "Color of sky : Black\n",
      "You got 1 correct out of 2.\n"
     ]
    }
   ],
   "source": [
    "quiz = [['2+4',6],\n",
    "       ['30x2',60],\n",
    "       ['45^2',2025],\n",
    "       ['232+245',477],\n",
    "       ['34x45',1530],\n",
    "       ['Capital of India', 'New Delhi'],\n",
    "       ['Color of sky', 'Blue'],\n",
    "       ['Color of water','Colorless'],\n",
    "       ['23*4',92],\n",
    "       ['Apple is a _____','Fruit']]\n",
    "no_of_questions = int(input(\"Enter number of questions : \"))\n",
    "question_set =[]\n",
    "for i in range(no_of_questions):\n",
    "    question_set.append(randint(0,9))\n",
    "right_count = 0\n",
    "for q in question_set:\n",
    "    ans = input(quiz[q][0]+' : ')\n",
    "    if ans == str(quiz[q][1]):\n",
    "        print(\"Right answer!!\")\n",
    "        right_count += 1\n",
    "\n",
    "print(\"You got %g correct out of %g.\"%(right_count,no_of_questions))        "
   ]
  },
  {
   "cell_type": "markdown",
   "metadata": {},
   "source": [
    "## Ex 10"
   ]
  },
  {
   "cell_type": "code",
   "execution_count": 1,
   "metadata": {},
   "outputs": [
    {
     "name": "stdout",
     "output_type": "stream",
     "text": [
      "Enter text :\n",
      "Oh shoot, I thought I had the dang problem figured out. Darn it. Oh well, it was a heck of a freakin try.\n",
      "New text :\n",
      "Oh ****** I thought I had the **** problem figured out. **** it. Oh well, it was a **** of a ******* try.\n"
     ]
    }
   ],
   "source": [
    "text = input(\"Enter text :\\n\")\n",
    "curse =['darn', 'dang','freakin','heck','shoot']\n",
    "text_list = text.split()\n",
    "for i in range(len(text_list)):\n",
    "    if text_list[i].lower() in curse:\n",
    "        text_list[i] = '*'*len(text_list[i])\n",
    "    if text_list[i][0:-1].lower() in curse:\n",
    "        text_list[i] = '*'*len(text_list[i])\n",
    "print(\"New text :\\n%s\"%(' '.join(text_list)))"
   ]
  },
  {
   "cell_type": "markdown",
   "metadata": {},
   "source": [
    "## Ex 11"
   ]
  },
  {
   "cell_type": "code",
   "execution_count": 22,
   "metadata": {},
   "outputs": [
    {
     "name": "stdout",
     "output_type": "stream",
     "text": [
      "Enter text : Hellloooo\n",
      "New text : loHlloeoo\n"
     ]
    }
   ],
   "source": [
    "from random import choice\n",
    "text = input(\"Enter text : \")\n",
    "text = list(text)\n",
    "new_text = []\n",
    "while len(text)>0:\n",
    "    char = choice(text)\n",
    "    new_text.append(char)\n",
    "    text.remove(char)\n",
    "new_text =''.join(new_text)\n",
    "print(\"New text : %s\"%new_text)\n"
   ]
  },
  {
   "cell_type": "markdown",
   "metadata": {},
   "source": [
    "## Ex 12"
   ]
  },
  {
   "cell_type": "code",
   "execution_count": 56,
   "metadata": {},
   "outputs": [
    {
     "name": "stdout",
     "output_type": "stream",
     "text": [
      "Enter a phone number : 3X1-447-5820\n",
      "Invalid\n"
     ]
    }
   ],
   "source": [
    "phone_no = input(\"Enter a phone number : \")\n",
    "phone_no = phone_no.split('-')\n",
    "flag = 0\n",
    "if len(phone_no) == 4 and phone_no[0] == '1' and len(phone_no[1])==3 and len(phone_no[2])==3 and len(phone_no[3])==4:\n",
    "    for i in phone_no:\n",
    "        if i.isdigit() == True:\n",
    "            flag =1\n",
    "        else:\n",
    "            flag = 0\n",
    "            break\n",
    "elif len(phone_no) == 3 and len(phone_no[0])==3 and len(phone_no[1])==3 and len(phone_no[2])==4:\n",
    "    for i in phone_no:\n",
    "        if i.isdigit() == True:\n",
    "            flag =1\n",
    "        else:\n",
    "            flag = 0\n",
    "            break\n",
    "else:\n",
    "    flag = 0\n",
    "if flag ==1:\n",
    "    print(\"Valid\")\n",
    "else:\n",
    "    print(\"Invalid\")\n",
    "    "
   ]
  },
  {
   "cell_type": "markdown",
   "metadata": {},
   "source": [
    "## Ex 13"
   ]
  },
  {
   "cell_type": "code",
   "execution_count": 72,
   "metadata": {},
   "outputs": [
    {
     "name": "stdout",
     "output_type": "stream",
     "text": [
      "nter  hone umber\n",
      "[5, 1, 5, 6]\n",
      "Enter phone number\n"
     ]
    }
   ],
   "source": [
    "string = \"Enter a phone number\"\n",
    "s = string.split()\n",
    "L = [i[1:] for i in s]\n",
    "print(' '.join(L))\n",
    "\n",
    "L = [len(i) for i in s]\n",
    "print(L)\n",
    "\n",
    "L = [i for i in s if len(i)>3]\n",
    "print(' '.join(L))"
   ]
  },
  {
   "cell_type": "markdown",
   "metadata": {},
   "source": [
    "## Ex 14"
   ]
  },
  {
   "cell_type": "code",
   "execution_count": 76,
   "metadata": {},
   "outputs": [
    {
     "name": "stdout",
     "output_type": "stream",
     "text": [
      "[101, 111, 121, 131, 141, 151, 161, 171, 181, 191, 202, 212, 222, 232, 242, 252, 262, 272, 282, 292, 303, 313, 323, 333, 343, 353, 363, 373, 383, 393, 404, 414, 424, 434, 444, 454, 464, 474, 484, 494, 505, 515, 525, 535, 545, 555, 565, 575, 585, 595, 606, 616, 626, 636, 646, 656, 666, 676, 686, 696, 707, 717, 727, 737, 747, 757, 767, 777, 787, 797, 808, 818, 828, 838, 848, 858, 868, 878, 888, 898, 909, 919, 929, 939, 949, 959, 969, 979, 989, 999]\n"
     ]
    }
   ],
   "source": [
    "print([i for i in range(100,1001) if str(i)[0:]==str(i)[-1::-1] ])"
   ]
  },
  {
   "cell_type": "markdown",
   "metadata": {},
   "source": [
    "## Ex 15"
   ]
  },
  {
   "cell_type": "code",
   "execution_count": 91,
   "metadata": {},
   "outputs": [
    {
     "name": "stdout",
     "output_type": "stream",
     "text": [
      "1,1,0,1,0,0,1,0,0,0,1,0,0,0,0,1,0,0,0,0,0,1,0,0,0,0,0,0,1,0,0,0,0,0,0,0,1,0,0,0,0,0,0,0,0,1,0,0,0,0,0,0,0,0,0,1,0,0,0,0,0,0,0,0,0,0,1,\n"
     ]
    }
   ],
   "source": [
    "print(''.join([\"0,\"*i+\"1,\" if i>0 else '1,1,' for i in range(11)  ]))"
   ]
  },
  {
   "cell_type": "markdown",
   "metadata": {},
   "source": [
    "## Ex 16"
   ]
  },
  {
   "cell_type": "code",
   "execution_count": 117,
   "metadata": {},
   "outputs": [
    {
     "name": "stdout",
     "output_type": "stream",
     "text": [
      "[1, 2, 2, 4, 2, 4, 2, 4, 6, 2, 6, 4, 2, 4]\n",
      "Max. gap is 6.\n"
     ]
    }
   ],
   "source": [
    "L=[2,3,5,7,11,13,17,19,23,29,31,37,41,43,47]\n",
    "\n",
    "gap = [abs(L[i]-L[i+1]) for i in range(len(L)) if i != (len(L)-1)]\n",
    "print(gap)\n",
    "print(\"Max. gap is %g.\"%max(gap))"
   ]
  },
  {
   "cell_type": "markdown",
   "metadata": {},
   "source": [
    "## Ex 17"
   ]
  },
  {
   "cell_type": "code",
   "execution_count": 127,
   "metadata": {},
   "outputs": [
    {
     "name": "stdout",
     "output_type": "stream",
     "text": [
      "[[9, 8, 8, 1], [2, 5, 8, 4], [6, 7, 7, 8], [8, 7, 7, 1]]\n"
     ]
    },
    {
     "data": {
      "text/plain": [
       "9"
      ]
     },
     "execution_count": 127,
     "metadata": {},
     "output_type": "execute_result"
    }
   ],
   "source": [
    "from random import randint\n",
    "L = [[randint(1,10) for i in range(4)] for j in range(4)]\n",
    "print(L)\n",
    "max([L[i][j] for i in range(4) for j in range(4)])"
   ]
  },
  {
   "cell_type": "markdown",
   "metadata": {},
   "source": [
    "## Ex 18"
   ]
  },
  {
   "cell_type": "code",
   "execution_count": 135,
   "metadata": {},
   "outputs": [
    {
     "name": "stdout",
     "output_type": "stream",
     "text": [
      "[[69, 93, 49, 50, 34, 95, 20, 92, 43, 16], [26, 96, 73, 6, 88, 88, 16, 60, 77, 47], [63, 57, 14, 37, 59, 64, 55, 84, 60, 8], [4, 81, 97, 29, 48, 9, 16, 5, 21, 22], [41, 65, 30, 34, 92, 88, 25, 28, 53, 91], [54, 29, 41, 23, 17, 19, 65, 99, 79, 65], [79, 45, 1, 91, 94, 49, 88, 39, 52, 80], [51, 89, 46, 69, 10, 44, 31, 62, 97, 80], [77, 94, 51, 36, 30, 23, 64, 29, 26, 80], [99, 56, 36, 16, 6, 22, 62, 56, 69, 74]]\n",
      "Largest is third row :  84\n",
      "Smallest in sixth column :  9\n"
     ]
    }
   ],
   "source": [
    "from random import randint\n",
    "L = [[randint(1,100) for i in range(10)] for j in range(10)]\n",
    "print(L)\n",
    "print(\"Largest is third row : \",max(L[2][i] for i in range(10)))\n",
    "print(\"Smallest in sixth column : \", min(L[i][5] for i in range(10)))"
   ]
  },
  {
   "cell_type": "markdown",
   "metadata": {},
   "source": [
    "## Ex 19"
   ]
  },
  {
   "cell_type": "code",
   "execution_count": 148,
   "metadata": {},
   "outputs": [
    {
     "data": {
      "text/plain": [
       "[[1, 0, 1, 0, 1, 0, 1, 0],\n",
       " [0, 1, 0, 1, 0, 1, 0, 1],\n",
       " [1, 0, 1, 0, 1, 0, 1, 0],\n",
       " [0, 1, 0, 1, 0, 1, 0, 1],\n",
       " [1, 0, 1, 0, 1, 0, 1, 0],\n",
       " [0, 1, 0, 1, 0, 1, 0, 1],\n",
       " [1, 0, 1, 0, 1, 0, 1, 0],\n",
       " [0, 1, 0, 1, 0, 1, 0, 1]]"
      ]
     },
     "execution_count": 148,
     "metadata": {},
     "output_type": "execute_result"
    }
   ],
   "source": [
    "from random import randint\n",
    "L = [[1 if (i+j)%2 ==0 else 0 for i in range(8)] for j in range(8)]\n",
    "L"
   ]
  },
  {
   "cell_type": "markdown",
   "metadata": {},
   "source": [
    "## Ex 20"
   ]
  },
  {
   "cell_type": "code",
   "execution_count": 284,
   "metadata": {},
   "outputs": [
    {
     "name": "stdout",
     "output_type": "stream",
     "text": [
      "A magic square.\n"
     ]
    }
   ],
   "source": [
    "L = [[2,7,6],\n",
    "     [9,5,1],\n",
    "     [4,3,8]]\n",
    "sum_list =[]\n",
    "for i in range(len(L)):\n",
    "    sum1 = 0\n",
    "    for j in range(len(L)):\n",
    "            sum1 = sum1 + L[i][j]\n",
    "    sum_list.append(sum1)\n",
    "\n",
    "for i in range(len(L)):\n",
    "    sum1 = 0\n",
    "    for j in range(len(L)):\n",
    "            sum1 = sum1 + L[j][i]\n",
    "    sum_list.append(sum1)\n",
    "\n",
    "sum1 = 0\n",
    "sum2 = 0\n",
    "for i in range(len(L)):\n",
    "    for j in range(len(L)):\n",
    "            if i == j:\n",
    "                sum1 = sum1 + L[i][j]\n",
    "            if i+j == len(L)-1:\n",
    "                sum2 = sum2 + L[i][j]\n",
    "sum_list.append(sum1)\n",
    "sum_list.append(sum2)\n",
    "\n",
    "flag = 0\n",
    "for i in range(len(sum_list)):\n",
    "    if i == len(sum_list) -1:\n",
    "        break\n",
    "    if sum_list[i] != sum_list[i+1]:\n",
    "        flag = 1\n",
    "if flag == 1:\n",
    "    print(\"Not a magic square.\")\n",
    "else:\n",
    "    print(\"A magic square.\")"
   ]
  },
  {
   "cell_type": "markdown",
   "metadata": {},
   "source": [
    "## Ex 21"
   ]
  },
  {
   "cell_type": "code",
   "execution_count": 302,
   "metadata": {},
   "outputs": [
    {
     "name": "stdout",
     "output_type": "stream",
     "text": [
      "Enter the length : 6\n",
      "Enter what is the lenght unit : yard\n",
      "Enter to what unit the lenght is to be converted : kilometer\n",
      "6 yards = 0.00548642 kilometers\n"
     ]
    }
   ],
   "source": [
    "length = int(input(\"Enter the length : \"))\n",
    "unit_is = input(\"Enter what is the lenght unit : \")\n",
    "unit_to = input(\"Enter to what unit the lenght is to be converted : \")\n",
    "conversion_to_meter = [['inches',39.3701],\n",
    "         ['yard',1.09361],\n",
    "         ['mile',0.000621371],\n",
    "         ['millimeter',1000],\n",
    "         ['centimeter',100],\n",
    "         ['meter',1],\n",
    "         ['kilometer',0.001]]\n",
    "for i in range(len(conversion_to_meter)):\n",
    "    if unit_is == conversion_to_meter[i][0]:\n",
    "        lenght_in_meters = length / conversion_to_meter[i][1]\n",
    "        \n",
    "for i in range(len(conversion_to_meter)):\n",
    "    if unit_to == conversion_to_meter[i][0]:\n",
    "        new_length = lenght_in_meters * conversion_to_meter[i][1]\n",
    "print(\"%g %ss = %g %ss\"%(length,unit_is,new_length,unit_to))\n",
    "  "
   ]
  },
  {
   "cell_type": "code",
   "execution_count": 297,
   "metadata": {},
   "outputs": [
    {
     "data": {
      "text/plain": [
       "39.3701"
      ]
     },
     "execution_count": 297,
     "metadata": {},
     "output_type": "execute_result"
    }
   ],
   "source": [
    "units_to_meter[0][1]"
   ]
  },
  {
   "cell_type": "markdown",
   "metadata": {},
   "source": [
    "## Ex 22"
   ]
  },
  {
   "cell_type": "code",
   "execution_count": 310,
   "metadata": {},
   "outputs": [
    {
     "name": "stdout",
     "output_type": "stream",
     "text": [
      "Enter row : 3\n",
      "Enter column : 3\n",
      "Hit!!\n"
     ]
    }
   ],
   "source": [
    "from random import randint\n",
    "n = 5\n",
    "lst = [[randint(0,1) for i in range(n)] for j in range(n)]\n",
    "#print(lst)\n",
    "row = int(input(\"Enter row : \"))\n",
    "col = int(input(\"Enter column : \"))\n",
    "if lst[row-1][col-1] == 1:\n",
    "    print(\"Hit!!\")\n",
    "else:\n",
    "    print(\"Miss!!\")"
   ]
  },
  {
   "cell_type": "markdown",
   "metadata": {},
   "source": [
    "## Ex 23"
   ]
  },
  {
   "cell_type": "code",
   "execution_count": 424,
   "metadata": {},
   "outputs": [
    {
     "name": "stdout",
     "output_type": "stream",
     "text": [
      "#   F   G   G   <   }   \n",
      "\n",
      "W   #   ^   Q   A   ?   \n",
      "\n",
      "Z   L   M   A   J   Y   \n",
      "\n",
      "<   ?   E   W   L   H   \n",
      "\n",
      "Q   F   ^   H   R   R   \n",
      "\n",
      "}   M   Z   J   E   Y   \n",
      "\n"
     ]
    }
   ],
   "source": [
    "from random import randint,shuffle\n",
    "a_c = 'ABCDEFGHIJKLAMNOPQRSTUVWXYZ`~!@#$%^&*()_+=-;:,.<>/?|[]{}'\n",
    "n = 6\n",
    "lst = []\n",
    "while len(lst) != n**2//2:\n",
    "    char = a_c[randint(0,len(a_c)-1)]\n",
    "    if char*2 not in lst:\n",
    "        lst.append(2 * char )\n",
    "lst = ''.join(lst)\n",
    "lst = list(lst)\n",
    "shuffle(lst)\n",
    "lst1 = [lst[i:i+6] for i in range(0,36,6)]\n",
    "for i in range(n):\n",
    "    for j in range(n):\n",
    "        print(lst1[i][j], end = '   ')\n",
    "    print(\"\\n\")"
   ]
  },
  {
   "cell_type": "markdown",
   "metadata": {},
   "source": [
    "## Ex 24"
   ]
  },
  {
   "cell_type": "code",
   "execution_count": 488,
   "metadata": {},
   "outputs": [
    {
     "name": "stdout",
     "output_type": "stream",
     "text": [
      "[[1, 0, 1, 1, 1], [1, 0, 0, 0, 0], [1, 1, 1, 0, 0], [0, 0, 1, 0, 0], [0, 0, 1, 1, 1]]\n",
      "[[1, 1, 1, 1, 1], [1, 1, 1, 1, 1], [1, 1, 1, 1, 1], [1, 1, 1, 1, 1], [1, 1, 1, 1, 1]]\n"
     ]
    }
   ],
   "source": [
    "from random import choice, randint\n",
    "n = 5\n",
    "lst = [[randint(0,1) for j in range(n)] for i in range(n)]\n",
    "print(lst)\n",
    "lst1 = [[i,j] for i in range(n) for j in range(n)]\n",
    "new_lst =[[]]\n",
    "while len(new_lst) != len(lst1)+1:\n",
    "    r = randint(0,len(lst)-1)\n",
    "    c = randint(0,len(lst)-1)\n",
    "    if [r,c] not in new_lst:\n",
    "        new_lst.append([r,c])\n",
    "        if lst[r][c] == 0:\n",
    "            lst[r][c] = 1\n",
    "print(lst)    \n",
    "    "
   ]
  },
  {
   "cell_type": "markdown",
   "metadata": {},
   "source": [
    "## Ex 25"
   ]
  },
  {
   "cell_type": "code",
   "execution_count": 597,
   "metadata": {},
   "outputs": [
    {
     "name": "stdout",
     "output_type": "stream",
     "text": [
      "n = 0\n"
     ]
    }
   ],
   "source": [
    "lst = ['01265', '12171', '23257', '34548', '45970', '56236', '67324', '78084', '89872', '99414']\n",
    "no_of_digits = 5\n",
    "total_num = 10\n",
    "n = -1\n",
    "for i in range(no_of_digits):\n",
    "    count = 0\n",
    "    for j in range(total_num):\n",
    "        if j == len(lst)-1:\n",
    "            break\n",
    "        else:\n",
    "            if int(lst[j+1][i]) == int(lst[j][i])+1:\n",
    "                count = count + 1\n",
    "    if count==len(lst)-1:\n",
    "        n = i\n",
    "        print(\"n = %g\"%n)\n",
    "        break\n"
   ]
  },
  {
   "cell_type": "markdown",
   "metadata": {},
   "source": [
    "## Ex 26"
   ]
  },
  {
   "cell_type": "code",
   "execution_count": 606,
   "metadata": {},
   "outputs": [
    {
     "data": {
      "text/plain": [
       "[[0, 0],\n",
       " [0, 1],\n",
       " [0, 2],\n",
       " [0, 3],\n",
       " [0, 4],\n",
       " [1, 0],\n",
       " [1, 1],\n",
       " [1, 2],\n",
       " [1, 3],\n",
       " [1, 4],\n",
       " [2, 0],\n",
       " [2, 1],\n",
       " [2, 2],\n",
       " [2, 3],\n",
       " [2, 4],\n",
       " [3, 0],\n",
       " [3, 1],\n",
       " [3, 2],\n",
       " [3, 3],\n",
       " [3, 4],\n",
       " [4, 0],\n",
       " [4, 1],\n",
       " [4, 2],\n",
       " [4, 3],\n",
       " [4, 4]]"
      ]
     },
     "execution_count": 606,
     "metadata": {},
     "output_type": "execute_result"
    }
   ],
   "source": [
    "n=5\n",
    "L = [[i,j] for i in range(n) for j in range(n)]\n",
    "L"
   ]
  },
  {
   "cell_type": "code",
   "execution_count": 667,
   "metadata": {},
   "outputs": [
    {
     "name": "stdout",
     "output_type": "stream",
     "text": [
      "\n",
      "\n",
      "[0, 0] [0, 1] [0, 2] \n",
      "\n",
      "[1, 0] [1, 1] [1, 2] \n",
      "\n",
      "[2, 0] [2, 1] [2, 2] "
     ]
    }
   ],
   "source": [
    "rows = 3\n",
    "cols = 3\n",
    "L = [[i,j] for i in range(rows) for j in range(cols)]\n",
    "n = 0\n",
    "for i in range(rows):\n",
    "    print(\"\\n\")\n",
    "    for j in range(cols):\n",
    "        print(L[n],end = ' ')\n",
    "        #print(n, end=' ')\n",
    "        n += 1\n",
    "        if n == len(L):\n",
    "            break\n",
    "            \n",
    "     "
   ]
  },
  {
   "cell_type": "code",
   "execution_count": 665,
   "metadata": {},
   "outputs": [
    {
     "name": "stdout",
     "output_type": "stream",
     "text": [
      "[0, 1, 2, 3, 4, 5, 6, 7, 8]\n",
      "\n",
      "\n",
      "0\t1\t2\t\n",
      "\n",
      "3\t4\t5\t\n",
      "\n",
      "6\t7\t8\t"
     ]
    }
   ],
   "source": [
    "L=[]\n",
    "rows = 3\n",
    "cols =3\n",
    "count = 0\n",
    "for i in range(rows):\n",
    "    for j in range(cols):\n",
    "        L.append(count)\n",
    "        count += 1\n",
    "print(L)\n",
    "k = 0\n",
    "for i in range(rows):\n",
    "    print(\"\\n\")\n",
    "    for j in range(cols):\n",
    "        print(L[k], end='\\t')\n",
    "        k +=1\n"
   ]
  },
  {
   "cell_type": "code",
   "execution_count": 657,
   "metadata": {},
   "outputs": [
    {
     "data": {
      "text/plain": [
       "[0, 1, 2, 3, 4, 5, 6, 7, 8]"
      ]
     },
     "execution_count": 657,
     "metadata": {},
     "output_type": "execute_result"
    }
   ],
   "source": [
    "L"
   ]
  },
  {
   "cell_type": "code",
   "execution_count": null,
   "metadata": {},
   "outputs": [],
   "source": [
    "n = 0\n",
    "for i in range(rows):\n",
    "    print(\"\\n\")\n",
    "    for j in range(cols):\n",
    "        #print(L[n],end = ' ')\n",
    "        print(n, end='\\t')\n",
    "        n += 1\n",
    "        if n == len(L):\n",
    "            break    "
   ]
  },
  {
   "cell_type": "code",
   "execution_count": 673,
   "metadata": {},
   "outputs": [
    {
     "name": "stdout",
     "output_type": "stream",
     "text": [
      "******\n",
      "Enter a letter : i\n",
      "****i*\n",
      "Enter a letter : c\n",
      "****i*\n",
      "Enter a letter : r\n",
      "*r**i*\n",
      "Enter a letter : b\n",
      "br**i*\n",
      "Enter a letter : z\n",
      "br*zi*\n",
      "Enter a letter : a\n",
      "brazi*\n",
      "Enter a letter : l\n",
      "brazil\n",
      "You have made correct guess.\n"
     ]
    }
   ],
   "source": [
    "from random import choice\n",
    "country_lst = \"China,India,United States,Indonesia,Pakistan,Brazil,Nigeria,Bangladesh,Russia,Mexico\".split(',')\n",
    "country = list(choice(country_lst).lower())\n",
    "to_guess = list('*'*len(country))\n",
    "i = 0\n",
    "while i != len(to_guess):\n",
    "    if to_guess == country:\n",
    "        break\n",
    "    print(''.join(to_guess))\n",
    "    guess = input(\"Enter a letter : \")\n",
    "    for t in range(len(to_guess)):\n",
    "        if country[t] == guess:\n",
    "            to_guess[t] = guess\n",
    "            i += 1\n",
    "print(''.join(to_guess))        \n",
    "if to_guess == country:\n",
    "    print(\"You have made correct guess.\")\n",
    "else:\n",
    "    print(\"You have not made correct guess.\")"
   ]
  },
  {
   "cell_type": "code",
   "execution_count": null,
   "metadata": {},
   "outputs": [],
   "source": []
  }
 ],
 "metadata": {
  "kernelspec": {
   "display_name": "Python 3",
   "language": "python",
   "name": "python3"
  },
  "language_info": {
   "codemirror_mode": {
    "name": "ipython",
    "version": 3
   },
   "file_extension": ".py",
   "mimetype": "text/x-python",
   "name": "python",
   "nbconvert_exporter": "python",
   "pygments_lexer": "ipython3",
   "version": "3.7.3"
  }
 },
 "nbformat": 4,
 "nbformat_minor": 2
}
