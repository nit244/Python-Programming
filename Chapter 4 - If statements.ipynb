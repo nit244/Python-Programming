{
 "cells": [
  {
   "cell_type": "markdown",
   "metadata": {},
   "source": [
    "# Chapter 4 - If statements"
   ]
  },
  {
   "cell_type": "markdown",
   "metadata": {},
   "source": [
    "## Ex 1"
   ]
  },
  {
   "cell_type": "code",
   "execution_count": 5,
   "metadata": {},
   "outputs": [
    {
     "name": "stdout",
     "output_type": "stream",
     "text": [
      "Enter the length in centimeters :3\n",
      "3 cm = 7.62 inches\n"
     ]
    }
   ],
   "source": [
    "length = float(input(\"Enter the length in centimeters :\"))\n",
    "if length<0 :\n",
    "    print(\"Invalid input\")\n",
    "else:\n",
    "    inch = length * 2.54\n",
    "    print(\"%g cm = %g inches\"%(length, inch))"
   ]
  },
  {
   "cell_type": "markdown",
   "metadata": {},
   "source": [
    "## Ex 2"
   ]
  },
  {
   "cell_type": "code",
   "execution_count": 6,
   "metadata": {},
   "outputs": [
    {
     "name": "stdout",
     "output_type": "stream",
     "text": [
      "Enter the temperature :25\n",
      "Enter if the given temp is in Celsius(C) or Fahrenheit(F) :c\n",
      "Temperature in Fahrenheit is 77\n"
     ]
    }
   ],
   "source": [
    "temperature = float(input(\"Enter the temperature :\"))\n",
    "type1 = input(\"Enter if the given temp is in Celsius(C) or Fahrenheit(F) :\")\n",
    "if type1 == 'f' or type1 == 'F':\n",
    "    Celsius = 5/9*(temperature - 32)\n",
    "    print(\"Temperature in Celsius is %g\"% Celsius)\n",
    "    \n",
    "elif type1 == 'c' or type1 == 'C':\n",
    "    Fahrenheit = 9/5*temperature + 32\n",
    "    print(\"Temperature in Fahrenheit is %g\"% Fahrenheit)\n",
    "else:\n",
    "    print(\"Invalid input\")\n"
   ]
  },
  {
   "cell_type": "markdown",
   "metadata": {},
   "source": [
    "## Ex 3"
   ]
  },
  {
   "cell_type": "code",
   "execution_count": 10,
   "metadata": {},
   "outputs": [
    {
     "name": "stdout",
     "output_type": "stream",
     "text": [
      "Enter temperature in Celsius : 333\n",
      "The temperature is above the boiling point\n"
     ]
    }
   ],
   "source": [
    "temperature = float(input(\"Enter temperature in Celsius : \"))\n",
    "if temperature < -273.15:\n",
    "    print(\"The temperature is invalid because it is below absolute zero.\")\n",
    "elif temperature == -273.15:\n",
    "    print(\"The temperature is absolute 0.\")\n",
    "elif temperature > -273.15 and temperature< 0:\n",
    "    print(\"The temperature is below freezing.\")\n",
    "elif temperature == 0:\n",
    "    print(\"The temperature is at the freezing point.\")\n",
    "elif temperature >0 and temperature<100:\n",
    "    print(\"The temperature is in the normal range.\")\n",
    "elif temperature == 100:\n",
    "    print(\"The temperature is at the boiling point.\")\n",
    "else:\n",
    "    print(\"The temperature is above the boiling point\")"
   ]
  },
  {
   "cell_type": "markdown",
   "metadata": {},
   "source": [
    "## Ex 4"
   ]
  },
  {
   "cell_type": "code",
   "execution_count": 11,
   "metadata": {},
   "outputs": [
    {
     "name": "stdout",
     "output_type": "stream",
     "text": [
      "How many credits user has taken?44\n",
      "The student is a sophomore\n"
     ]
    }
   ],
   "source": [
    "credit = int(input(\"How many credits user has taken?\"))\n",
    "if credit<=23:\n",
    "    print(\"The student is a freshman\")\n",
    "elif credit>=24 and credit<=53:\n",
    "    print(\"The student is a sophomore\")\n",
    "elif credit>=54 and credit<=83:\n",
    "    print(\"The student is a juniors\")\n",
    "else:\n",
    "    print(\"The student is a seniors\")   "
   ]
  },
  {
   "cell_type": "markdown",
   "metadata": {},
   "source": [
    "## Ex 5"
   ]
  },
  {
   "cell_type": "code",
   "execution_count": 4,
   "metadata": {},
   "outputs": [
    {
     "name": "stdout",
     "output_type": "stream",
     "text": [
      "Enter the guess number :4\n",
      "Wrong Guess🤔\n"
     ]
    }
   ],
   "source": [
    "from random import randint\n",
    "randomNum = randint(1,10)\n",
    "guess = int(input(\"Enter the guess number :\"))\n",
    "if randomNum == guess:\n",
    "    print(\"Correct Guess😊\")\n",
    "else:\n",
    "    print(\"Wrong Guess🤔\")"
   ]
  },
  {
   "cell_type": "markdown",
   "metadata": {},
   "source": [
    "## Ex 6"
   ]
  },
  {
   "cell_type": "code",
   "execution_count": 19,
   "metadata": {},
   "outputs": [
    {
     "name": "stdout",
     "output_type": "stream",
     "text": [
      "Enter the number of items :100\n",
      "Total cost of 100 items is 1015\n"
     ]
    }
   ],
   "source": [
    "numOfItems = int(input(\"Enter the number of items :\"))\n",
    "if numOfItems < 10:\n",
    "    cost = 12 * numOfItems\n",
    "elif numOfItems >=10 and numOfItems <= 99:\n",
    "    cost = 12 * 9 + 10 *(numOfItems - 9)\n",
    "else:\n",
    "    cost = 12 * 9 + 10 * 90 + 7 * (numOfItems-99)\n",
    "print(\"Total cost of %g items is %g\"%(numOfItems, cost))\n"
   ]
  },
  {
   "cell_type": "markdown",
   "metadata": {},
   "source": [
    "## Ex 7"
   ]
  },
  {
   "cell_type": "code",
   "execution_count": 20,
   "metadata": {},
   "outputs": [
    {
     "name": "stdout",
     "output_type": "stream",
     "text": [
      "Enter the first number :12.4\n",
      "Enter the second number :12.41\n",
      "Both numbers are close.\n"
     ]
    }
   ],
   "source": [
    "num1 = float(input(\"Enter the first number :\"))\n",
    "num2 = float(input(\"Enter the second number :\"))\n",
    "\n",
    "if num1 - num2 <= 0.001:\n",
    "    print(\"Both numbers are close.\")\n",
    "else:\n",
    "    print(\"Both numbers are not so close.\")\n"
   ]
  },
  {
   "cell_type": "markdown",
   "metadata": {},
   "source": [
    "## Ex 8"
   ]
  },
  {
   "cell_type": "code",
   "execution_count": 1,
   "metadata": {},
   "outputs": [
    {
     "name": "stdout",
     "output_type": "stream",
     "text": [
      "Enter the year :1999\n",
      "Not a leap year\n"
     ]
    }
   ],
   "source": [
    "year = int(input(\"Enter the year :\"))\n",
    "if (year%4==0 and year%100 !=0) or year%400==0:\n",
    "    print(\"Leap year\")\n",
    "else:\n",
    "    print(\"Not a leap year\")"
   ]
  },
  {
   "cell_type": "markdown",
   "metadata": {},
   "source": [
    "## Ex 9"
   ]
  },
  {
   "cell_type": "code",
   "execution_count": 2,
   "metadata": {},
   "outputs": [
    {
     "name": "stdout",
     "output_type": "stream",
     "text": [
      "Enter a number :12\n",
      "1\n",
      "2\n",
      "3\n",
      "4\n",
      "6\n",
      "12\n"
     ]
    }
   ],
   "source": [
    "num = int(input(\"Enter a number :\"))\n",
    "for i in range(1,num+1):\n",
    "    if num%i ==0:\n",
    "        print(i)"
   ]
  },
  {
   "cell_type": "markdown",
   "metadata": {},
   "source": [
    "## Ex 10"
   ]
  },
  {
   "cell_type": "code",
   "execution_count": 6,
   "metadata": {},
   "outputs": [
    {
     "data": {
      "text/latex": [
       "$\\displaystyle 9 \\times 7 =$"
      ],
      "text/plain": [
       "<IPython.core.display.Math object>"
      ]
     },
     "metadata": {},
     "output_type": "display_data"
    },
    {
     "name": "stdout",
     "output_type": "stream",
     "text": [
      "63\n",
      "Right!!!\n"
     ]
    }
   ],
   "source": [
    "from random import randint\n",
    "from IPython.display import display, Math\n",
    "import sympy as sym\n",
    "num1 = randint(1,9)\n",
    "num2 = randint(1,9)\n",
    "result = num1 * num2\n",
    "display(Math('%g \\\\times %g ='%(num1, num2)))\n",
    "ans = int(input())\n",
    "if ans == result:\n",
    "    print(\"Right!!!\")\n",
    "else:\n",
    "    print(\"Wrong!!!\")"
   ]
  },
  {
   "cell_type": "markdown",
   "metadata": {},
   "source": [
    "## Ex 11"
   ]
  },
  {
   "cell_type": "code",
   "execution_count": 14,
   "metadata": {},
   "outputs": [
    {
     "name": "stdout",
     "output_type": "stream",
     "text": [
      "Enter hour :11\n",
      "am or pm :pm\n",
      "How many hours ahead? 26\n",
      "Current time is 1 am\n"
     ]
    }
   ],
   "source": [
    "hour = int(input(\"Enter hour :\"))\n",
    "am_pm = input(\"am or pm :\")\n",
    "ahead = int(input(\"How many hours ahead? \"))\n",
    "if am_pm == 'am':\n",
    "    new_hour = (hour + ahead) % 12\n",
    "    am_pm1 = new_hour // 12\n",
    "else:\n",
    "    new_hour = (12 + hour + ahead) % 12\n",
    "    am_pm1 = new_hour // 12\n",
    "if am_pm1 % 2 == 0:\n",
    "    print(\"Current time is %g am\"%new_hour)\n",
    "else:\n",
    "    print(\"Current time is %g pm\"%new_hour)\n",
    "    \n",
    "    "
   ]
  },
  {
   "cell_type": "markdown",
   "metadata": {},
   "source": [
    "## Ex 12"
   ]
  },
  {
   "cell_type": "code",
   "execution_count": 17,
   "metadata": {},
   "outputs": [
    {
     "name": "stdout",
     "output_type": "stream",
     "text": [
      "\n"
     ]
    }
   ],
   "source": [
    "for candy in range(1,200):\n",
    "    if candy%5 == 2 and candy%6 == 3 and candy%7 == 2:\n",
    "        print()"
   ]
  },
  {
   "cell_type": "markdown",
   "metadata": {},
   "source": [
    "## Ex 13"
   ]
  },
  {
   "cell_type": "code",
   "execution_count": 3,
   "metadata": {},
   "outputs": [
    {
     "name": "stdout",
     "output_type": "stream",
     "text": [
      "1-> 🔨 || 2 -> 📄 || 3 -> ✂ \n",
      "Rock(1), Paper(2) or Scissors(3)1\n",
      "You win\n",
      "Rock(1), Paper(2) or Scissors(3)3\n",
      "You win\n",
      "Rock(1), Paper(2) or Scissors(3)1\n",
      "Draw\n",
      "Rock(1), Paper(2) or Scissors(3)2\n",
      "You win\n",
      "Rock(1), Paper(2) or Scissors(3)3\n",
      "computer wins\n",
      "You won the series!!\n"
     ]
    }
   ],
   "source": [
    "from random import randint\n",
    "print(\"1-> 🔨 || 2 -> 📄 || 3 -> ✂ \")\n",
    "cWin = 0\n",
    "yWin = 0\n",
    "for i in range(5):\n",
    "    computer = randint(1,3)\n",
    "    you = int(input(\"Rock(1), Paper(2) or Scissors(3)\"))\n",
    "    if computer == you:\n",
    "        print(\"Draw\")\n",
    "    elif computer == 1:\n",
    "        if you == 2:\n",
    "            print(\"You win\")\n",
    "            yWin +=1\n",
    "        else:\n",
    "            print(\"computer wins\")\n",
    "            cWin += 1\n",
    "    elif computer == 2:\n",
    "        if you == 3:\n",
    "            print(\"You win\")\n",
    "            yWin +=111\n",
    "        else:\n",
    "            print(\"computer wins\")\n",
    "            cWin += 1\n",
    "    else:\n",
    "        if you == 1:\n",
    "            print(\"You win\")\n",
    "            yWin +=1\n",
    "        else:\n",
    "            print(\"computer wins\")\n",
    "            cWin += 1\n",
    "if cWin == yWin:\n",
    "    print(\"Series Drawn!!\")\n",
    "elif cWin > yWin:\n",
    "    print(\"Computer won the series!!\")\n",
    "else:\n",
    "    print(\"You won the series!!\")\n",
    "    "
   ]
  },
  {
   "cell_type": "markdown",
   "metadata": {},
   "source": []
  }
 ],
 "metadata": {
  "kernelspec": {
   "display_name": "Python 3",
   "language": "python",
   "name": "python3"
  },
  "language_info": {
   "codemirror_mode": {
    "name": "ipython",
    "version": 3
   },
   "file_extension": ".py",
   "mimetype": "text/x-python",
   "name": "python",
   "nbconvert_exporter": "python",
   "pygments_lexer": "ipython3",
   "version": "3.7.3"
  }
 },
 "nbformat": 4,
 "nbformat_minor": 2
}
