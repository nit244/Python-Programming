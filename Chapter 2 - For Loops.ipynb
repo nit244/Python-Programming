{
 "cells": [
  {
   "cell_type": "markdown",
   "metadata": {},
   "source": [
    "# Chapter 2 - For Loops"
   ]
  },
  {
   "cell_type": "markdown",
   "metadata": {},
   "source": [
    "## Ex 1"
   ]
  },
  {
   "cell_type": "code",
   "execution_count": 2,
   "metadata": {},
   "outputs": [
    {
     "name": "stdout",
     "output_type": "stream",
     "text": [
      "Name\n",
      "Name\n",
      "Name\n",
      "Name\n",
      "Name\n",
      "Name\n",
      "Name\n",
      "Name\n",
      "Name\n",
      "Name\n",
      "Name\n",
      "Name\n",
      "Name\n",
      "Name\n",
      "Name\n",
      "Name\n",
      "Name\n",
      "Name\n",
      "Name\n",
      "Name\n",
      "Name\n",
      "Name\n",
      "Name\n",
      "Name\n",
      "Name\n",
      "Name\n",
      "Name\n",
      "Name\n",
      "Name\n",
      "Name\n",
      "Name\n",
      "Name\n",
      "Name\n",
      "Name\n",
      "Name\n",
      "Name\n",
      "Name\n",
      "Name\n",
      "Name\n",
      "Name\n",
      "Name\n",
      "Name\n",
      "Name\n",
      "Name\n",
      "Name\n",
      "Name\n",
      "Name\n",
      "Name\n",
      "Name\n",
      "Name\n",
      "Name\n",
      "Name\n",
      "Name\n",
      "Name\n",
      "Name\n",
      "Name\n",
      "Name\n",
      "Name\n",
      "Name\n",
      "Name\n",
      "Name\n",
      "Name\n",
      "Name\n",
      "Name\n",
      "Name\n",
      "Name\n",
      "Name\n",
      "Name\n",
      "Name\n",
      "Name\n",
      "Name\n",
      "Name\n",
      "Name\n",
      "Name\n",
      "Name\n",
      "Name\n",
      "Name\n",
      "Name\n",
      "Name\n",
      "Name\n",
      "Name\n",
      "Name\n",
      "Name\n",
      "Name\n",
      "Name\n",
      "Name\n",
      "Name\n",
      "Name\n",
      "Name\n",
      "Name\n",
      "Name\n",
      "Name\n",
      "Name\n",
      "Name\n",
      "Name\n",
      "Name\n",
      "Name\n",
      "Name\n",
      "Name\n",
      "Name\n"
     ]
    }
   ],
   "source": [
    "for i in range(100):\n",
    "  print(\"Name\")"
   ]
  },
  {
   "cell_type": "markdown",
   "metadata": {},
   "source": [
    "## Ex 2"
   ]
  },
  {
   "cell_type": "code",
   "execution_count": 3,
   "metadata": {},
   "outputs": [
    {
     "name": "stdout",
     "output_type": "stream",
     "text": [
      "\n",
      "\n",
      "Name Name Name Name Name Name Name Name Name Name Name Name Name Name Name Name Name Name Name Name Name Name Name Name Name \n",
      "\n",
      "Name Name Name Name Name Name Name Name Name Name Name Name Name Name Name Name Name Name Name Name Name Name Name Name Name \n",
      "\n",
      "Name Name Name Name Name Name Name Name Name Name Name Name Name Name Name Name Name Name Name Name Name Name Name Name Name \n",
      "\n",
      "Name Name Name Name Name Name Name Name Name Name Name Name Name Name Name Name Name Name Name Name Name Name Name Name Name \n",
      "\n",
      "Name Name Name Name Name Name Name Name Name Name Name Name Name Name Name Name Name Name Name Name Name Name Name Name Name \n",
      "\n",
      "Name Name Name Name Name Name Name Name Name Name Name Name Name Name Name Name Name Name Name Name Name Name Name Name Name \n",
      "\n",
      "Name Name Name Name Name Name Name Name Name Name Name Name Name Name Name Name Name Name Name Name Name Name Name Name Name \n",
      "\n",
      "Name Name Name Name Name Name Name Name Name Name Name Name Name Name Name Name Name Name Name Name Name Name Name Name Name \n",
      "\n",
      "Name Name Name Name Name Name Name Name Name Name Name Name Name Name Name Name Name Name Name Name Name Name Name Name Name \n",
      "\n",
      "Name Name Name Name Name Name Name Name Name Name Name Name Name Name Name Name Name Name Name Name Name Name Name Name Name \n",
      "\n",
      "Name Name Name Name Name Name Name Name Name Name Name Name Name Name Name Name Name Name Name Name Name Name Name Name Name \n",
      "\n",
      "Name Name Name Name Name Name Name Name Name Name Name Name Name Name Name Name Name Name Name Name Name Name Name Name Name \n",
      "\n",
      "Name Name Name Name Name Name Name Name Name Name Name Name Name Name Name Name Name Name Name Name Name Name Name Name Name \n",
      "\n",
      "Name Name Name Name Name Name Name Name Name Name Name Name Name Name Name Name Name Name Name Name Name Name Name Name Name \n",
      "\n",
      "Name Name Name Name Name Name Name Name Name Name Name Name Name Name Name Name Name Name Name Name Name Name Name Name Name "
     ]
    }
   ],
   "source": [
    "for i in range(15):\n",
    "  print(\"\\n\")\n",
    "  for j in range(25):\n",
    "    print(\"Name\", end = ' ')"
   ]
  },
  {
   "cell_type": "markdown",
   "metadata": {},
   "source": [
    "## Ex 3"
   ]
  },
  {
   "cell_type": "code",
   "execution_count": 4,
   "metadata": {},
   "outputs": [
    {
     "name": "stdout",
     "output_type": "stream",
     "text": [
      "1  Your name\n",
      "2  Your name\n",
      "3  Your name\n",
      "4  Your name\n",
      "5  Your name\n",
      "6  Your name\n",
      "7  Your name\n",
      "8  Your name\n",
      "9  Your name\n",
      "10  Your name\n",
      "11  Your name\n",
      "12  Your name\n",
      "13  Your name\n",
      "14  Your name\n",
      "15  Your name\n",
      "16  Your name\n",
      "17  Your name\n",
      "18  Your name\n",
      "19  Your name\n",
      "20  Your name\n",
      "21  Your name\n",
      "22  Your name\n",
      "23  Your name\n",
      "24  Your name\n",
      "25  Your name\n",
      "26  Your name\n",
      "27  Your name\n",
      "28  Your name\n",
      "29  Your name\n",
      "30  Your name\n",
      "31  Your name\n",
      "32  Your name\n",
      "33  Your name\n",
      "34  Your name\n",
      "35  Your name\n",
      "36  Your name\n",
      "37  Your name\n",
      "38  Your name\n",
      "39  Your name\n",
      "40  Your name\n",
      "41  Your name\n",
      "42  Your name\n",
      "43  Your name\n",
      "44  Your name\n",
      "45  Your name\n",
      "46  Your name\n",
      "47  Your name\n",
      "48  Your name\n",
      "49  Your name\n",
      "50  Your name\n",
      "51  Your name\n",
      "52  Your name\n",
      "53  Your name\n",
      "54  Your name\n",
      "55  Your name\n",
      "56  Your name\n",
      "57  Your name\n",
      "58  Your name\n",
      "59  Your name\n",
      "60  Your name\n",
      "61  Your name\n",
      "62  Your name\n",
      "63  Your name\n",
      "64  Your name\n",
      "65  Your name\n",
      "66  Your name\n",
      "67  Your name\n",
      "68  Your name\n",
      "69  Your name\n",
      "70  Your name\n",
      "71  Your name\n",
      "72  Your name\n",
      "73  Your name\n",
      "74  Your name\n",
      "75  Your name\n",
      "76  Your name\n",
      "77  Your name\n",
      "78  Your name\n",
      "79  Your name\n",
      "80  Your name\n",
      "81  Your name\n",
      "82  Your name\n",
      "83  Your name\n",
      "84  Your name\n",
      "85  Your name\n",
      "86  Your name\n",
      "87  Your name\n",
      "88  Your name\n",
      "89  Your name\n",
      "90  Your name\n",
      "91  Your name\n",
      "92  Your name\n",
      "93  Your name\n",
      "94  Your name\n",
      "95  Your name\n",
      "96  Your name\n",
      "97  Your name\n",
      "98  Your name\n",
      "99  Your name\n",
      "100  Your name\n"
     ]
    }
   ],
   "source": [
    "for i in range(1,101):\n",
    "  print(i, \" Your name\")"
   ]
  },
  {
   "cell_type": "markdown",
   "metadata": {},
   "source": [
    "## Ex 4"
   ]
  },
  {
   "cell_type": "code",
   "execution_count": 5,
   "metadata": {},
   "outputs": [
    {
     "name": "stdout",
     "output_type": "stream",
     "text": [
      "1 --- 1\n",
      "2 --- 4\n",
      "3 --- 9\n",
      "4 --- 16\n",
      "5 --- 25\n",
      "6 --- 36\n",
      "7 --- 49\n",
      "8 --- 64\n",
      "9 --- 81\n",
      "10 --- 100\n",
      "11 --- 121\n",
      "12 --- 144\n",
      "13 --- 169\n",
      "14 --- 196\n",
      "15 --- 225\n",
      "16 --- 256\n",
      "17 --- 289\n",
      "18 --- 324\n",
      "19 --- 361\n",
      "20 --- 400\n"
     ]
    }
   ],
   "source": [
    "for i in range(1,21):\n",
    "  print(i, \"---\", i**2)"
   ]
  },
  {
   "cell_type": "markdown",
   "metadata": {},
   "source": [
    "## Ex 5"
   ]
  },
  {
   "cell_type": "code",
   "execution_count": 6,
   "metadata": {},
   "outputs": [
    {
     "name": "stdout",
     "output_type": "stream",
     "text": [
      "8,11,14,17,20,23,26,29,32,35,38,41,44,47,50,53,56,59,62,65,68,71,74,77,80,83,86,89,"
     ]
    }
   ],
   "source": [
    "for i in range(8,90,3):\n",
    "  print(i, end = ',')"
   ]
  },
  {
   "cell_type": "markdown",
   "metadata": {},
   "source": [
    "## Ex 6"
   ]
  },
  {
   "cell_type": "code",
   "execution_count": 7,
   "metadata": {},
   "outputs": [
    {
     "name": "stdout",
     "output_type": "stream",
     "text": [
      "100,98,96,94,92,90,88,86,84,82,80,78,76,74,72,70,68,66,64,62,60,58,56,54,52,50,48,46,44,42,40,38,36,34,32,30,28,26,24,22,20,18,16,14,12,10,8,6,4,2,"
     ]
    }
   ],
   "source": [
    "for i in range(100,0,-2):\n",
    "  print(i, end = ',')"
   ]
  },
  {
   "cell_type": "markdown",
   "metadata": {},
   "source": [
    "## Ex 7"
   ]
  },
  {
   "cell_type": "code",
   "execution_count": 8,
   "metadata": {},
   "outputs": [
    {
     "name": "stdout",
     "output_type": "stream",
     "text": [
      "AAAAAAAAAABBBBBBBCDCDCDCDEFFFFFFG"
     ]
    }
   ],
   "source": [
    "for i in range(10):\n",
    "  print(\"A\",end='')\n",
    "for i in range(7):\n",
    "  print(\"B\", end = '')\n",
    "for i in range(4):\n",
    "  print(\"CD\", end = '')\n",
    "for i in range(6):\n",
    "  if i == 0:\n",
    "    print(\"EF\", end = '')\n",
    "  elif i == 5:\n",
    "    print(\"FG\", end = '')\n",
    "  else:\n",
    "    print(\"F\", end = '')"
   ]
  },
  {
   "cell_type": "markdown",
   "metadata": {},
   "source": [
    "## Ex 8"
   ]
  },
  {
   "cell_type": "code",
   "execution_count": 9,
   "metadata": {},
   "outputs": [
    {
     "name": "stdout",
     "output_type": "stream",
     "text": [
      "How many times to print? :5\n",
      "Enter your name :Name\n",
      "Name Name Name Name Name "
     ]
    }
   ],
   "source": [
    "number = int(input(\"How many times to print? :\"))\n",
    "name = input(\"Enter your name :\")\n",
    "\n",
    "for i in range(number):\n",
    "  print(name, end = ' ')"
   ]
  },
  {
   "cell_type": "markdown",
   "metadata": {},
   "source": [
    "# Ex 9"
   ]
  },
  {
   "cell_type": "code",
   "execution_count": 10,
   "metadata": {},
   "outputs": [
    {
     "name": "stdout",
     "output_type": "stream",
     "text": [
      "How many fibonacci numbers? :7\n",
      "1\n",
      "1\n",
      "2\n",
      "3\n",
      "5\n",
      "8\n",
      "13\n"
     ]
    }
   ],
   "source": [
    "number = int(input(\"How many fibonacci numbers? :\"))\n",
    "fib1 = 1\n",
    "fib2 = 1\n",
    "print(fib1)\n",
    "for i in range(number-1):\n",
    "  temp = fib2\n",
    "  fib2 = fib1 + fib2\n",
    "  fib1 = temp\n",
    "  print(fib1)\n",
    "  "
   ]
  },
  {
   "cell_type": "markdown",
   "metadata": {},
   "source": [
    "## Ex 10"
   ]
  },
  {
   "cell_type": "code",
   "execution_count": 78,
   "metadata": {},
   "outputs": [
    {
     "name": "stdout",
     "output_type": "stream",
     "text": [
      "What is the height of the box :6\n",
      "What is the weidth of the box :9\n",
      "*********\n",
      "*********\n",
      "*********\n",
      "*********\n",
      "*********\n",
      "*********\n"
     ]
    }
   ],
   "source": [
    "height = int(input(\"What is the height of the box :\"))\n",
    "width = int(input(\"What is the weidth of the box :\"))\n",
    "\n",
    "for i in range(height):\n",
    "  print(\"*\" * width)"
   ]
  },
  {
   "cell_type": "markdown",
   "metadata": {},
   "source": [
    "## Ex 11"
   ]
  },
  {
   "cell_type": "code",
   "execution_count": 77,
   "metadata": {},
   "outputs": [
    {
     "name": "stdout",
     "output_type": "stream",
     "text": [
      "What is the height of the box :6\n",
      "What is the weidth of the box :10\n",
      "\n",
      "\n",
      "**********\n",
      "\n",
      "*        *\n",
      "\n",
      "*        *\n",
      "\n",
      "*        *\n",
      "\n",
      "*        *\n",
      "\n",
      "**********"
     ]
    }
   ],
   "source": [
    "height = int(input(\"What is the height of the box :\"))\n",
    "width = int(input(\"What is the weidth of the box :\"))\n",
    "for i in range(height):\n",
    "    print(\"\\n\")\n",
    "    for j in range(width):\n",
    "        if i ==0 or i == height-1:\n",
    "            print(\"*\", end = '')\n",
    "        elif (i != 0 or i != height-1) and (j == 0 or j == width-1):\n",
    "            print(\"*\", end = '')\n",
    "        else:\n",
    "            print(\" \", end = '')"
   ]
  },
  {
   "cell_type": "markdown",
   "metadata": {},
   "source": [
    "## Ex 12"
   ]
  },
  {
   "cell_type": "code",
   "execution_count": 71,
   "metadata": {},
   "outputs": [
    {
     "name": "stdout",
     "output_type": "stream",
     "text": [
      "What is the height of the box :6\n",
      "*\n",
      "**\n",
      "***\n",
      "****\n",
      "*****\n",
      "******\n"
     ]
    }
   ],
   "source": [
    "height = int(input(\"What is the height of the box :\"))\n",
    "\n",
    "for i in range(height):\n",
    "  print(\"*\" * (i+1))\n",
    "  "
   ]
  },
  {
   "cell_type": "markdown",
   "metadata": {},
   "source": [
    "## Ex 13"
   ]
  },
  {
   "cell_type": "code",
   "execution_count": 68,
   "metadata": {},
   "outputs": [
    {
     "name": "stdout",
     "output_type": "stream",
     "text": [
      "What is the height of the box :6\n",
      "******\n",
      "*****\n",
      "****\n",
      "***\n",
      "**\n",
      "*\n"
     ]
    }
   ],
   "source": [
    "height = int(input(\"What is the height of the box :\"))\n",
    "\n",
    "for i in range(height, 0, -1):\n",
    "  print(\"*\" * (i))"
   ]
  },
  {
   "cell_type": "markdown",
   "metadata": {},
   "source": [
    "## Ex 14"
   ]
  },
  {
   "cell_type": "code",
   "execution_count": 79,
   "metadata": {},
   "outputs": [
    {
     "name": "stdout",
     "output_type": "stream",
     "text": [
      "What is the height of the diamond :10\n",
      "      *      \n",
      "     ***     \n",
      "    *****    \n",
      "   *******   \n",
      "  *********  \n",
      "  *********  \n",
      "   *******   \n",
      "    *****    \n",
      "     ***     \n",
      "      *      \n"
     ]
    }
   ],
   "source": [
    "h = int(input(\"What is the height of the diamond :\"))\n",
    "if h %2==0:\n",
    "    for i in range(1,(h//2+1)):\n",
    "        print(\" \"*(h//2-i+1),\"*\"*(2*i-1),\" \"*(h//2-i+1), end ='\\n')\n",
    "    for i in range((h//2),0,-1):\n",
    "        print(\" \"*(h//2-i+1),\"*\"*(2*i-1),\" \"*(h//2-i+1), end ='\\n')\n",
    "else:\n",
    "    for i in range(1,(h//2+2)):\n",
    "        print(\" \"*(h//2-i+1),\"*\"*(2*i-1),\" \"*(h//2-i+1), end ='\\n')\n",
    "    for i in range((h//2),0,-1):\n",
    "        print(\" \"*(h//2-i+1),\"*\"*(2*i-1),\" \"*(h//2-i+1), end ='\\n')\n",
    "    "
   ]
  },
  {
   "cell_type": "markdown",
   "metadata": {},
   "source": [
    "## Ex 15"
   ]
  },
  {
   "cell_type": "code",
   "execution_count": 122,
   "metadata": {},
   "outputs": [
    {
     "name": "stdout",
     "output_type": "stream",
     "text": [
      "What is the height of the diamond :10\n",
      "         *         \n",
      "        * *        \n",
      "       *   *       \n",
      "      *     *      \n",
      "     *       *     \n",
      "    ***********     \n",
      "   *           *   \n",
      "  *             *  \n",
      " *               * \n",
      "*                 *\n"
     ]
    }
   ],
   "source": [
    "h = int(input(\"What is the height of the diamond :\"))\n",
    "if h%2 !=0:\n",
    "    for i in range(1,h+1):\n",
    "        if i == h//2+1:\n",
    "            print(\" \"*(h//2-1), \"*\"*h,\" \"*(h//2-1))\n",
    "        elif i == 1:\n",
    "            print(\" \"*(h-i),\"*\",\" \"*(h-i),sep='')\n",
    "        else:\n",
    "            print(\" \"*(h-i),\"*\",\" \"*((i-1)*2-1),\"*\",\" \"*(h-i),sep='')\n",
    "else:\n",
    "    for i in range(1,h+1):\n",
    "        if i == h//2+1:\n",
    "            print(\" \"*(h//2-2), \"*\"*(h+1),\" \"*(h//2-1))\n",
    "        elif i == 1:\n",
    "            print(\" \"*(h-i),\"*\",\" \"*(h-i),sep='')\n",
    "        else:\n",
    "            print(\" \"*(h-i),\"*\",\" \"*((i-1)*2-1),\"*\",\" \"*(h-i),sep='')"
   ]
  },
  {
   "cell_type": "code",
   "execution_count": null,
   "metadata": {},
   "outputs": [],
   "source": [
    "6"
   ]
  }
 ],
 "metadata": {
  "kernelspec": {
   "display_name": "Python 3",
   "language": "python",
   "name": "python3"
  },
  "language_info": {
   "codemirror_mode": {
    "name": "ipython",
    "version": 3
   },
   "file_extension": ".py",
   "mimetype": "text/x-python",
   "name": "python",
   "nbconvert_exporter": "python",
   "pygments_lexer": "ipython3",
   "version": "3.7.3"
  }
 },
 "nbformat": 4,
 "nbformat_minor": 2
}
