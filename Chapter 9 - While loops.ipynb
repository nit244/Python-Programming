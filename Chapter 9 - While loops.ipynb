{
 "cells": [
  {
   "cell_type": "markdown",
   "metadata": {},
   "source": [
    "# Chapter 9 - while loops"
   ]
  },
  {
   "cell_type": "markdown",
   "metadata": {},
   "source": [
    "## Ex 1 "
   ]
  },
  {
   "cell_type": "code",
   "execution_count": 1,
   "metadata": {},
   "outputs": [
    {
     "name": "stdout",
     "output_type": "stream",
     "text": [
      "1 2 3 4 5 6 7 8 9 10 11 12 13 14 15 16 17 18 19 20 21 22 23 24 25 26 27 28 29 30 31 32 33 34 35 36 37 38 39 40 41 42 43 44 45 46 47 48 49 50 "
     ]
    }
   ],
   "source": [
    "i = 1\n",
    "while i < 51:\n",
    "    print(i, end = ' ')\n",
    "    i +=1"
   ]
  },
  {
   "cell_type": "markdown",
   "metadata": {},
   "source": [
    "## Ex 2a"
   ]
  },
  {
   "cell_type": "code",
   "execution_count": 6,
   "metadata": {},
   "outputs": [
    {
     "name": "stdout",
     "output_type": "stream",
     "text": [
      "H e l l o ,   h o w   a r e   y o u ? "
     ]
    }
   ],
   "source": [
    "string = 'Hello, how are you?'\n",
    "length = len(string)\n",
    "i = 0\n",
    "while i < length:\n",
    "    print(string[i], end = ' ')\n",
    "    i +=1"
   ]
  },
  {
   "cell_type": "markdown",
   "metadata": {},
   "source": [
    "## Ex 2b"
   ]
  },
  {
   "cell_type": "code",
   "execution_count": 7,
   "metadata": {},
   "outputs": [
    {
     "name": "stdout",
     "output_type": "stream",
     "text": [
      "H l o   o   r   o ? "
     ]
    }
   ],
   "source": [
    "string = 'Hello, how are you?'\n",
    "length = len(string)\n",
    "i = 0\n",
    "while i < length:\n",
    "    print(string[i], end = ' ')\n",
    "    i += 2"
   ]
  },
  {
   "cell_type": "markdown",
   "metadata": {},
   "source": [
    "## Ex 3"
   ]
  },
  {
   "cell_type": "code",
   "execution_count": 2,
   "metadata": {},
   "outputs": [
    {
     "name": "stdout",
     "output_type": "stream",
     "text": [
      "Enter a weight in kilogram : 0\n",
      "Invalid input!! Enter a weight in kilogram : 7\n",
      "7 kg = 15.4323 lb\n"
     ]
    }
   ],
   "source": [
    "kg = float(input(\"Enter a weight in kilogram : \"))\n",
    "while kg == 0:\n",
    "    kg = float(input(\"Invalid input!! Enter a weight in kilogram : \"))\n",
    "print(\"%g kg = %g lb\"%(kg,kg*2.20462))    \n"
   ]
  },
  {
   "cell_type": "markdown",
   "metadata": {},
   "source": [
    "## Ex 4"
   ]
  },
  {
   "cell_type": "code",
   "execution_count": 5,
   "metadata": {},
   "outputs": [
    {
     "name": "stdout",
     "output_type": "stream",
     "text": [
      "Enter password : jjiji\n",
      "Invalid password. Retype password : kkj\n",
      "Invalid password. Retype password : iji\n",
      "Invalid password. Retype password : ih\n",
      "Invalid password. Retype password : ihu\n",
      "You have been kicked out of the System\n"
     ]
    }
   ],
   "source": [
    "password = 'nit@123esh'\n",
    "password1 = input(\"Enter password : \")\n",
    "i = 0\n",
    "while i != 4 and password != password1:\n",
    "    password1 = input('Invalid password. Retype password : ')\n",
    "    i +=1\n",
    "\n",
    "if password == password1:\n",
    "    print('Correct password.')\n",
    "else:\n",
    "    print('You have been kicked out of the System')\n"
   ]
  },
  {
   "cell_type": "markdown",
   "metadata": {},
   "source": [
    "## Ex 5"
   ]
  },
  {
   "cell_type": "code",
   "execution_count": 25,
   "metadata": {},
   "outputs": [
    {
     "name": "stdout",
     "output_type": "stream",
     "text": [
      "Enter a number : 45\n",
      "Enter a number : 91\n",
      "Enter a number : 100\n",
      "Enter a number : -1\n",
      "I am done with entering numbers\n",
      "Count of numbers greater than 90 or equal to 90 is 3\n",
      "Average of the numbers : 78.6667\n"
     ]
    }
   ],
   "source": [
    "nums = []\n",
    "num = int(input(\"Enter a number : \"))\n",
    "count = 1\n",
    "while num >= 0:\n",
    "    if num >= 90:\n",
    "        count +=1\n",
    "    nums.append(num)\n",
    "    num = int(input(\"Enter a number : \"))\n",
    "print(\"I am done with entering numbers\")\n",
    "\n",
    "sum1 = 0\n",
    "i = 0\n",
    "while i != len(nums):\n",
    "    sum1 = sum1 + nums[i]\n",
    "    i +=1\n",
    "avg = sum1/len(nums)\n",
    "print(\"Count of numbers greater than 90 or equal to 90 is %g\"%count)\n",
    "print(\"Average of the numbers : %g\"%avg)\n",
    "\n",
    "    "
   ]
  },
  {
   "cell_type": "markdown",
   "metadata": {},
   "source": [
    "## Ex 6"
   ]
  },
  {
   "cell_type": "code",
   "execution_count": 106,
   "metadata": {},
   "outputs": [
    {
     "name": "stdout",
     "output_type": "stream",
     "text": [
      "Enter your guess : 5\n",
      "Your guess is lower then the number. Try again\n",
      "Not 1 guesses left.\n",
      "Enter your guess : 15\n",
      "Your guess is higher then the number. Try again\n",
      "Not 1 guesses left.\n",
      "Enter your guess : 9\n",
      "Your guess is higher then the number. Try again\n",
      "Not 1 guesses left.\n",
      "Enter your guess : 7\n",
      "Your guess is lower then the number. Try again\n",
      "1 guess left.\n",
      "Enter your guess : 8\n",
      "Correct guess!!!\n"
     ]
    }
   ],
   "source": [
    "from random import randint\n",
    "num = randint(1,25)\n",
    "chances = 5\n",
    "flag = 0\n",
    "while chances !=0:\n",
    "    guess = int(input(\"Enter your guess : \"))\n",
    "    if num == guess:\n",
    "        print(\"Correct guess!!!\")\n",
    "        flag = 1\n",
    "        break\n",
    "    elif num < guess:\n",
    "        print(\"Your guess is higher then the number. Try again\")\n",
    "    else:\n",
    "        print(\"Your guess is lower then the number. Try again\")\n",
    "    chances -=1\n",
    "    if chances ==1:\n",
    "        print(\"1 guess left.\")\n",
    "    elif chances>1:\n",
    "        print('Not 1 guesses left.')\n",
    "if flag ==0:\n",
    "    print(\"Sorry!! You have not made correct guess.\")\n"
   ]
  },
  {
   "cell_type": "markdown",
   "metadata": {},
   "source": [
    "# Ex 7a"
   ]
  },
  {
   "cell_type": "code",
   "execution_count": 6,
   "metadata": {},
   "outputs": [
    {
     "name": "stdout",
     "output_type": "stream",
     "text": [
      "Enter a string : Hello world\n",
      "Enter a letter : l\n",
      "Letter l is in string Hello world ia at index 2\n"
     ]
    }
   ],
   "source": [
    "string = input(\"Enter a string : \")\n",
    "letter = input(\"Enter a letter : \")\n",
    "flag = 0\n",
    "i = 0 \n",
    "while i != len(string):\n",
    "    if letter == string[i]:\n",
    "        index = i\n",
    "        flag = 1\n",
    "        break\n",
    "    i +=1\n",
    "if flag == 1:\n",
    "    print(\"Letter %s is in string %s ia at index %g\"%(letter,string,index))"
   ]
  },
  {
   "cell_type": "markdown",
   "metadata": {},
   "source": [
    "## Ex 7b"
   ]
  },
  {
   "cell_type": "code",
   "execution_count": 7,
   "metadata": {},
   "outputs": [
    {
     "name": "stdout",
     "output_type": "stream",
     "text": [
      "Enter a string : hello world\n",
      "Enter a letter : l\n",
      "Letter l is in string hello world ia at index 2\n"
     ]
    }
   ],
   "source": [
    "string = input(\"Enter a string : \")\n",
    "letter = input(\"Enter a letter : \")\n",
    "flag = 0\n",
    "\n",
    "for i in range(len(string)):\n",
    "    if letter == string[i]:\n",
    "        index = i\n",
    "        flag = 1\n",
    "        break\n",
    "    i +=1\n",
    "if flag == 1:\n",
    "    print(\"Letter %s is in string %s ia at index %g\"%(letter,string,index))"
   ]
  },
  {
   "cell_type": "markdown",
   "metadata": {},
   "source": [
    "## Ex 8"
   ]
  },
  {
   "cell_type": "code",
   "execution_count": 9,
   "metadata": {},
   "outputs": [
    {
     "name": "stdout",
     "output_type": "stream",
     "text": [
      "Enter the first number : 12\n",
      "Enter the second number : 18\n",
      "GCD of two numbers 12 and 18 is 6.\n"
     ]
    }
   ],
   "source": [
    "num1 = int(input(\"Enter the first number : \"))\n",
    "num2 = int(input(\"Enter the second number : \"))\n",
    "if num1 >num2:\n",
    "    larger_num = num1\n",
    "    smaller_num = num2\n",
    "else:\n",
    "    larger_num = num2\n",
    "    smaller_num = num1\n",
    "\n",
    "while smaller_num !=0:\n",
    "    rem = larger_num % smaller_num\n",
    "    larger_num = smaller_num\n",
    "    smaller_num = rem\n",
    "print(\"GCD of two numbers %g and %g is %g.\"%(num1, num2,larger_num))"
   ]
  },
  {
   "cell_type": "markdown",
   "metadata": {},
   "source": [
    "## Ex 9"
   ]
  },
  {
   "cell_type": "code",
   "execution_count": 10,
   "metadata": {},
   "outputs": [
    {
     "name": "stdout",
     "output_type": "stream",
     "text": [
      "Enter a number : 5\n",
      "2.23606797749979\n"
     ]
    }
   ],
   "source": [
    "num = int(input(\"Enter a number : \"))\n",
    "n = 1\n",
    "i =10\n",
    "while i != 0:\n",
    "    n = (n+5/n)/2\n",
    "    i -= 1\n",
    "print(n)"
   ]
  },
  {
   "cell_type": "markdown",
   "metadata": {},
   "source": [
    "## Ex 10"
   ]
  },
  {
   "cell_type": "code",
   "execution_count": 41,
   "metadata": {},
   "outputs": [
    {
     "name": "stdout",
     "output_type": "stream",
     "text": [
      "Write\n"
     ]
    }
   ],
   "source": [
    "from random import choice\n",
    "lst = ['Write', 'a', 'program', 'that', 'has', 'a', 'list', 'of', 'ten', 'words']\n",
    "no_repeate = []\n",
    "i = 0\n",
    "while i != len(lst):\n",
    "    \n",
    "    temp =[]\n",
    "    for j in lst[i]:\n",
    "        if j not in temp:\n",
    "            temp.append(j)\n",
    "    if len(lst[i]) == len(temp):\n",
    "        no_repeate.append(lst[i])\n",
    "    i += 1   \n",
    "print(choice(no_repeate))   "
   ]
  },
  {
   "cell_type": "markdown",
   "metadata": {},
   "source": [
    "## Ex 11"
   ]
  },
  {
   "cell_type": "code",
   "execution_count": 44,
   "metadata": {},
   "outputs": [
    {
     "name": "stdout",
     "output_type": "stream",
     "text": [
      "[[1, 1, 0, 0, 1], [1, 1, 0, 0, 0], [1, 0, 0, 0, 0], [0, 0, 1, 1, 0], [0, 0, 0, 1, 1]]\n"
     ]
    }
   ],
   "source": [
    "from random import randint\n",
    "lst = [[0,0,0,0,0],\n",
    "      [0,0,0,0,0],\n",
    "      [0,0,0,0,0],\n",
    "      [0,0,0,0,0],\n",
    "      [0,0,0,0,0]]\n",
    "index_lst = []\n",
    "while len(index_lst) < 10:\n",
    "    r = randint(0,4)\n",
    "    c = randint(0,4)\n",
    "    if [r,c] not in index_lst:\n",
    "        index_lst.append([r,c])\n",
    "for i in index_lst:\n",
    "    lst[i[0]][i[1]] = 1\n",
    "print(lst)  "
   ]
  },
  {
   "cell_type": "markdown",
   "metadata": {},
   "source": [
    "## Ex 12"
   ]
  },
  {
   "cell_type": "code",
   "execution_count": 97,
   "metadata": {},
   "outputs": [
    {
     "name": "stdout",
     "output_type": "stream",
     "text": [
      "[1, 1, 1, 1, 0, 0, 1]\n"
     ]
    }
   ],
   "source": [
    "lst = [1,1,0,1,0,0,1]\n",
    "flag = 0\n",
    "i = 0\n",
    "while i != len(lst):\n",
    "    if lst[i] == 0:\n",
    "        lst[i] = 1\n",
    "        flag = 1\n",
    "        break\n",
    "    i +=1\n",
    "if flag == 0:\n",
    "    print(\"There is no zero in the list.\")\n",
    "print(lst)"
   ]
  },
  {
   "cell_type": "markdown",
   "metadata": {},
   "source": [
    "## Ex 13"
   ]
  },
  {
   "cell_type": "code",
   "execution_count": null,
   "metadata": {},
   "outputs": [
    {
     "name": "stdout",
     "output_type": "stream",
     "text": [
      "1-> 🔨 || 2 -> 📄 || 3 -> ✂ \n",
      "Rock(1), Paper(2) or Scissors(3)1\n",
      "Draw\n",
      "Rock(1), Paper(2) or Scissors(3)3\n",
      "Draw\n",
      "Rock(1), Paper(2) or Scissors(3)2\n",
      "You win\n",
      "Rock(1), Paper(2) or Scissors(3)1\n",
      "computer wins\n"
     ]
    }
   ],
   "source": [
    "from random import randint\n",
    "print(\"1-> 🔨 || 2 -> 📄 || 3 -> ✂ \")\n",
    "cWin = 0\n",
    "yWin = 0\n",
    "total = 0\n",
    "while total != 5:\n",
    "    computer = randint(1,3)\n",
    "    you = int(input(\"Rock(1), Paper(2) or Scissors(3)\"))\n",
    "    if computer == you:\n",
    "        print(\"Draw\")\n",
    "    elif computer == 1:\n",
    "        if you == 2:\n",
    "            print(\"You win\")\n",
    "            yWin +=1\n",
    "            total +=1\n",
    "        else:\n",
    "            print(\"computer wins\")\n",
    "            cWin += 1\n",
    "            total +=1\n",
    "    elif computer == 2:\n",
    "        if you == 3:\n",
    "            print(\"You win\")\n",
    "            yWin +=1\n",
    "            total +=1\n",
    "        else:\n",
    "            print(\"computer wins\")\n",
    "            cWin += 1\n",
    "            total +=1\n",
    "    else:\n",
    "        if you == 1:\n",
    "            print(\"You win\")\n",
    "            yWin +=1\n",
    "            total +=1\n",
    "        else:\n",
    "            print(\"computer wins\")\n",
    "            cWin += 1\n",
    "            total +=1\n",
    "\n",
    "if cWin >= 3:\n",
    "    print(\"Computer won the series!!\")\n",
    "else:\n",
    "    print(\"You won the series!!\")"
   ]
  },
  {
   "cell_type": "markdown",
   "metadata": {},
   "source": [
    "## Ex 14"
   ]
  },
  {
   "cell_type": "code",
   "execution_count": 4,
   "metadata": {},
   "outputs": [
    {
     "name": "stdout",
     "output_type": "stream",
     "text": [
      "Your total remains 20\n",
      "0 for head, 1 for tail : 1\n",
      "Your total remains 29\n",
      "0 for head, 1 for tail : 0\n",
      "Your total remains 19\n",
      "0 for head, 1 for tail : 0\n",
      "Your total remains 28\n",
      "0 for head, 1 for tail : 1\n",
      "Your total remains 37\n",
      "0 for head, 1 for tail : 1\n",
      "You have won!!\n"
     ]
    }
   ],
   "source": [
    "from random import randint\n",
    "total = 20\n",
    "while total <=40 and total >=0:\n",
    "    print('Your total remains %g'%total)\n",
    "    coin_flip = randint(0,1)\n",
    "    guess = int(input('0 for head, 1 for tail : '))\n",
    "    if guess == coin_flip:\n",
    "        total =total + 9\n",
    "    if guess != coin_flip:\n",
    "        total = total - 10\n",
    "if total < 0:\n",
    "    print(\"You have lost!!\")\n",
    "else:\n",
    "    print(\"You have won!!\")"
   ]
  },
  {
   "cell_type": "markdown",
   "metadata": {},
   "source": [
    "## Ex 15"
   ]
  },
  {
   "cell_type": "code",
   "execution_count": 1,
   "metadata": {},
   "outputs": [
    {
     "name": "stdout",
     "output_type": "stream",
     "text": [
      "*****\n",
      "Enter a letter : a\n",
      "****a\n",
      "Enter a letter : i\n",
      "**i*a\n",
      "Enter a letter : c\n",
      "c*i*a\n",
      "Enter a letter : h\n",
      "chi*a\n",
      "Enter a letter : n\n",
      "china\n",
      "You have made correct guess.\n"
     ]
    }
   ],
   "source": [
    "from random import choice\n",
    "country_lst = \"China,India,United States,Indonesia,Pakistan,Brazil,Nigeria,Bangladesh,Russia,Mexico\".split(',')\n",
    "country = list(choice(country_lst).lower())\n",
    "to_guess = list('*'*len(country))\n",
    "i = 0\n",
    "while i != len(to_guess):\n",
    "    if to_guess == country:\n",
    "        break\n",
    "    print(''.join(to_guess))\n",
    "    guess = input(\"Enter a letter : \")\n",
    "    for t in range(len(to_guess)):\n",
    "        if country[t] == guess:\n",
    "            to_guess[t] = guess\n",
    "            i += 1\n",
    "print(''.join(to_guess))        \n",
    "if to_guess == country:\n",
    "    print(\"You have made correct guess.\")\n",
    "else:\n",
    "    print(\"You have not made correct guess.\")"
   ]
  },
  {
   "cell_type": "markdown",
   "metadata": {},
   "source": [
    "## Ex 16"
   ]
  },
  {
   "cell_type": "markdown",
   "metadata": {},
   "source": [
    "## Ex 17"
   ]
  },
  {
   "cell_type": "code",
   "execution_count": null,
   "metadata": {},
   "outputs": [],
   "source": []
  },
  {
   "cell_type": "code",
   "execution_count": null,
   "metadata": {},
   "outputs": [],
   "source": []
  },
  {
   "cell_type": "markdown",
   "metadata": {},
   "source": [
    "## Ex 18"
   ]
  },
  {
   "cell_type": "code",
   "execution_count": 41,
   "metadata": {},
   "outputs": [
    {
     "name": "stdout",
     "output_type": "stream",
     "text": [
      "[[1, 1, 1, 1, 1, 0], [0, 0, 0, 0, 0, 1], [1, 0, 0, 1, 0, 1], [0, 0, 0, 0, 0, 0], [0, 0, 0, 0, 1, 0], [1, 0, 0, 0, 0, 1]]\n"
     ]
    }
   ],
   "source": [
    "from random import randint\n",
    "lst = [[0,0,0,0,0,0],\n",
    "      [0,0,0,0,0,0],\n",
    "      [0,0,0,0,0,0],\n",
    "      [0,0,0,0,0,0],\n",
    "      [0,0,0,0,0,0],\n",
    "      [0,0,0,0,0,0]]\n",
    "\n",
    "index_lst = []\n",
    "while len(index_lst) < 12:\n",
    "    r = randint(0,5)\n",
    "    c = randint(0,5)\n",
    "    if [r,c] not in index_lst:\n",
    "        index_lst.append([r,c])\n",
    "for i in index_lst:\n",
    "    lst[i[0]][i[1]] = 1\n",
    "print(lst)  "
   ]
  },
  {
   "cell_type": "markdown",
   "metadata": {},
   "source": [
    "## Ex 19"
   ]
  },
  {
   "cell_type": "code",
   "execution_count": 68,
   "metadata": {},
   "outputs": [
    {
     "data": {
      "text/plain": [
       "[[7, 2, 8, 1, 4, 5, 9, 6],\n",
       " [2, 8, 1, 4, 5, 9, 6, 7],\n",
       " [8, 1, 4, 5, 9, 6, 7, 2],\n",
       " [1, 4, 5, 9, 6, 7, 2, 8],\n",
       " [4, 5, 9, 6, 7, 2, 8, 1],\n",
       " [5, 9, 6, 7, 2, 8, 1, 4],\n",
       " [9, 6, 7, 2, 8, 1, 4, 5],\n",
       " [6, 7, 2, 8, 1, 4, 5, 9],\n",
       " [7, 2, 8, 1, 4, 5, 9, 6]]"
      ]
     },
     "execution_count": 68,
     "metadata": {},
     "output_type": "execute_result"
    }
   ],
   "source": [
    "from random import randint, shuffle\n",
    "\n",
    "entery = [i for i in range(1,10)]\n",
    "shuffle(entery)\n",
    "lst = []\n",
    "for i in range(9):\n",
    "    j = i\n",
    "    lst1 =[]\n",
    "    while j !=8:\n",
    "        lst1.append(entery[j])\n",
    "        j +=1\n",
    "    j = 0\n",
    "    while j != i:\n",
    "        lst1.append(entery[j])\n",
    "        j +=1\n",
    "    lst.append(lst1)\n",
    "lst\n",
    "        \n",
    "    "
   ]
  }
 ],
 "metadata": {
  "kernelspec": {
   "display_name": "Python 3",
   "language": "python",
   "name": "python3"
  },
  "language_info": {
   "codemirror_mode": {
    "name": "ipython",
    "version": 3
   },
   "file_extension": ".py",
   "mimetype": "text/x-python",
   "name": "python",
   "nbconvert_exporter": "python",
   "pygments_lexer": "ipython3",
   "version": "3.7.3"
  }
 },
 "nbformat": 4,
 "nbformat_minor": 2
}
