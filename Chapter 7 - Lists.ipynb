{
 "cells": [
  {
   "cell_type": "markdown",
   "metadata": {},
   "source": [
    "# Chapter 7 - Lists"
   ]
  },
  {
   "cell_type": "markdown",
   "metadata": {},
   "source": [
    "## Ex 1"
   ]
  },
  {
   "cell_type": "code",
   "execution_count": 28,
   "metadata": {},
   "outputs": [
    {
     "name": "stdout",
     "output_type": "stream",
     "text": [
      "Enter the list : [9,8,5,2,5]\n",
      "Length of the list : 5\n",
      "Last item : 5\n",
      "Reverse : [5, 2, 5, 8, 9]\n",
      "Yes, list contains item 5\n",
      "Count of item 5 in the list is 2\n",
      "Sorted list after removing first and the last item : [8, 5, 2]\n",
      "Count of item less than 5 in the list is 1\n"
     ]
    }
   ],
   "source": [
    "lst = eval(input(\"Enter the list : \"))\n",
    "#lst = [9,8,5,2,5]\n",
    "\n",
    "\n",
    "print(\"Length of the list : %s\"%len(lst))\n",
    "print(\"Last item : %s\"%lst[-1])\n",
    "print(\"Reverse : %s\"%lst[-1::-1])\n",
    "\n",
    "\n",
    "flag = 0\n",
    "for i in lst:\n",
    "    if i == 5:\n",
    "        flag =1\n",
    "        break\n",
    "if flag ==1:\n",
    "    print(\"Yes, list contains item 5\")\n",
    "else:\n",
    "    print(\"No, list doesn't contain item 5\")\n",
    "\n",
    "    \n",
    "count = 0\n",
    "for i in lst:\n",
    "    if i == 5:\n",
    "        count +=1\n",
    "print(\"Count of item 5 in the list is %s\"%count)\n",
    "\n",
    "\n",
    "lst.pop(0)\n",
    "lst.pop(-1)\n",
    "print(\"Sorted list after removing first and the last item : %s\"%lst)\n",
    "\n",
    "\n",
    "count = 0\n",
    "for i in lst:\n",
    "    if i < 5:\n",
    "        count +=1\n",
    "print(\"Count of item less than 5 in the list is %s\"%count)"
   ]
  },
  {
   "cell_type": "markdown",
   "metadata": {},
   "source": [
    "## Ex 2"
   ]
  },
  {
   "cell_type": "code",
   "execution_count": 34,
   "metadata": {},
   "outputs": [
    {
     "name": "stdout",
     "output_type": "stream",
     "text": [
      "[63, 71, 94, 80, 81, 5, 34, 61, 89, 16, 43, 76, 57, 63, 82, 99, 93, 96, 67, 46]\n",
      "Average of the elements in the list : 65.8\n",
      "Largest : 99, Smallest : 5\n",
      "The second largest : 99 and the second smallest : 5\n",
      "Count of even numbers in the list is 8\n"
     ]
    }
   ],
   "source": [
    "from random import randint\n",
    "lst = []\n",
    "for i in range(20):\n",
    "    lst.append(randint(1,100))\n",
    "    \n",
    "print(lst)\n",
    "\n",
    "sum1 = 0\n",
    "for i in lst:\n",
    "    sum1 = sum1 + i\n",
    "avg = sum1/len(lst)\n",
    "print(\"Average of the elements in the list : %s\"%avg)\n",
    "print(\"Largest : %s, Smallest : %s\"%(max(lst), min(lst)))\n",
    "\n",
    "lst.sort()\n",
    "print(\"The second largest : %s and the second smallest : %s\"%(lst[-1],lst[0]))\n",
    "\n",
    "count = 0\n",
    "for i in lst:\n",
    "    if i%2 ==0:\n",
    "        count += 1\n",
    "print(\"Count of even numbers in the list is %s\"%count)"
   ]
  },
  {
   "cell_type": "markdown",
   "metadata": {},
   "source": [
    "## Ex 3"
   ]
  },
  {
   "cell_type": "code",
   "execution_count": 50,
   "metadata": {},
   "outputs": [
    {
     "name": "stdout",
     "output_type": "stream",
     "text": [
      "[4, 5, 6, 25, 10, 17, 4, 5, 6, 10, 17]\n"
     ]
    }
   ],
   "source": [
    "lst = [8,9,10]\n",
    "\n",
    "lst[1] = 17\n",
    "lst.append(4)\n",
    "lst.append(5)\n",
    "lst.append(6)\n",
    "lst.remove(lst[0])\n",
    "lst.sort()\n",
    "\n",
    "lst = lst*2\n",
    "\n",
    "lst.insert(3,25)\n",
    "print(lst)"
   ]
  },
  {
   "cell_type": "markdown",
   "metadata": {},
   "source": [
    "## Ex 4"
   ]
  },
  {
   "cell_type": "code",
   "execution_count": 61,
   "metadata": {},
   "outputs": [
    {
     "name": "stdout",
     "output_type": "stream",
     "text": [
      "Enter a list containing numbers between 1 and 12 : [3,4,12,11,10,9,11]\n",
      "New list : [3, 4, 10, 10, 10, 9, 10]\n"
     ]
    }
   ],
   "source": [
    "lst = eval(input(\"Enter a list containing numbers between 1 and 12 : \"))\n",
    "for i in range(len(lst)):\n",
    "    if lst[i] > 10:\n",
    "        lst[i] = 10\n",
    "print(\"New list : %s\"%lst)\n",
    "        "
   ]
  },
  {
   "cell_type": "markdown",
   "metadata": {},
   "source": [
    "## Ex 5"
   ]
  },
  {
   "cell_type": "code",
   "execution_count": 65,
   "metadata": {},
   "outputs": [
    {
     "name": "stdout",
     "output_type": "stream",
     "text": [
      "Enter a list of strings : ['hello','world','cricket']\n",
      "New list : ['ello', 'orld', 'ricket']\n"
     ]
    }
   ],
   "source": [
    "string_lst = eval(input(\"Enter a list of strings : \"))\n",
    "for i in range(len(string_lst)):\n",
    "    string_lst[i] = string_lst[i][1:]\n",
    "print(\"New list : %s\"%string_lst)"
   ]
  },
  {
   "cell_type": "markdown",
   "metadata": {},
   "source": [
    "## Ex 6"
   ]
  },
  {
   "cell_type": "code",
   "execution_count": 72,
   "metadata": {},
   "outputs": [
    {
     "name": "stdout",
     "output_type": "stream",
     "text": [
      "[0, 1, 2, 3, 4, 5, 6, 7, 8, 9, 10, 11, 12, 13, 14, 15, 16, 17, 18, 19, 20, 21, 22, 23, 24, 25, 26, 27, 28, 29, 30, 31, 32, 33, 34, 35, 36, 37, 38, 39, 40, 41, 42, 43, 44, 45, 46, 47, 48, 49]\n",
      "\n",
      "\n",
      "[0, 1, 4, 9, 16, 25, 36, 49, 64, 81, 100, 121, 144, 169, 196, 225, 256, 289, 324, 361, 400, 441, 484, 529, 576, 625, 676, 729, 784, 841, 900, 961, 1024, 1089, 1156, 1225, 1296, 1369, 1444, 1521, 1600, 1681, 1764, 1849, 1936, 2025, 2116, 2209, 2304, 2401, 2500]\n",
      "\n",
      "\n",
      "['a', 'bb', 'ccc', 'dddd', 'eeeee', 'ffffff', 'ggggggg', 'hhhhhhhh', 'iiiiiiiii', 'jjjjjjjjjj', 'kkkkkkkkkkk', 'llllllllllll', 'mmmmmmmmmmmmm', 'nnnnnnnnnnnnnn', 'ooooooooooooooo', 'pppppppppppppppp', 'qqqqqqqqqqqqqqqqq', 'rrrrrrrrrrrrrrrrrr', 'sssssssssssssssssss', 'tttttttttttttttttttt', 'uuuuuuuuuuuuuuuuuuuuu', 'vvvvvvvvvvvvvvvvvvvvvv', 'wwwwwwwwwwwwwwwwwwwwwww', 'xxxxxxxxxxxxxxxxxxxxxxxx', 'yyyyyyyyyyyyyyyyyyyyyyyyy', 'zzzzzzzzzzzzzzzzzzzzzzzzzz']\n"
     ]
    }
   ],
   "source": [
    "lst =[]\n",
    "for i in range(50):\n",
    "    lst.append(i)\n",
    "print(lst)\n",
    "print(\"\\n\")\n",
    "\n",
    "lst = []\n",
    "for i in range(51):\n",
    "    lst.append(i**2)\n",
    "print(lst)\n",
    "print(\"\\n\")\n",
    "\n",
    "a2z = 'abcdefghijklmnopqrstuvwxyz'\n",
    "lst =[]\n",
    "\n",
    "for i in range(len(a2z)):\n",
    "    lst.append(a2z[i]*(i+1))\n",
    "print(lst)"
   ]
  },
  {
   "cell_type": "markdown",
   "metadata": {},
   "source": [
    "## Ex 7"
   ]
  },
  {
   "cell_type": "code",
   "execution_count": 76,
   "metadata": {},
   "outputs": [
    {
     "name": "stdout",
     "output_type": "stream",
     "text": [
      "[4, 6, 13]\n"
     ]
    }
   ],
   "source": [
    "L=[3,1,4] \n",
    "M=[1,5,9]\n",
    "new_lst =[]\n",
    "for i in range(len(L)):\n",
    "    new_lst.append(L[i] + M[i])\n",
    "\n",
    "print(new_lst)"
   ]
  },
  {
   "cell_type": "markdown",
   "metadata": {},
   "source": [
    "## Ex 8"
   ]
  },
  {
   "cell_type": "code",
   "execution_count": 79,
   "metadata": {},
   "outputs": [
    {
     "name": "stdout",
     "output_type": "stream",
     "text": [
      "Enter a number : 12\n",
      "Factors of the number 12 is/are [1, 2, 3, 4, 6]\n"
     ]
    }
   ],
   "source": [
    "num = int(input(\"Enter a number : \"))\n",
    "factor =[]\n",
    "for i in range(1,num):\n",
    "    if num%i==0:\n",
    "        factor.append(i)\n",
    "print(\"Factors of the number %s is/are %s\"%(num, factor))"
   ]
  },
  {
   "cell_type": "markdown",
   "metadata": {},
   "source": [
    "## Ex 9"
   ]
  },
  {
   "cell_type": "code",
   "execution_count": 110,
   "metadata": {},
   "outputs": [
    {
     "name": "stdout",
     "output_type": "stream",
     "text": [
      "Percentage of rolls come out to be \n",
      "two :2.3800000000000003\n",
      "three :5.82\n",
      "four :8.67\n",
      "five :11.31\n",
      "six :13.5\n",
      "seven :16.89\n",
      "eight :14.12\n",
      "nine :10.94\n",
      "ten :7.969999999999999\n",
      "eleven :5.65\n",
      "twelve :2.75\n",
      "\n"
     ]
    }
   ],
   "source": [
    "from random import randint\n",
    "d1 = [1,2,3,4,5,6]\n",
    "d2 = [1,2,3,4,5,6]\n",
    "d3 =[]\n",
    "for i in d1:\n",
    "    for j in d2:\n",
    "        d3.append(i+j)\n",
    "two = 0\n",
    "three = 0\n",
    "four = 0\n",
    "five = 0\n",
    "six = 0\n",
    "seven = 0\n",
    "eight =0\n",
    "nine = 0\n",
    "ten = 0\n",
    "eleven = 0\n",
    "twelve = 0\n",
    "n= 10000\n",
    "for x in range(n):\n",
    "    y = randint(0,35)\n",
    "    if d3[y] ==2:\n",
    "        two +=1\n",
    "    elif d3[y] ==3:\n",
    "        three +=1\n",
    "    elif d3[y] == 4:\n",
    "        four +=1\n",
    "    elif d3[y] ==5:\n",
    "        five +=1\n",
    "    elif d3[y]==6:\n",
    "        six +=1\n",
    "    elif d3[y]==7:\n",
    "        seven +=1\n",
    "    elif d3[y] ==8:\n",
    "        eight +=1\n",
    "    elif d3[y]==9:\n",
    "        nine +=1\n",
    "    elif d3[y]==10:\n",
    "        ten +=1\n",
    "    elif d3[y]==11:\n",
    "        eleven +=1\n",
    "    else:\n",
    "        twelve +=1\n",
    "print(\"Percentage of rolls come out to be \\ntwo :%s\\nthree :%s\\nfour :%s\\nfive :%s\\nsix :%s\\nseven :%s\\neight :%s\\nnine :%s\\nten :%s\\neleven :%s\\ntwelve :%s\\n\"%\\\n",
    "      (two/n*100,three/n*100,four/n*100,five/n*100,six/n*100,seven/n*100,eight/n*100,nine/n*100,ten/n*100,eleven/n*100,twelve/n*100))"
   ]
  },
  {
   "cell_type": "markdown",
   "metadata": {},
   "source": [
    "## Ex 10"
   ]
  },
  {
   "cell_type": "code",
   "execution_count": 116,
   "metadata": {},
   "outputs": [
    {
     "name": "stdout",
     "output_type": "stream",
     "text": [
      "[4, 5, 6, 1, 2, 3]\n"
     ]
    }
   ],
   "source": [
    "lst = [1,2,3,4,5,6]\n",
    "rotations = 3\n",
    "after_rot =[]\n",
    "for i in range(len(lst)-rotations):\n",
    "    after_rot.append(lst[rotations+i])\n",
    "for i in range(rotations):\n",
    "    after_rot.append(lst[i])\n",
    "print(after_rot)\n",
    "    "
   ]
  },
  {
   "cell_type": "markdown",
   "metadata": {},
   "source": [
    "## Ex 11"
   ]
  },
  {
   "cell_type": "code",
   "execution_count": 118,
   "metadata": {},
   "outputs": [
    {
     "name": "stdout",
     "output_type": "stream",
     "text": [
      "[1, 1, 0, 1, 0, 0, 1, 0, 0, 0, 1, 0, 0, 0, 0, 1, 0, 0, 0, 0, 0, 1, 0, 0, 0, 0, 0, 0, 1, 0, 0, 0, 0, 0, 0, 0, 1, 0, 0, 0, 0, 0, 0, 0, 0, 1, 0, 0, 0, 0, 0, 0, 0, 0, 0, 1, 0, 0, 0, 0, 0, 0, 0, 0, 0, 0, 1]\n"
     ]
    }
   ],
   "source": [
    "lst =[]\n",
    "n = 10\n",
    "for i in range(n+2):\n",
    "    lst.append(1)\n",
    "    if i == n+1:\n",
    "        break\n",
    "    for j in range(i):\n",
    "        lst.append(0)\n",
    "print(lst)  "
   ]
  },
  {
   "cell_type": "markdown",
   "metadata": {},
   "source": [
    "## Ex 12"
   ]
  },
  {
   "cell_type": "code",
   "execution_count": 124,
   "metadata": {},
   "outputs": [
    {
     "name": "stdout",
     "output_type": "stream",
     "text": [
      "[1, 1, 0, 0, 1, 1, 0, 1, 1, 1, 0, 1, 1, 0, 0, 1, 1, 1, 0, 1, 1, 0, 0, 1, 1, 1, 1, 0, 1, 1, 0, 0, 1, 0, 1, 0, 1, 1, 1, 0, 1, 0, 0, 1, 0, 0, 1, 1, 0, 1, 1, 0, 0, 1, 1, 1, 0, 0, 1, 0, 0, 1, 1, 1, 1, 0, 1, 0, 1, 1, 1, 1, 1, 1, 1, 1, 1, 1, 1, 0, 0, 1, 0, 0, 0, 0, 0, 1, 0, 1, 0, 1, 0, 1, 1, 0, 0, 1, 0, 1]\n",
      "The largest number of zeros in a row is 5\n"
     ]
    }
   ],
   "source": [
    "from random import randint\n",
    "lst =[]\n",
    "for i in range(100):\n",
    "    lst.append(randint(0,1))\n",
    "long_run =0\n",
    "count =0\n",
    "for i in lst:\n",
    "    if i == 0:\n",
    "        count +=1\n",
    "    else:\n",
    "        if long_run > count:\n",
    "            long_run = long_run\n",
    "        else:\n",
    "            long_run = count\n",
    "        count = 0\n",
    "print(lst)\n",
    "print(\"The largest number of zeros in a row is %g\"%long_run)"
   ]
  },
  {
   "cell_type": "markdown",
   "metadata": {},
   "source": [
    "## Ex 13"
   ]
  },
  {
   "cell_type": "code",
   "execution_count": 126,
   "metadata": {},
   "outputs": [
    {
     "name": "stdout",
     "output_type": "stream",
     "text": [
      "[1, 1, 2, 3, 4, 3, 0, 0]\n",
      "[1, 2, 3, 4, 0]\n"
     ]
    }
   ],
   "source": [
    "lst = [1,1,2,3,4,3,0,0]\n",
    "new_lst =[]\n",
    "for i in lst:\n",
    "    if i not in new_lst:\n",
    "        new_lst.append(i)\n",
    "print(lst)\n",
    "print(new_lst)"
   ]
  },
  {
   "cell_type": "markdown",
   "metadata": {},
   "source": [
    "## Ex 14"
   ]
  },
  {
   "cell_type": "code",
   "execution_count": 129,
   "metadata": {},
   "outputs": [
    {
     "name": "stdout",
     "output_type": "stream",
     "text": [
      "Enter a length in feet : 5\n",
      "1.inches, 2.yards, 3.miles, 4.millimeters, 5.centimeters,6.meters, or 7.kilometers : 1\n",
      "60.0\n"
     ]
    }
   ],
   "source": [
    "feet = float(input(\"Enter a length in feet : \"))\n",
    "new_unit = int(input(\"1.inches, 2.yards, 3.miles, 4.millimeters, 5.centimeters,6.meters, or 7.kilometers : \"))\n",
    "conversion = [12,1/3,0.000189394,304.8,30.48,0.3048,0.0003048]\n",
    "print(\"%s\"%(conversion[new_unit-1]*feet))"
   ]
  },
  {
   "cell_type": "markdown",
   "metadata": {},
   "source": [
    "## Ex 15"
   ]
  },
  {
   "cell_type": "code",
   "execution_count": 156,
   "metadata": {},
   "outputs": [
    {
     "name": "stdout",
     "output_type": "stream",
     "text": [
      "Enter a message : message\n"
     ]
    },
    {
     "ename": "IndexError",
     "evalue": "string index out of range",
     "output_type": "error",
     "traceback": [
      "\u001b[1;31m---------------------------------------------------------------------------\u001b[0m",
      "\u001b[1;31mIndexError\u001b[0m                                Traceback (most recent call last)",
      "\u001b[1;32m<ipython-input-156-dd1e0395511b>\u001b[0m in \u001b[0;36m<module>\u001b[1;34m\u001b[0m\n\u001b[0;32m     30\u001b[0m         \u001b[1;32melse\u001b[0m\u001b[1;33m:\u001b[0m\u001b[1;33m\u001b[0m\u001b[1;33m\u001b[0m\u001b[0m\n\u001b[0;32m     31\u001b[0m             \u001b[0mnew_index\u001b[0m \u001b[1;33m=\u001b[0m \u001b[0mindex\u001b[0m \u001b[1;33m-\u001b[0m \u001b[0mshift\u001b[0m\u001b[1;33m[\u001b[0m\u001b[0mi\u001b[0m\u001b[1;33m]\u001b[0m\u001b[1;33m\u001b[0m\u001b[1;33m\u001b[0m\u001b[0m\n\u001b[1;32m---> 32\u001b[1;33m         \u001b[0mdecrypted_list\u001b[0m\u001b[1;33m.\u001b[0m\u001b[0mappend\u001b[0m\u001b[1;33m(\u001b[0m\u001b[0ma2z\u001b[0m\u001b[1;33m[\u001b[0m\u001b[0mnew_index\u001b[0m\u001b[1;33m]\u001b[0m\u001b[1;33m)\u001b[0m\u001b[1;33m\u001b[0m\u001b[1;33m\u001b[0m\u001b[0m\n\u001b[0m\u001b[0;32m     33\u001b[0m     \u001b[1;32melse\u001b[0m\u001b[1;33m:\u001b[0m\u001b[1;33m\u001b[0m\u001b[1;33m\u001b[0m\u001b[0m\n\u001b[0;32m     34\u001b[0m         \u001b[0mdecrypted_list\u001b[0m\u001b[1;33m.\u001b[0m\u001b[0mappend\u001b[0m\u001b[1;33m(\u001b[0m\u001b[0mafter_shift\u001b[0m\u001b[1;33m[\u001b[0m\u001b[0mi\u001b[0m\u001b[1;33m]\u001b[0m\u001b[1;33m)\u001b[0m\u001b[1;33m\u001b[0m\u001b[1;33m\u001b[0m\u001b[0m\n",
      "\u001b[1;31mIndexError\u001b[0m: string index out of range"
     ]
    }
   ],
   "source": [
    "from random import randint\n",
    "message = input(\"Enter a message : \")\n",
    "message = message.lower()\n",
    "message_list = []\n",
    "for i in message:\n",
    "    message_list.append(i)\n",
    "a2z = 'abcdefghijklmnopqrstuvwxyz'\n",
    "shift =[]\n",
    "for i in range(len(message)):\n",
    "    shift.append(randint(1,26))\n",
    "after_shift =[]\n",
    "for i in range(len(message_list)):\n",
    "    if message_list[i].isalpha():\n",
    "        index = a2z.index(message_list[i])\n",
    "        n_shift = shift[i]\n",
    "        if index + shift[i] >25:\n",
    "            new_index = index + shift[i] - 25\n",
    "        else:\n",
    "            new_index = index + shift[i]\n",
    "        after_shift.append(a2z[new_index])\n",
    "    else:\n",
    "        after_shift.append(message_list[i])\n",
    "encrypted_message = ''.join(after_shift)\n",
    "decrypted_list =[]\n",
    "for i in range(len(after_shift)):\n",
    "    if after_shift[i].isalpha():\n",
    "        index = a2z.index(after_shift[i])\n",
    "        if index + 25 >shift[i]:\n",
    "            new_index = index - shift[i] + 25\n",
    "        else:\n",
    "            new_index = index - shift[i]\n",
    "        decrypted_list.append(a2z[new_index])\n",
    "    else:\n",
    "        decrypted_list.append(after_shift[i])\n",
    "decrypted_message = ''.join(decrypted_list)\n",
    "print(\"Encrypted message is %s\"%encrypted_message)\n",
    "print(\"decrypted message is %s\"%decrypted_message)"
   ]
  },
  {
   "cell_type": "code",
   "execution_count": 157,
   "metadata": {},
   "outputs": [
    {
     "data": {
      "text/plain": [
       "29"
      ]
     },
     "execution_count": 157,
     "metadata": {},
     "output_type": "execute_result"
    }
   ],
   "source": [
    "new_index"
   ]
  },
  {
   "cell_type": "code",
   "execution_count": null,
   "metadata": {},
   "outputs": [],
   "source": []
  }
 ],
 "metadata": {
  "kernelspec": {
   "display_name": "Python 3",
   "language": "python",
   "name": "python3"
  },
  "language_info": {
   "codemirror_mode": {
    "name": "ipython",
    "version": 3
   },
   "file_extension": ".py",
   "mimetype": "text/x-python",
   "name": "python",
   "nbconvert_exporter": "python",
   "pygments_lexer": "ipython3",
   "version": "3.7.3"
  }
 },
 "nbformat": 4,
 "nbformat_minor": 2
}
