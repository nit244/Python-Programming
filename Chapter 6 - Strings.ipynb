{
 "cells": [
  {
   "cell_type": "markdown",
   "metadata": {},
   "source": [
    "# Chapter 6 - Strings"
   ]
  },
  {
   "cell_type": "markdown",
   "metadata": {},
   "source": [
    "## Ex 1"
   ]
  },
  {
   "cell_type": "code",
   "execution_count": 29,
   "metadata": {},
   "outputs": [
    {
     "name": "stdout",
     "output_type": "stream",
     "text": [
      "Enter a string :howareyou\n",
      "9\n",
      "howareyouhowareyouhowareyouhowareyouhowareyouhowareyouhowareyouhowareyouhowareyouhowareyou\n",
      "h\n",
      "howa\n",
      "you\n",
      "uoyerawoh\n",
      "y\n",
      "owareyo\n",
      "HOWAREYOU\n",
      "howereyou\n"
     ]
    }
   ],
   "source": [
    "st = input(\"Enter a string :\")\n",
    "print(len(st))\n",
    "print(st*10)\n",
    "print(st[0])\n",
    "print(st[0:4])\n",
    "print(st[(len(st)-3):len(st)+1])\n",
    "print(st[::-1])\n",
    "if len(st) >= 7:\n",
    "    print(st[6])\n",
    "else:\n",
    "    print(\"Length of string is less then 7.\")\n",
    "print(st[1:-1])\n",
    "print(st.upper())\n",
    "print(st.replace('a','e'))"
   ]
  },
  {
   "cell_type": "markdown",
   "metadata": {},
   "source": [
    "## Ex 2"
   ]
  },
  {
   "cell_type": "code",
   "execution_count": 32,
   "metadata": {},
   "outputs": [
    {
     "name": "stdout",
     "output_type": "stream",
     "text": [
      "Enter the string :how are you\n",
      "Number of words is 3\n"
     ]
    }
   ],
   "source": [
    "st = input(\"Enter the string :\")\n",
    "count = st.count(\" \")\n",
    "print(\"Number of words is %g\"%(count+1))"
   ]
  },
  {
   "cell_type": "markdown",
   "metadata": {},
   "source": [
    "## Ex 3"
   ]
  },
  {
   "cell_type": "code",
   "execution_count": 44,
   "metadata": {},
   "outputs": [
    {
     "name": "stdout",
     "output_type": "stream",
     "text": [
      "Enter formula :(8+9)+(\n",
      "Entered formula is not correct\n"
     ]
    }
   ],
   "source": [
    "formula = input(\"Enter formula :\")\n",
    "oparentheses = formula.count('(')\n",
    "cparentheses = formula.count(')')\n",
    "if oparentheses == cparentheses:\n",
    "    print(\"Entered formula is correct\")\n",
    "else:\n",
    "    print(\"Entered formula is not correct\")"
   ]
  },
  {
   "cell_type": "markdown",
   "metadata": {},
   "source": [
    "## Ex 4"
   ]
  },
  {
   "cell_type": "code",
   "execution_count": 43,
   "metadata": {},
   "outputs": [
    {
     "name": "stdout",
     "output_type": "stream",
     "text": [
      "Enter the word :hello world\n",
      "Word contains vowel/vowels.\n"
     ]
    }
   ],
   "source": [
    "st = input(\"Enter the word :\")\n",
    "flag =0\n",
    "for i in 'aeiou':\n",
    "    if i in st:\n",
    "        flag = 1\n",
    "if flag == 1:\n",
    "    print(\"Word contains vowel/vowels.\")\n",
    "else:\n",
    "    print(\"Word doesn't contains vowel/vowels.\")"
   ]
  },
  {
   "cell_type": "markdown",
   "metadata": {},
   "source": [
    "## Ex 5"
   ]
  },
  {
   "cell_type": "code",
   "execution_count": 50,
   "metadata": {},
   "outputs": [
    {
     "name": "stdout",
     "output_type": "stream",
     "text": [
      "Enter a string :Qbert\n",
      "Q*ert!!!\n"
     ]
    }
   ],
   "source": [
    "st = input(\"Enter a string :\")\n",
    "new_st = st\n",
    "new_st = new_st.replace(new_st[1],\"*\")\n",
    "new_st = new_st + \"!!!\"\n",
    "print(new_st)\n"
   ]
  },
  {
   "cell_type": "markdown",
   "metadata": {},
   "source": [
    "## Ex 6"
   ]
  },
  {
   "cell_type": "code",
   "execution_count": 54,
   "metadata": {},
   "outputs": [
    {
     "name": "stdout",
     "output_type": "stream",
     "text": [
      "Enter a string :Hello, world.\n",
      "hello world\n"
     ]
    }
   ],
   "source": [
    "s = input(\"Enter a string :\")\n",
    "s =  s.lower()\n",
    "for i in ',.':\n",
    "    s = s.replace(i,'')\n",
    "print(s)"
   ]
  },
  {
   "cell_type": "markdown",
   "metadata": {},
   "source": [
    "## Ex 7"
   ]
  },
  {
   "cell_type": "code",
   "execution_count": 1,
   "metadata": {},
   "outputs": [
    {
     "name": "stdout",
     "output_type": "stream",
     "text": [
      "Enter a word :abcddcba\n",
      "Word 'abcddcba' is a palindrome.\n"
     ]
    }
   ],
   "source": [
    "word = input(\"Enter a word :\")\n",
    "if word[::1] == word[::-1]:\n",
    "    print(\"Word '%s' is a palindrome.\"%word)\n",
    "else:\n",
    "    print(\"Word '%s' is a not palindrome.\"%word)"
   ]
  },
  {
   "cell_type": "markdown",
   "metadata": {},
   "source": [
    "## Ex 8"
   ]
  },
  {
   "cell_type": "code",
   "execution_count": 5,
   "metadata": {},
   "outputs": [
    {
     "name": "stdout",
     "output_type": "stream",
     "text": [
      "Enter number of Email Id :5\n",
      "Enter email id 9 (@student.college.edu/@prof.college.edu : a1@student.college.edu\n",
      "Enter email id 9 (@student.college.edu/@prof.college.edu : a2@student.college.edu\n",
      "Enter email id 9 (@student.college.edu/@prof.college.edu : a3@student.college.edu\n",
      "Enter email id 9 (@student.college.edu/@prof.college.edu : a4@prof.college.edu\n",
      "Enter email id 9 (@student.college.edu/@prof.college.edu : a5@student.college.edu\n",
      "Some professor addresses entered.\n"
     ]
    }
   ],
   "source": [
    "num = int(input(\"Enter number of Email Id :\"))\n",
    "flag = 0\n",
    "for i in range(num):\n",
    "    email = input(\"Enter email id 9 (@student.college.edu/@prof.college.edu : \")\n",
    "    if '@prof' in email:\n",
    "        flag = 1\n",
    "if flag == 1:\n",
    "    print(\"Some professor addresses entered.\")\n",
    "else:\n",
    "    print(\"all the addresses are student addresses\")\n",
    "          "
   ]
  },
  {
   "cell_type": "markdown",
   "metadata": {},
   "source": [
    "## Ex 9"
   ]
  },
  {
   "cell_type": "code",
   "execution_count": 7,
   "metadata": {},
   "outputs": [
    {
     "name": "stdout",
     "output_type": "stream",
     "text": [
      "Enter a number :4\n",
      "1\n",
      " 2\n",
      "  3\n",
      "   4\n"
     ]
    }
   ],
   "source": [
    "num = int(input(\"Enter a number :\"))\n",
    "for i in range(1,num+1):\n",
    "    print(' '*(i-1)+ str(i))\n",
    "          "
   ]
  },
  {
   "cell_type": "markdown",
   "metadata": {},
   "source": [
    "## Ex 10"
   ]
  },
  {
   "cell_type": "code",
   "execution_count": 8,
   "metadata": {},
   "outputs": [
    {
     "name": "stdout",
     "output_type": "stream",
     "text": [
      "Enter a string :HEY\n",
      "HH\n",
      "EE\n",
      "YY\n"
     ]
    }
   ],
   "source": [
    "s = input(\"Enter a string :\")\n",
    "for i in s:\n",
    "    print(i*2)"
   ]
  },
  {
   "cell_type": "markdown",
   "metadata": {},
   "source": [
    "## Ex 11"
   ]
  },
  {
   "cell_type": "code",
   "execution_count": 12,
   "metadata": {},
   "outputs": [
    {
     "name": "stdout",
     "output_type": "stream",
     "text": [
      "Enter a string that contains the letter a :buffalo\n",
      "buff\n",
      "lo\n"
     ]
    }
   ],
   "source": [
    "s = input(\"Enter a string that contains the letter a :\")\n",
    "new_s = s.split('a')\n",
    "for i in new_s:\n",
    "    print(i)"
   ]
  },
  {
   "cell_type": "markdown",
   "metadata": {},
   "source": [
    "## Ex 12"
   ]
  },
  {
   "cell_type": "code",
   "execution_count": 35,
   "metadata": {},
   "outputs": [
    {
     "name": "stdout",
     "output_type": "stream",
     "text": [
      "Enter a word :rhinoceros\n",
      "rHiNoCeRoS"
     ]
    }
   ],
   "source": [
    "word = input(\"Enter a word :\")\n",
    "for i in range(len(word)):\n",
    "    if i % 2 ==0:\n",
    "        print(word[i], end ='')\n",
    "    else:\n",
    "        print(word[i].upper(), end='')\n",
    "    "
   ]
  },
  {
   "cell_type": "markdown",
   "metadata": {},
   "source": [
    "## Ex 13"
   ]
  },
  {
   "cell_type": "code",
   "execution_count": 39,
   "metadata": {},
   "outputs": [
    {
     "name": "stdout",
     "output_type": "stream",
     "text": [
      "Enter first string :abcde\n",
      "Enter second string :ABCDE\n",
      "AaBbCcDdEe"
     ]
    }
   ],
   "source": [
    "s1 = input(\"Enter first string :\")\n",
    "s2 = input(\"Enter second string :\")\n",
    "if len(s1) != len(s2):\n",
    "    print(\"Length of the two strings are different.\")\n",
    "else:\n",
    "    for i in range(len(s1)):\n",
    "        print(s2[i]+s1[i], end ='')"
   ]
  },
  {
   "cell_type": "markdown",
   "metadata": {},
   "source": [
    "## Ex 14"
   ]
  },
  {
   "cell_type": "code",
   "execution_count": 42,
   "metadata": {},
   "outputs": [
    {
     "name": "stdout",
     "output_type": "stream",
     "text": [
      "Enter your name :sachin tendulkar\n",
      "Sachin Tendulkar "
     ]
    }
   ],
   "source": [
    "name = input(\"Enter your name :\")\n",
    "name_s = name.split(' ')\n",
    "for i in name_s:\n",
    "    print(i[0].upper()+i[1:len(i)+1], end = ' ')\n"
   ]
  },
  {
   "cell_type": "markdown",
   "metadata": {},
   "source": [
    "## Ex 15"
   ]
  },
  {
   "cell_type": "code",
   "execution_count": 50,
   "metadata": {},
   "outputs": [
    {
     "name": "stdout",
     "output_type": "stream",
     "text": [
      "Enter a college class :CALCULUS\n",
      "Enter an adjective :HAPPY\n",
      "Enter an activity :PLAY BASKETBALL\n",
      "CALCULUS class was really HAPPY today. We learned how to PLAY BASKETBALL today in class. I can't wait for tomorrow's class!\n"
     ]
    }
   ],
   "source": [
    "class1 = input(\"Enter a college class :\")\n",
    "adjective = input(\"Enter an adjective :\")\n",
    "activity = input(\"Enter an activity :\")\n",
    "print(\"%s class was really %s today. We learned how to \\\n",
    "%s today in class. I can't wait for tomorrow's \\\n",
    "class!\"%(class1,adjective,activity))"
   ]
  },
  {
   "cell_type": "markdown",
   "metadata": {},
   "source": [
    "## Ex 16"
   ]
  },
  {
   "cell_type": "code",
   "execution_count": 69,
   "metadata": {},
   "outputs": [
    {
     "name": "stdout",
     "output_type": "stream",
     "text": [
      "Enter name :George Washington\n",
      "\n",
      "\n",
      "Dear George Washington,\n",
      "\n",
      "I am pleased to offer you our new Platinum Plus Rewards card \n",
      "at a special introductory APR of 47.99%. George, an offer \n",
      "like this does not come along every day, so I urge you to call \n",
      "now toll-free at 1-800-314-1592. We cannot offer such a low \n",
      "rate for long, George, so call right away.\n"
     ]
    }
   ],
   "source": [
    "name = input(\"Enter name :\")\n",
    "name_s = name.split(' ')\n",
    "firstname = name_s[0]\n",
    "lastname = name_s[-1]\n",
    "print(\"\\n\\nDear %s,\\n\\\n",
    "\\nI am pleased to offer you our new Platinum Plus Rewards card \\\n",
    "\\nat a special introductory APR of 47.99%s. %s, an offer \\\n",
    "\\nlike this does not come along every day, so I urge you to call \\\n",
    "\\nnow toll-free at 1-800-314-1592. We cannot offer such a low \\\n",
    "\\nrate for long, %s, so call right away.\"%(name,'%',firstname,firstname))"
   ]
  },
  {
   "cell_type": "markdown",
   "metadata": {},
   "source": [
    "## Ex 17"
   ]
  },
  {
   "cell_type": "code",
   "execution_count": 73,
   "metadata": {},
   "outputs": [
    {
     "name": "stdout",
     "output_type": "stream",
     "text": [
      "abcdefghijklmnopqrstuvwxyz\n",
      "bcdefghijklmnopqrstuvwxyza\n",
      "cdefghijklmnopqrstuvwxyzab\n",
      "defghijklmnopqrstuvwxyzabc\n",
      "efghijklmnopqrstuvwxyzabcd\n",
      "fghijklmnopqrstuvwxyzabcde\n",
      "ghijklmnopqrstuvwxyzabcdef\n",
      "hijklmnopqrstuvwxyzabcdefg\n",
      "ijklmnopqrstuvwxyzabcdefgh\n",
      "jklmnopqrstuvwxyzabcdefghi\n",
      "klmnopqrstuvwxyzabcdefghij\n",
      "lmnopqrstuvwxyzabcdefghijk\n",
      "mnopqrstuvwxyzabcdefghijkl\n",
      "nopqrstuvwxyzabcdefghijklm\n",
      "opqrstuvwxyzabcdefghijklmn\n",
      "pqrstuvwxyzabcdefghijklmno\n",
      "qrstuvwxyzabcdefghijklmnop\n",
      "rstuvwxyzabcdefghijklmnopq\n",
      "stuvwxyzabcdefghijklmnopqr\n",
      "tuvwxyzabcdefghijklmnopqrs\n",
      "uvwxyzabcdefghijklmnopqrst\n",
      "vwxyzabcdefghijklmnopqrstu\n",
      "wxyzabcdefghijklmnopqrstuv\n",
      "xyzabcdefghijklmnopqrstuvw\n",
      "yzabcdefghijklmnopqrstuvwx\n",
      "zabcdefghijklmnopqrstuvwxy\n"
     ]
    }
   ],
   "source": [
    "s = 'abcdefghijklmnopqrstuvwxyz'\n",
    "for i in range(len(s)):\n",
    "    print(s[i:len(s)]+s[0:i])\n"
   ]
  },
  {
   "cell_type": "markdown",
   "metadata": {},
   "source": [
    "## Ex 18a"
   ]
  },
  {
   "cell_type": "code",
   "execution_count": 98,
   "metadata": {},
   "outputs": [
    {
     "name": "stdout",
     "output_type": "stream",
     "text": [
      "Enter a string :Hello\n",
      "Enter a letter :w\n",
      "Letter w is not present in the string Hello\n"
     ]
    }
   ],
   "source": [
    "s = input(\"Enter a string :\")\n",
    "letter = input(\"Enter a letter :\")\n",
    "length = len(s)\n",
    "i = 0\n",
    "flag = 0\n",
    "while length !=0:\n",
    "    if s[i] == letter:\n",
    "        flag = 1\n",
    "    i +=1\n",
    "    length -=1\n",
    "if flag == 0:\n",
    "    print(\"Letter %s is not present in the string %s\"%(letter,s))   \n",
    "else:\n",
    "    print(\"Letter %s is present in the string %s\"%(letter,s))"
   ]
  },
  {
   "cell_type": "markdown",
   "metadata": {},
   "source": [
    "## Ex 18b"
   ]
  },
  {
   "cell_type": "code",
   "execution_count": 102,
   "metadata": {},
   "outputs": [
    {
     "name": "stdout",
     "output_type": "stream",
     "text": [
      "Enter a string :Hello\n",
      "Enter a letter :l\n",
      "2\n"
     ]
    }
   ],
   "source": [
    "s = input(\"Enter a string :\")\n",
    "letter = input(\"Enter a letter :\")\n",
    "count = 0\n",
    "i =0\n",
    "length = len(s)\n",
    "while length !=0:\n",
    "    if s[i] == letter:\n",
    "        count += 1\n",
    "    i +=1\n",
    "    length -=1\n",
    "print(count)"
   ]
  },
  {
   "cell_type": "markdown",
   "metadata": {},
   "source": [
    "## Ex 18c"
   ]
  },
  {
   "cell_type": "code",
   "execution_count": 109,
   "metadata": {},
   "outputs": [
    {
     "name": "stdout",
     "output_type": "stream",
     "text": [
      "Enter a string :abcbbddc\n",
      "Enter a letter :c\n",
      "2\n"
     ]
    }
   ],
   "source": [
    "s = input(\"Enter a string :\")\n",
    "letter = input(\"Enter a letter :\")\n",
    "length = len(s)\n",
    "i = 0\n",
    "flag = 0\n",
    "while length !=0:\n",
    "    if s[i] == letter:\n",
    "        print(i)\n",
    "        break\n",
    "    i +=1\n",
    "    length -=1\n"
   ]
  },
  {
   "cell_type": "markdown",
   "metadata": {},
   "source": [
    "## Ex 19"
   ]
  },
  {
   "cell_type": "code",
   "execution_count": 111,
   "metadata": {},
   "outputs": [
    {
     "name": "stdout",
     "output_type": "stream",
     "text": [
      "Enter a large integer :13578544\n",
      "4,458,753"
     ]
    }
   ],
   "source": [
    "integer = input(\"Enter a large integer :\")\n",
    "for i in range(len(integer)-1,0,-1):\n",
    "    if i%3 ==0:\n",
    "        print(','+ integer[i],end = '')\n",
    "    else:\n",
    "        print(integer[i], end = '')\n",
    "    "
   ]
  },
  {
   "cell_type": "markdown",
   "metadata": {},
   "source": [
    "## Ex 20"
   ]
  },
  {
   "cell_type": "code",
   "execution_count": 147,
   "metadata": {},
   "outputs": [
    {
     "name": "stdout",
     "output_type": "stream",
     "text": [
      "Time: 01:02pm\n",
      "Time Zones : Eastern, Central, Mountain, or Pacific\n",
      "Starting time zone: Mountain\n",
      "Ending time zone: Pacific\n",
      "0:02pm\n"
     ]
    }
   ],
   "source": [
    "time = input(\"Time: \")\n",
    "hour = int(time[0:2])\n",
    "mins = int(time[3:5])\n",
    "am_pm = time[5:7]\n",
    "gmt = 0\n",
    "hour, mins, am_pm\n",
    "\n",
    "print(\"Time Zones : Eastern, Central, Mountain, or Pacific\")\n",
    "start_zone = input(\"Starting time zone: \")\n",
    "end_zone = input(\"Ending time zone: \")\n",
    "if start_zone == 'Eastern':\n",
    "    start_time = gmt - 5\n",
    "if start_zone == 'Central':\n",
    "    start_time = gmt - 6\n",
    "if start_zone == 'Mountain':\n",
    "    start_time = gmt - 7\n",
    "if start_zone == 'Pacific':\n",
    "    start_time = gmt - 8\n",
    "    \n",
    "if end_zone == 'Eastern':\n",
    "    end_time = gmt - 5\n",
    "if end_zone == 'Central':\n",
    "    end_time = gmt - 6\n",
    "if end_zone == 'Mountain':\n",
    "    end_time = gmt - 7\n",
    "if end_zone == 'Pacific':\n",
    "    end_time = gmt - 8\n",
    "\n",
    "if am_pm == 'am':\n",
    "    total_mins = ((hour+end_time-start_time)*60 + mins)\n",
    "    if (total_mins//60)%12 ==0:\n",
    "        new_hr = total_mins//60\n",
    "        new_mins = total_mins%60\n",
    "        if new_hr%12==0 and new_hr !=12:\n",
    "            new_am_pm = 'am'\n",
    "        else:\n",
    "            new_am_pm = 'pm'\n",
    "            new_hr = new_hr%12\n",
    "    else:\n",
    "        new_hr = (12+total_mins)//60\n",
    "        new_mins = total_mins%60\n",
    "        if new_hr%12==0 and new_hr != 12:\n",
    "            new_am_pm = 'am'\n",
    "        else:\n",
    "            new_am_pm = 'pm'\n",
    "            new_hr = new_hr%12\n",
    "        \n",
    "else:\n",
    "    total_mins = ((12 + hour+end_time-start_time)*60 + mins)\n",
    "    if (total_mins//60)%12 ==0:\n",
    "        new_hr = total_mins//60\n",
    "        new_mins = total_mins%60\n",
    "        if new_hr%12==0 and new_hr != 12:\n",
    "            new_am_pm = 'am'\n",
    "        else:\n",
    "            new_am_pm = 'pm'\n",
    "            new_hr = new_hr%12\n",
    "    else:\n",
    "        new_hr = (12+total_mins)//60\n",
    "        new_mins = total_mins%60\n",
    "        if new_hr%12==0 and new_hr != 12:\n",
    "            new_am_pm = 'am'\n",
    "        else:\n",
    "            new_am_pm = 'pm'\n",
    "            new_hr = new_hr%12\n",
    "\n",
    "if new_hr<10 and new_mins >9:\n",
    "    print(\"0%s:%s%s\"%(new_hr,new_mins,new_am_pm))   \n",
    "elif new_mins<10:\n",
    "    print(\"%s:0%s%s\"%(new_hr,new_mins,new_am_pm))  \n",
    "else:\n",
    "    print(\"%s:%s%s\"%(new_hr,new_mins,new_am_pm))  "
   ]
  },
  {
   "cell_type": "markdown",
   "metadata": {},
   "source": [
    "## Ex21 "
   ]
  },
  {
   "cell_type": "code",
   "execution_count": 207,
   "metadata": {},
   "outputs": [
    {
     "name": "stdout",
     "output_type": "stream",
     "text": [
      "Enter a word : nitesh\n",
      "New word is tenhis\n"
     ]
    }
   ],
   "source": [
    "import random\n",
    "word = input(\"Enter a word : \")\n",
    "word_list = []\n",
    "for i in range(len(word)):\n",
    "    word_list.append(word[i])\n",
    "new_list = []\n",
    "while len(new_list) != len(word_list):\n",
    "    i  = randint(0,len(word_list)-1)\n",
    "    if word_list[i] not in new_list:\n",
    "        new_list.append(word_list[i])\n",
    "print('New word is %s'%''.join(new_list))\n",
    "                       "
   ]
  },
  {
   "cell_type": "markdown",
   "metadata": {},
   "source": [
    "## Ex 22a, Ex 22b"
   ]
  },
  {
   "cell_type": "code",
   "execution_count": 244,
   "metadata": {},
   "outputs": [
    {
     "name": "stdout",
     "output_type": "stream",
     "text": [
      "Enter a message : message\n",
      "Encrepted msg : msaeesg\n",
      "Decrypted msg : message\n"
     ]
    }
   ],
   "source": [
    "msg = input(\"Enter a message : \")\n",
    "encrypted_msg = msg[0:len(msg):2] + msg[1:len(msg):2]\n",
    "decrypted_lst = []\n",
    "if len(encrypted_msg)%2==0:\n",
    "    for i in range(len(encrypted_msg)//2):\n",
    "        decrypted_lst.append(encrypted_msg[i])\n",
    "        decrypted_lst.append(encrypted_msg[len(encrypted_msg)//2+i])\n",
    "else:\n",
    "    for i in range(len(encrypted_msg)//2+1):\n",
    "        decrypted_lst.append(encrypted_msg[i])\n",
    "        if len(encrypted_msg)//2+i+1 == len(encrypted_msg):\n",
    "            break\n",
    "        decrypted_lst.append(encrypted_msg[len(encrypted_msg)//2+i+1])\n",
    "       \n",
    "decrypted_msg = ''.join(decrypted_lst)\n",
    "print(\"Encrepted msg : %s\"%encrypted_msg)\n",
    "print(\"Decrypted msg : %s\"%decrypted_msg)"
   ]
  },
  {
   "cell_type": "markdown",
   "metadata": {},
   "source": [
    "## Ex 23"
   ]
  },
  {
   "cell_type": "code",
   "execution_count": 270,
   "metadata": {},
   "outputs": [
    {
     "name": "stdout",
     "output_type": "stream",
     "text": [
      "Enter a message : secret message\n",
      "Encrepted msg : sr sgeemsectea\n",
      "Decrypted msg : secret message\n"
     ]
    }
   ],
   "source": [
    "msg = input(\"Enter a message : \")\n",
    "encrypted_msg = msg[0:len(msg):3] + msg[1:len(msg):3] + msg[2:len(msg):3]\n",
    "decrypted_lst = []\n",
    "if len(encrypted_msg)%3==0:\n",
    "    for i in range(len(encrypted_msg)//3):\n",
    "        decrypted_lst.append(encrypted_msg[i])\n",
    "        decrypted_lst.append(encrypted_msg[len(encrypted_msg)//3+i])\n",
    "        decrypted_lst.append(encrypted_msg[len(encrypted_msg)//3*2+i])\n",
    "else:\n",
    "    for i in range(len(encrypted_msg)//3+1):\n",
    "        decrypted_lst.append(encrypted_msg[i])\n",
    "        decrypted_lst.append(encrypted_msg[len(encrypted_msg)//3+i+1])\n",
    "        if len(encrypted_msg)//3*2+i+2 == len(encrypted_msg):\n",
    "            break\n",
    "        decrypted_lst.append(encrypted_msg[len(encrypted_msg)//3*2+i+2])\n",
    "decrypted_msg = ''.join(decrypted_lst)\n",
    "print(\"Encrepted msg : %s\"%encrypted_msg)\n",
    "print(\"Decrypted msg : %s\"%decrypted_msg)"
   ]
  },
  {
   "cell_type": "markdown",
   "metadata": {},
   "source": [
    "## Ex 24"
   ]
  },
  {
   "cell_type": "code",
   "execution_count": 274,
   "metadata": {},
   "outputs": [
    {
     "name": "stdout",
     "output_type": "stream",
     "text": [
      "Enter an expression(like like x^3 or x^25) : x^25\n",
      "Derivative of x^25 is 25x^24\n"
     ]
    }
   ],
   "source": [
    "ex = input(\"Enter an expression(like like x^3 or x^25) : \")\n",
    "power = int(ex[2:])\n",
    "print(\"Derivative of %s is %sx^%s\"%(ex,power,power-1))"
   ]
  },
  {
   "cell_type": "markdown",
   "metadata": {},
   "source": [
    "## Ex 25"
   ]
  },
  {
   "cell_type": "code",
   "execution_count": 291,
   "metadata": {},
   "outputs": [
    {
     "name": "stdout",
     "output_type": "stream",
     "text": [
      "Enter an algebraic expression : 7(x+5y)\n",
      "7*(*x+5*y)"
     ]
    }
   ],
   "source": [
    "ex = input(\"Enter an algebraic expression : \")\n",
    "for i in ex:\n",
    "    if i.isalpha() == True or i =='(':\n",
    "        print('*'+i, end = '')\n",
    "    else:\n",
    "        print(i,end ='')"
   ]
  }
 ],
 "metadata": {
  "kernelspec": {
   "display_name": "Python 3",
   "language": "python",
   "name": "python3"
  },
  "language_info": {
   "codemirror_mode": {
    "name": "ipython",
    "version": 3
   },
   "file_extension": ".py",
   "mimetype": "text/x-python",
   "name": "python",
   "nbconvert_exporter": "python",
   "pygments_lexer": "ipython3",
   "version": "3.7.3"
  }
 },
 "nbformat": 4,
 "nbformat_minor": 2
}
