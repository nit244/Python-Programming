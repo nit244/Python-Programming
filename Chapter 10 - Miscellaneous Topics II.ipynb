{
 "cells": [
  {
   "cell_type": "markdown",
   "metadata": {},
   "source": [
    "# Chapter 10 - Miscellaneous Topics II"
   ]
  },
  {
   "cell_type": "markdown",
   "metadata": {},
   "source": [
    "## Ex 1"
   ]
  },
  {
   "cell_type": "code",
   "execution_count": 4,
   "metadata": {},
   "outputs": [
    {
     "name": "stdout",
     "output_type": "stream",
     "text": [
      "[3, 6, 9, 12, 15, 18, 21, 24, 27, 30, 33, 36, 39, 42, 45, 48, 51, 54, 57, 60, 63, 66, 69, 72, 75, 78, 81, 84, 87, 90, 93, 96, 99]\n"
     ]
    }
   ],
   "source": [
    "lst = list()\n",
    "for i in range(3,100,3):\n",
    "    lst.append(i)\n",
    "print(lst)"
   ]
  },
  {
   "cell_type": "markdown",
   "metadata": {},
   "source": [
    "## Ex 2\n"
   ]
  },
  {
   "cell_type": "code",
   "execution_count": 6,
   "metadata": {},
   "outputs": [
    {
     "name": "stdout",
     "output_type": "stream",
     "text": [
      "Enter weight in kilograms : 12.34\n",
      "12.3 kilograms\n"
     ]
    }
   ],
   "source": [
    "weight = float(input(\"Enter weight in kilograms : \"))\n",
    "print('{:.1f} kilograms'.format(weight))"
   ]
  },
  {
   "cell_type": "markdown",
   "metadata": {},
   "source": [
    "## Ex 3"
   ]
  },
  {
   "cell_type": "code",
   "execution_count": 8,
   "metadata": {},
   "outputs": [
    {
     "name": "stdout",
     "output_type": "stream",
     "text": [
      "aaaaabbcdrr\n"
     ]
    }
   ],
   "source": [
    "a = list('abracadabra')\n",
    "x = sorted(a)\n",
    "print(''.join(x))"
   ]
  },
  {
   "cell_type": "markdown",
   "metadata": {},
   "source": [
    "## Ex 4"
   ]
  },
  {
   "cell_type": "code",
   "execution_count": 15,
   "metadata": {},
   "outputs": [
    {
     "name": "stdout",
     "output_type": "stream",
     "text": [
      "Enter the product name : Apple\n",
      "Enter the product price : 2.12\n",
      "Enter the product name : Orange\n",
      "Enter the product price : 1.33\n",
      "Enter the product name : Mango\n",
      "Enter the product price : 3.11\n",
      "Enter the product name : Papaya\n",
      "Enter the product price : .90\n",
      "Enter the product name : Kiwi\n",
      "Enter the product price : 5.29\n",
      "Enter the product name : Cherries\n",
      "Enter the product price : 1.19\n",
      "Enter the product name : Bananas\n",
      "Enter the product price : .29\n",
      "Enter the product name : Pineapple\n",
      "Enter the product price : 1.11\n",
      "Enter the product name : Pear\n",
      "Enter the product price : 1.23\n",
      "Enter the product name : Chiku\n",
      "Enter the product price : 1.13\n",
      "Apple     $ 1.89\n",
      "Orange    $ 1.18\n",
      "Mango     $ 2.77\n",
      "Papaya    $ 0.80\n",
      "Kiwi      $ 4.71\n",
      "Cherries  $ 1.06\n",
      "Bananas   $ 0.26\n",
      "Pineapple $ 0.99\n",
      "Pear      $ 1.09\n",
      "Chiku     $ 1.01\n"
     ]
    }
   ],
   "source": [
    "products = []\n",
    "prices = []\n",
    "\n",
    "for i in range(10):\n",
    "    product = input(\"Enter the product name : \")\n",
    "    price = float(input(\"Enter the product price : \"))\n",
    "    after_discount = price * .89\n",
    "    products.append(product)\n",
    "    prices.append(after_discount)\n",
    "for i in range(10):\n",
    "    print('{:10s}${:5.2f}'.format(products[i],prices[i]))"
   ]
  },
  {
   "cell_type": "markdown",
   "metadata": {},
   "source": [
    "## Ex 5"
   ]
  },
  {
   "cell_type": "code",
   "execution_count": 20,
   "metadata": {},
   "outputs": [
    {
     "name": "stdout",
     "output_type": "stream",
     "text": [
      "One    of Hearts\n",
      "One    of Diamonds\n",
      "One    of Clubs \n",
      "One    of Spades\n",
      "Two    of Hearts\n",
      "Two    of Diamonds\n",
      "Two    of Clubs \n",
      "Two    of Spades\n",
      "Three  of Hearts\n",
      "Three  of Diamonds\n",
      "Three  of Clubs \n",
      "Three  of Spades\n",
      "Four   of Hearts\n",
      "Four   of Diamonds\n",
      "Four   of Clubs \n",
      "Four   of Spades\n",
      "Five   of Hearts\n",
      "Five   of Diamonds\n",
      "Five   of Clubs \n",
      "Five   of Spades\n",
      "Six    of Hearts\n",
      "Six    of Diamonds\n",
      "Six    of Clubs \n",
      "Six    of Spades\n",
      "Seven  of Hearts\n",
      "Seven  of Diamonds\n",
      "Seven  of Clubs \n",
      "Seven  of Spades\n",
      "Eight  of Hearts\n",
      "Eight  of Diamonds\n",
      "Eight  of Clubs \n",
      "Eight  of Spades\n",
      "Nine   of Hearts\n",
      "Nine   of Diamonds\n",
      "Nine   of Clubs \n",
      "Nine   of Spades\n",
      "Ten    of Hearts\n",
      "Ten    of Diamonds\n",
      "Ten    of Clubs \n",
      "Ten    of Spades\n",
      "Jack   of Hearts\n",
      "Jack   of Diamonds\n",
      "Jack   of Clubs \n",
      "Jack   of Spades\n",
      "Queen  of Hearts\n",
      "Queen  of Diamonds\n",
      "Queen  of Clubs \n",
      "Queen  of Spades\n",
      "King   of Hearts\n",
      "King   of Diamonds\n",
      "King   of Clubs \n",
      "King   of Spades\n",
      "Ace    of Hearts\n",
      "Ace    of Diamonds\n",
      "Ace    of Clubs \n",
      "Ace    of Spades\n"
     ]
    }
   ],
   "source": [
    "suits = ['Hearts', 'Diamonds', 'Clubs', 'Spades']\n",
    "values = ['One', 'Two', 'Three', 'Four', 'Five', 'Six', 'Seven',\\\n",
    "          'Eight', 'Nine', 'Ten', 'Jack', 'Queen', 'King', 'Ace']\n",
    "for i in values:\n",
    "    for j in suits:\n",
    "        print(\"{:6s} of {:6s}\".format(i,j))"
   ]
  },
  {
   "cell_type": "markdown",
   "metadata": {},
   "source": [
    "## Ex 6"
   ]
  },
  {
   "cell_type": "code",
   "execution_count": 21,
   "metadata": {},
   "outputs": [
    {
     "name": "stdout",
     "output_type": "stream",
     "text": [
      "The two lists have atleast one item in common.\n"
     ]
    }
   ],
   "source": [
    "lst1 = [1,2,3,4,5]\n",
    "lst2 = [4,5,6,7,8,9]\n",
    "flag = 0\n",
    "for i in lst1:\n",
    "    if i in lst2:\n",
    "        flag = 1\n",
    "if flag:\n",
    "    print(\"The two lists have atleast one item in common.\")\n",
    "else:\n",
    "    print(\"The two lists have no items in common.\")"
   ]
  },
  {
   "cell_type": "markdown",
   "metadata": {},
   "source": [
    "## Ex 7"
   ]
  },
  {
   "cell_type": "code",
   "execution_count": 38,
   "metadata": {},
   "outputs": [
    {
     "name": "stdout",
     "output_type": "stream",
     "text": [
      "[1, 11, 111, 1111, 11111, 111111, 1111111, 11111111, 111111111, 1111111111, 11111111111, 111111111111, 1111111111111, 11111111111111, 111111111111111, 1111111111111111, 11111111111111111, 111111111111111111, 1111111111111111111, 11111111111111111111, 111111111111111111111, 1111111111111111111111, 11111111111111111111111, 111111111111111111111111, 1111111111111111111111111, 11111111111111111111111111, 111111111111111111111111111, 1111111111111111111111111111, 11111111111111111111111111111, 111111111111111111111111111111, 1111111111111111111111111111111, 11111111111111111111111111111111, 111111111111111111111111111111111, 1111111111111111111111111111111111, 11111111111111111111111111111111111, 111111111111111111111111111111111111, 1111111111111111111111111111111111111, 11111111111111111111111111111111111111, 111111111111111111111111111111111111111, 1111111111111111111111111111111111111111, 11111111111111111111111111111111111111111, 111111111111111111111111111111111111111111, 1111111111111111111111111111111111111111111, 11111111111111111111111111111111111111111111, 111111111111111111111111111111111111111111111, 1111111111111111111111111111111111111111111111, 11111111111111111111111111111111111111111111111, 111111111111111111111111111111111111111111111111, 1111111111111111111111111111111111111111111111111, 11111111111111111111111111111111111111111111111111, 111111111111111111111111111111111111111111111111111, 1111111111111111111111111111111111111111111111111111, 11111111111111111111111111111111111111111111111111111, 111111111111111111111111111111111111111111111111111111, 1111111111111111111111111111111111111111111111111111111, 11111111111111111111111111111111111111111111111111111111, 111111111111111111111111111111111111111111111111111111111, 1111111111111111111111111111111111111111111111111111111111, 11111111111111111111111111111111111111111111111111111111111, 111111111111111111111111111111111111111111111111111111111111, 1111111111111111111111111111111111111111111111111111111111111, 11111111111111111111111111111111111111111111111111111111111111, 111111111111111111111111111111111111111111111111111111111111111, 1111111111111111111111111111111111111111111111111111111111111111, 11111111111111111111111111111111111111111111111111111111111111111, 111111111111111111111111111111111111111111111111111111111111111111, 1111111111111111111111111111111111111111111111111111111111111111111, 11111111111111111111111111111111111111111111111111111111111111111111, 111111111111111111111111111111111111111111111111111111111111111111111, 1111111111111111111111111111111111111111111111111111111111111111111111, 11111111111111111111111111111111111111111111111111111111111111111111111, 111111111111111111111111111111111111111111111111111111111111111111111111, 1111111111111111111111111111111111111111111111111111111111111111111111111, 11111111111111111111111111111111111111111111111111111111111111111111111111, 111111111111111111111111111111111111111111111111111111111111111111111111111, 1111111111111111111111111111111111111111111111111111111111111111111111111111, 11111111111111111111111111111111111111111111111111111111111111111111111111111, 111111111111111111111111111111111111111111111111111111111111111111111111111111, 1111111111111111111111111111111111111111111111111111111111111111111111111111111, 11111111111111111111111111111111111111111111111111111111111111111111111111111111, 111111111111111111111111111111111111111111111111111111111111111111111111111111111, 1111111111111111111111111111111111111111111111111111111111111111111111111111111111, 11111111111111111111111111111111111111111111111111111111111111111111111111111111111, 111111111111111111111111111111111111111111111111111111111111111111111111111111111111, 1111111111111111111111111111111111111111111111111111111111111111111111111111111111111, 11111111111111111111111111111111111111111111111111111111111111111111111111111111111111, 111111111111111111111111111111111111111111111111111111111111111111111111111111111111111, 1111111111111111111111111111111111111111111111111111111111111111111111111111111111111111, 11111111111111111111111111111111111111111111111111111111111111111111111111111111111111111, 111111111111111111111111111111111111111111111111111111111111111111111111111111111111111111, 1111111111111111111111111111111111111111111111111111111111111111111111111111111111111111111, 11111111111111111111111111111111111111111111111111111111111111111111111111111111111111111111, 111111111111111111111111111111111111111111111111111111111111111111111111111111111111111111111, 1111111111111111111111111111111111111111111111111111111111111111111111111111111111111111111111, 11111111111111111111111111111111111111111111111111111111111111111111111111111111111111111111111, 111111111111111111111111111111111111111111111111111111111111111111111111111111111111111111111111, 1111111111111111111111111111111111111111111111111111111111111111111111111111111111111111111111111, 11111111111111111111111111111111111111111111111111111111111111111111111111111111111111111111111111, 111111111111111111111111111111111111111111111111111111111111111111111111111111111111111111111111111, 1111111111111111111111111111111111111111111111111111111111111111111111111111111111111111111111111111]\n"
     ]
    }
   ],
   "source": [
    "lst = [int('1'*i) for i in range(1,101)]\n",
    "print(lst)"
   ]
  },
  {
   "cell_type": "markdown",
   "metadata": {},
   "source": [
    "## Ex 8"
   ]
  },
  {
   "cell_type": "code",
   "execution_count": 41,
   "metadata": {},
   "outputs": [
    {
     "data": {
      "text/plain": [
       "[56, 126, 196, 266, 336, 406, 476, 546, 616, 686, 756, 826, 896, 966]"
      ]
     },
     "execution_count": 41,
     "metadata": {},
     "output_type": "execute_result"
    }
   ],
   "source": [
    "lst = [i for i in range(1,1001) if i%7==0 and i%10==6]\n",
    "lst"
   ]
  },
  {
   "cell_type": "markdown",
   "metadata": {},
   "source": [
    "## Ex 9"
   ]
  },
  {
   "cell_type": "code",
   "execution_count": 48,
   "metadata": {},
   "outputs": [
    {
     "data": {
      "text/plain": [
       "3439"
      ]
     },
     "execution_count": 48,
     "metadata": {},
     "output_type": "execute_result"
    }
   ],
   "source": [
    "sum([1 for i in range(1,10001) if '3' in str(i)])"
   ]
  },
  {
   "cell_type": "markdown",
   "metadata": {},
   "source": [
    "## Ex 11"
   ]
  },
  {
   "cell_type": "code",
   "execution_count": 63,
   "metadata": {},
   "outputs": [
    {
     "name": "stdout",
     "output_type": "stream",
     "text": [
      " 199991 and  200002\n",
      " 299992 and  300003\n",
      " 399993 and  400004\n",
      " 499994 and  500005\n",
      " 599995 and  600006\n",
      " 699996 and  700007\n",
      " 799997 and  800008\n",
      " 899998 and  900009\n"
     ]
    }
   ],
   "source": [
    "lst = [i for i in range(100000,1000000) if i == int(str(i)[::-1])]\n",
    "for i in range(len(lst)-1):\n",
    "    if lst[i+1] - lst[i] < 20:\n",
    "        print('{:7d} and {:7d}'.format(lst[i], lst[i+1]))"
   ]
  },
  {
   "cell_type": "markdown",
   "metadata": {},
   "source": [
    "## Ex 13"
   ]
  },
  {
   "cell_type": "code",
   "execution_count": 65,
   "metadata": {},
   "outputs": [
    {
     "name": "stdout",
     "output_type": "stream",
     "text": [
      "[19, 29, 39, 49, 59, 69, 79, 89, 99]\n"
     ]
    }
   ],
   "source": [
    "lst = []\n",
    "for i in range(1,100001):\n",
    "    prd = 1\n",
    "    sum1 = 0\n",
    "    for j in str(i):\n",
    "        prd *= int(j)\n",
    "        sum1 += int(j)\n",
    "    if prd + sum1 == i:\n",
    "        lst.append(i)\n",
    "print(lst)\n",
    "        \n",
    "        "
   ]
  },
  {
   "cell_type": "markdown",
   "metadata": {},
   "source": [
    "## Ex14"
   ]
  },
  {
   "cell_type": "code",
   "execution_count": 105,
   "metadata": {},
   "outputs": [
    {
     "name": "stdout",
     "output_type": "stream",
     "text": [
      "15\n"
     ]
    }
   ],
   "source": [
    "i = 11\n",
    "while (3.2 * i) > int(str(i)[1:]+str(i)[0]):\n",
    "    i +=1\n",
    "print(i)"
   ]
  },
  {
   "cell_type": "markdown",
   "metadata": {},
   "source": [
    "## Ex 15"
   ]
  },
  {
   "cell_type": "code",
   "execution_count": 117,
   "metadata": {},
   "outputs": [
    {
     "name": "stdout",
     "output_type": "stream",
     "text": [
      "249\n"
     ]
    }
   ],
   "source": [
    "i =1000\n",
    "factorial = 1\n",
    "while i != 0:\n",
    "    factorial *= i\n",
    "    i -=1\n",
    "count = 0\n",
    "while factorial%10 ==0:\n",
    "    factorial = factorial//10\n",
    "    count +=1\n",
    "print(count)   "
   ]
  },
  {
   "cell_type": "markdown",
   "metadata": {},
   "source": [
    "## Ex 16"
   ]
  },
  {
   "cell_type": "code",
   "execution_count": 120,
   "metadata": {},
   "outputs": [
    {
     "name": "stdout",
     "output_type": "stream",
     "text": [
      "Enter the height in feet : 4.75\n",
      "4 feet, 9 inches.\n"
     ]
    }
   ],
   "source": [
    "height = float(input(\"Enter the height in feet : \"))\n",
    "feet = int(height)\n",
    "inches = (height - feet) * 12\n",
    "print(\"%g feet, %g inches.\"%(feet,inches))"
   ]
  },
  {
   "cell_type": "markdown",
   "metadata": {},
   "source": [
    "## Ex 17"
   ]
  },
  {
   "cell_type": "code",
   "execution_count": 127,
   "metadata": {},
   "outputs": [
    {
     "name": "stdout",
     "output_type": "stream",
     "text": [
      "Enter the height in feet'inches\" or -1 to done entering : 3'5\"\n",
      "Enter the height in feet'inches\" or -1 to done entering : 4'11\"\n",
      "Enter the height in feet'inches\" or -1 to done entering : 6'10\"\n",
      "Enter the height in feet'inches\" or -1 to done entering : -1\n",
      "3-footer\n",
      "4-footer\n",
      "6-footer\n"
     ]
    }
   ],
   "source": [
    "height = input(\"Enter the height in feet'inches\\\" or -1 to done entering : \")\n",
    "footer = []\n",
    "while height !='-1':\n",
    "    footer.append(height[0])\n",
    "    height = input(\"Enter the height in feet'inches\\\" or -1 to done entering : \")\n",
    "for i in footer:   \n",
    "    print(\"%g-footer\"%int(i))\n",
    "    "
   ]
  },
  {
   "cell_type": "markdown",
   "metadata": {},
   "source": [
    "## Ex 18"
   ]
  },
  {
   "cell_type": "code",
   "execution_count": 150,
   "metadata": {},
   "outputs": [
    {
     "name": "stdout",
     "output_type": "stream",
     "text": [
      "Enter the score the format winning score-losing score or -1 to done entering : 23-4\n",
      "Enter the score the format winning score-losing score or -1 to done entering : 12-10\n",
      "Enter the score the format winning score-losing score or -1 to done entering : -1\n",
      "Lowest = 4, Highest = 23\n"
     ]
    }
   ],
   "source": [
    "score = input(\"Enter the score the format winning score-losing score or -1 to done entering : \")\n",
    "scores = []\n",
    "while score !='-1':\n",
    "    score = score.split('-')\n",
    "    scores.append(int(score[0]))\n",
    "    scores.append(int(score[1]))\n",
    "    score = input(\"Enter the score the format winning score-losing score or -1 to done entering : \")\n",
    "\n",
    "highest = 0\n",
    "lowest = 999\n",
    "for i in scores:\n",
    "    if i > highest:\n",
    "        highest =i\n",
    "    if i < lowest:\n",
    "        lowest =i\n",
    "print(\"Lowest = %g, Highest = %g\"%(lowest,highest))"
   ]
  },
  {
   "cell_type": "markdown",
   "metadata": {},
   "source": [
    "## Ex 19"
   ]
  },
  {
   "cell_type": "code",
   "execution_count": 166,
   "metadata": {},
   "outputs": [
    {
     "name": "stdout",
     "output_type": "stream",
     "text": [
      "Enter the birthday the format month/day or -1 to done entering : 2/25\n",
      "Enter the birthday the format month/day or -1 to done entering : 3/25\n",
      "Enter the birthday the format month/day or -1 to done entering : 2/24\n",
      "Enter the birthday the format month/day or -1 to done entering : 3/26\n",
      "Enter the birthday the format month/day or -1 to done entering : -1\n",
      "2 2\n"
     ]
    }
   ],
   "source": [
    "birthday = input(\"Enter the birthday the format month/day or -1 to done entering : \")\n",
    "dates = []\n",
    "while birthday !='-1':\n",
    "    birthday = birthday.split('/')\n",
    "    dates.append([birthday[0],birthday[1]])\n",
    "    birthday = input(\"Enter the birthday the format month/day or -1 to done entering : \")\n",
    "m_count = 0\n",
    "d_count =0\n",
    "for i in dates:\n",
    "    if i[1] == '25':\n",
    "        d_count +=1\n",
    "    if i[0] == '2' or i[1] == '02':\n",
    "        m_count +=1\n",
    "print(m_count, d_count)"
   ]
  },
  {
   "cell_type": "markdown",
   "metadata": {},
   "source": [
    "## Ex 20"
   ]
  },
  {
   "cell_type": "code",
   "execution_count": 174,
   "metadata": {},
   "outputs": [
    {
     "name": "stdout",
     "output_type": "stream",
     "text": [
      "Enter a date in the format mm/dd/yy : 11/05/89\n",
      "November 5, 1989.\n"
     ]
    }
   ],
   "source": [
    "months = ['January', 'February', 'March', 'April', 'May', 'June', 'July', 'August', 'September', 'October', 'November', 'December']\n",
    "date = input(\"Enter a date in the format mm/dd/yy : \")\n",
    "day = int(date[3:5])\n",
    "month = int(date[0:2])\n",
    "year = int(date[6:8])\n",
    "print('%s %g, 19%g.'%(months[month-1],day,year))\n"
   ]
  },
  {
   "cell_type": "markdown",
   "metadata": {},
   "source": [
    "## Ex 21"
   ]
  },
  {
   "cell_type": "code",
   "execution_count": 179,
   "metadata": {},
   "outputs": [
    {
     "name": "stdout",
     "output_type": "stream",
     "text": [
      "Enter a fraction in the form of a string(Ex: 4/16 ) : 6/15\n",
      "2/5\n"
     ]
    }
   ],
   "source": [
    "fraction = input(\"Enter a fraction in the form of a string(Ex: 4/16 ) : \")\n",
    "fraction = fraction.split('/')\n",
    "num1 = int(fraction[0])\n",
    "den1 = int(fraction[1])\n",
    "\n",
    "num = num1\n",
    "den = den1\n",
    "while num != 0:\n",
    "    rem = den//num\n",
    "    den = num\n",
    "    num = rem\n",
    "print('%g/%g'%(num1//den,den1/den))"
   ]
  },
  {
   "cell_type": "code",
   "execution_count": null,
   "metadata": {},
   "outputs": [],
   "source": []
  }
 ],
 "metadata": {
  "kernelspec": {
   "display_name": "Python 3",
   "language": "python",
   "name": "python3"
  },
  "language_info": {
   "codemirror_mode": {
    "name": "ipython",
    "version": 3
   },
   "file_extension": ".py",
   "mimetype": "text/x-python",
   "name": "python",
   "nbconvert_exporter": "python",
   "pygments_lexer": "ipython3",
   "version": "3.7.3"
  }
 },
 "nbformat": 4,
 "nbformat_minor": 2
}
